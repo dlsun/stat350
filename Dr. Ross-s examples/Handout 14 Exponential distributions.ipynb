{
 "cells": [
  {
   "cell_type": "code",
   "execution_count": 1,
   "metadata": {
    "collapsed": true
   },
   "outputs": [],
   "source": [
    "from symbulate import *\n",
    "%matplotlib inline"
   ]
  },
  {
   "cell_type": "markdown",
   "metadata": {},
   "source": [
    "## Exercise 14.1"
   ]
  },
  {
   "cell_type": "code",
   "execution_count": 2,
   "metadata": {},
   "outputs": [
    {
     "data": {
      "image/png": "[encoded data removed]",
      "text/plain": [
       "<matplotlib.figure.Figure at 0x918c208>"
      ]
     },
     "metadata": {},
     "output_type": "display_data"
    }
   ],
   "source": [
    "Exponential(rate=2).plot()"
   ]
  },
  {
   "cell_type": "code",
   "execution_count": 3,
   "metadata": {},
   "outputs": [
    {
     "data": {
      "text/plain": [
       "0.0024787521766663767"
      ]
     },
     "execution_count": 3,
     "metadata": {},
     "output_type": "execute_result"
    }
   ],
   "source": [
    "1 - Exponential(rate=2).cdf(3)"
   ]
  },
  {
   "cell_type": "code",
   "execution_count": 4,
   "metadata": {},
   "outputs": [
    {
     "data": {
      "text/html": [
       "\n",
       "    <table>\n",
       "      <thead>\n",
       "        <th width=\"10%\">Index</th>\n",
       "        <th width=\"90%\">Result</th>\n",
       "      </thead>\n",
       "      <tbody>\n",
       "        \n",
       "        <tr>\n",
       "          <td>0</td><td>0.21146569369037765</td>\n",
       "        </tr>\n",
       "        \n",
       "        <tr>\n",
       "          <td>1</td><td>0.3836467092207324</td>\n",
       "        </tr>\n",
       "        \n",
       "        <tr>\n",
       "          <td>2</td><td>0.031666627250596886</td>\n",
       "        </tr>\n",
       "        \n",
       "        <tr>\n",
       "          <td>3</td><td>0.18901101870075898</td>\n",
       "        </tr>\n",
       "        \n",
       "        <tr>\n",
       "          <td>4</td><td>0.08886557207890045</td>\n",
       "        </tr>\n",
       "        \n",
       "        <tr>\n",
       "          <td>5</td><td>0.6413170562093964</td>\n",
       "        </tr>\n",
       "        \n",
       "        <tr>\n",
       "          <td>6</td><td>0.7977758693594641</td>\n",
       "        </tr>\n",
       "        \n",
       "        <tr>\n",
       "          <td>7</td><td>1.4931697016730616</td>\n",
       "        </tr>\n",
       "        \n",
       "        <tr>\n",
       "          <td>8</td><td>0.2924053037042268</td>\n",
       "        </tr>\n",
       "        <tr><td>...</td><td>...</td></tr>\n",
       "        <tr>\n",
       "          <td>9999</td><td>0.1562007161400181</td>\n",
       "        </tr>\n",
       "        \n",
       "      </tbody>\n",
       "    </table>\n",
       "    "
      ],
      "text/plain": [
       "[0.21146569369037765,\n",
       " 0.3836467092207324,\n",
       " 0.031666627250596886,\n",
       " 0.18901101870075898,\n",
       " 0.08886557207890045,\n",
       " 0.6413170562093964,\n",
       " 0.7977758693594641,\n",
       " 1.4931697016730616,\n",
       " 0.2924053037042268,\n",
       " 0.06677135326654074,\n",
       " 0.5897654881613466,\n",
       " 0.3296458992412065,\n",
       " 0.00927918688472544,\n",
       " 0.1285516096597901,\n",
       " 0.4826517172172044,\n",
       " 0.03573915978519122,\n",
       " 0.1985978704522508,\n",
       " 0.10791753669198578,\n",
       " 0.2709250314364593,\n",
       " 1.5199658047481743,\n",
       " 0.5793738948786145,\n",
       " 0.015593444892835425,\n",
       " 0.03083627696607837,\n",
       " 0.15721695276809028,\n",
       " 0.008656374472573376,\n",
       " 0.13137649873872181,\n",
       " 0.16834236654232135,\n",
       " 0.20126385253027332,\n",
       " 0.19062884808313102,\n",
       " 0.16640677260317016,\n",
       " 0.0837937858896108,\n",
       " 0.837463823273367,\n",
       " 0.18164064925464418,\n",
       " 0.7613880694101702,\n",
       " 0.2563509104373329,\n",
       " 0.13062955574518229,\n",
       " 0.2531652341334739,\n",
       " 0.6609505375669453,\n",
       " 1.2212666534752867,\n",
       " 0.7349917095160933,\n",
       " 0.6550106295222063,\n",
       " 0.0015410127273240534,\n",
       " 0.7255452673655104,\n",
       " 0.2319694289432889,\n",
       " 0.672530825727739,\n",
       " 0.231305425227106,\n",
       " 0.08087074635957309,\n",
       " 0.9922850198246216,\n",
       " 0.8261445692942083,\n",
       " 0.19813473771030105,\n",
       " 1.182160218077672,\n",
       " 0.5695741041436982,\n",
       " 0.7584260482338175,\n",
       " 0.38187626290742005,\n",
       " 0.015757754301799563,\n",
       " 0.05262531343480225,\n",
       " 0.30550664287660945,\n",
       " 0.11565452959156289,\n",
       " 0.23376255715308147,\n",
       " 0.8283000447831255,\n",
       " 0.8191254949553719,\n",
       " 0.1307861052810827,\n",
       " 0.40780547394635625,\n",
       " 0.9925532044508626,\n",
       " 0.9722037619708209,\n",
       " 0.1102917074166104,\n",
       " 1.0134021761539174,\n",
       " 0.27889061187076386,\n",
       " 0.15007233570476317,\n",
       " 0.16679445862107944,\n",
       " 0.43614808730808324,\n",
       " 0.060561415888539166,\n",
       " 0.30135109368605384,\n",
       " 0.9573143144893103,\n",
       " 0.37779633698192344,\n",
       " 0.26961355867521525,\n",
       " 0.46519711289181104,\n",
       " 1.0779319950664163,\n",
       " 0.18817195458204122,\n",
       " 0.8167765601311358,\n",
       " 1.447241156740117,\n",
       " 0.3558050543276434,\n",
       " 0.2848241544958668,\n",
       " 0.2406374697833105,\n",
       " 0.03924670211344369,\n",
       " 1.545515421592153,\n",
       " 1.7660694823472365,\n",
       " 0.5520781003191391,\n",
       " 0.986629119958823,\n",
       " 0.05653635410376762,\n",
       " 0.37895396246457314,\n",
       " 0.25857422802088886,\n",
       " 0.1401492296910209,\n",
       " 0.12158759396241359,\n",
       " 0.4421836063463268,\n",
       " 0.1088002458119261,\n",
       " 0.14365568420570032,\n",
       " 0.15319694166732387,\n",
       " 0.22484168766379334,\n",
       " 0.051904544859227277,\n",
       " 0.06764897284556604,\n",
       " 0.3680718532812505,\n",
       " 0.06836490380904128,\n",
       " 0.5135851701595816,\n",
       " 0.7805456290328647,\n",
       " 2.256054016770882,\n",
       " 0.3128358421790032,\n",
       " 0.1568221629347446,\n",
       " 0.5028505930675123,\n",
       " 1.2890073133033382,\n",
       " 0.6120227798318812,\n",
       " 0.1015237909490679,\n",
       " 0.9274338733232095,\n",
       " 0.0060042585998003085,\n",
       " 1.2562249901891442,\n",
       " 0.46440943229516074,\n",
       " 0.273401969840664,\n",
       " 0.4262955866372999,\n",
       " 0.13105254550979786,\n",
       " 1.1810541265973566,\n",
       " 1.0444674076897256,\n",
       " 0.7825257289569394,\n",
       " 0.39229716946770166,\n",
       " 0.6316599239190055,\n",
       " 0.21965091570938106,\n",
       " 1.6415180100477067,\n",
       " 0.23694104520968426,\n",
       " 0.44655891933757785,\n",
       " 0.21810020111351552,\n",
       " 0.23239603001885883,\n",
       " 0.714654496626209,\n",
       " 1.045135993019442,\n",
       " 2.138010449939818,\n",
       " 0.0482721586524173,\n",
       " 0.19124343326285967,\n",
       " 1.0059799727341756,\n",
       " 0.049344901303529566,\n",
       " 1.46653534689522,\n",
       " 0.49687326981467583,\n",
       " 0.0947911029440003,\n",
       " 0.17949541600471283,\n",
       " 0.5861630340094114,\n",
       " 0.28327063832781,\n",
       " 0.11852878583691659,\n",
       " 0.217308359576695,\n",
       " 0.049131487709539005,\n",
       " 0.08248665753711294,\n",
       " 0.1050912451678503,\n",
       " 0.6690672869752029,\n",
       " 0.12124291266637922,\n",
       " 0.3743203634820812,\n",
       " 0.6626732223805456,\n",
       " 0.15059667026202675,\n",
       " 0.5489928936500444,\n",
       " 0.32982166664146123,\n",
       " 0.3596868754004315,\n",
       " 0.47654454957555925,\n",
       " 0.5926193171671551,\n",
       " 0.12605684632481493,\n",
       " 1.3824981451174314,\n",
       " 0.08361570446587573,\n",
       " 0.20751501137503847,\n",
       " 0.08261646634551226,\n",
       " 0.03122168307684342,\n",
       " 0.04619745574876982,\n",
       " 0.6171114148498016,\n",
       " 0.11863473961361283,\n",
       " 0.7826924133609588,\n",
       " 0.5666674590273775,\n",
       " 0.03596639188708847,\n",
       " 0.24228147063872696,\n",
       " 0.7962175183983904,\n",
       " 0.18985990853856533,\n",
       " 0.0827807897385779,\n",
       " 1.0522489922065381,\n",
       " 0.9928308154292985,\n",
       " 0.37707363271978855,\n",
       " 0.03299450342012784,\n",
       " 0.15174966907723422,\n",
       " 1.435322753212377,\n",
       " 0.054850045397158494,\n",
       " 0.011623605469204644,\n",
       " 0.14147672134121259,\n",
       " 2.1104071384802663,\n",
       " 0.7172214319777339,\n",
       " 0.8399590444927111,\n",
       " 1.266078983490341,\n",
       " 0.10969776530332835,\n",
       " 0.28597305788160365,\n",
       " 0.006001507353779892,\n",
       " 0.5195458008213192,\n",
       " 0.27333677320282523,\n",
       " 0.08941415088457623,\n",
       " 1.4462097893989165,\n",
       " 0.1363558556431768,\n",
       " 0.6096807248915389,\n",
       " 0.20139205036783722,\n",
       " 1.1378974301291844,\n",
       " 0.6505601854456383,\n",
       " 0.02666673733885704,\n",
       " 0.589499396795147,\n",
       " 0.05994949321804549,\n",
       " 0.2513101465056701,\n",
       " 0.18746260367754322,\n",
       " 0.10481062324101488,\n",
       " 0.33883801727467167,\n",
       " 0.0844735487147991,\n",
       " 0.0823263266637548,\n",
       " 0.3873554588628203,\n",
       " 0.05944275211923322,\n",
       " 0.2626472463256561,\n",
       " 0.17403041564558974,\n",
       " 0.9998036687928331,\n",
       " 0.0062179732761481225,\n",
       " 0.005651858849254825,\n",
       " 0.8122414633427042,\n",
       " 0.47441920900696183,\n",
       " 0.37030691828133866,\n",
       " 0.2304900429760347,\n",
       " 0.5906898006944699,\n",
       " 0.6183801579805305,\n",
       " 0.19019240198584972,\n",
       " 0.1748544491902403,\n",
       " 0.142565301357067,\n",
       " 0.9608276140578461,\n",
       " 0.5756607452180064,\n",
       " 0.20095924174466606,\n",
       " 0.421286545480263,\n",
       " 0.04547537778465529,\n",
       " 0.18774184738990193,\n",
       " 0.1808858457022376,\n",
       " 0.05668396114441156,\n",
       " 0.2563040268881793,\n",
       " 2.189810748501837,\n",
       " 0.5487378044572867,\n",
       " 1.0687384535077826,\n",
       " 1.2737490080815812,\n",
       " 0.43539692177267075,\n",
       " 0.6288745619947933,\n",
       " 0.21245201858771953,\n",
       " 0.6381612731194054,\n",
       " 0.4072358136682238,\n",
       " 2.054728367907798,\n",
       " 0.4982505643564945,\n",
       " 1.3507758966833985,\n",
       " 0.09584995323383898,\n",
       " 0.32718177623828765,\n",
       " 0.4343237291833391,\n",
       " 0.8961859355595361,\n",
       " 0.34185341968069394,\n",
       " 0.4800210820533253,\n",
       " 0.15048818634758004,\n",
       " 1.5256249497845333,\n",
       " 0.35298587981802687,\n",
       " 0.9879431667057028,\n",
       " 0.509052131966312,\n",
       " 0.27101168429808825,\n",
       " 1.017017858765712,\n",
       " 1.061044003596681,\n",
       " 0.8771550568784015,\n",
       " 0.9057756472388979,\n",
       " 0.2644172216109071,\n",
       " 0.41890056562703837,\n",
       " 0.5992306620636387,\n",
       " 1.2878868893972288,\n",
       " 0.3458161996695112,\n",
       " 0.6137775783496844,\n",
       " 0.024698168877846188,\n",
       " 0.7359947855373269,\n",
       " 0.09012075199789937,\n",
       " 0.8623881495757608,\n",
       " 0.24098882745640526,\n",
       " 0.5158180832766787,\n",
       " 0.01860393358371271,\n",
       " 0.4620052569231243,\n",
       " 0.08014549179650825,\n",
       " 0.12202986828845944,\n",
       " 0.6487849484615846,\n",
       " 0.3586391095777853,\n",
       " 0.41726202991234135,\n",
       " 0.9624294230054455,\n",
       " 0.5571759896965907,\n",
       " 0.03264213928207431,\n",
       " 0.14270209643303924,\n",
       " 1.1529191327986412,\n",
       " 0.3315834960052099,\n",
       " 1.0042470057526331,\n",
       " 0.2100306109444016,\n",
       " 0.3422974112428836,\n",
       " 0.4676712274957508,\n",
       " 0.12631227980788007,\n",
       " 0.15395861646541348,\n",
       " 0.7311832871415225,\n",
       " 0.0930624277168685,\n",
       " 0.04392832818468575,\n",
       " 0.25496321843465347,\n",
       " 0.17640625530441728,\n",
       " 0.48418270053957224,\n",
       " 0.5094181183583426,\n",
       " 1.2756403967110674,\n",
       " 0.047013737313001604,\n",
       " 0.8796222308257365,\n",
       " 0.10941761553281373,\n",
       " 0.5419455679809144,\n",
       " 0.33320682951582653,\n",
       " 0.5814883567310061,\n",
       " 0.0630986671623389,\n",
       " 0.2294822684771791,\n",
       " 0.06055047100409001,\n",
       " 0.07954420416680748,\n",
       " 0.3717415473084001,\n",
       " 0.009683478933220495,\n",
       " 0.8307426146014085,\n",
       " 0.9078316787928271,\n",
       " 0.5274986506842937,\n",
       " 0.5181911068011392,\n",
       " 1.46426830263745,\n",
       " 1.2305343759936047,\n",
       " 0.617999278451402,\n",
       " 0.12325828173859878,\n",
       " 0.8368248470955615,\n",
       " 2.371080869617645,\n",
       " 0.6070319399116164,\n",
       " 0.22268150697635625,\n",
       " 0.46886708452058684,\n",
       " 0.89131389364625,\n",
       " 1.3386968458197386,\n",
       " 0.34794734403979377,\n",
       " 0.2906568629187362,\n",
       " 0.3650178731275472,\n",
       " 0.007133262007036933,\n",
       " 0.8896627452447442,\n",
       " 0.691746575926294,\n",
       " 0.3498963534858203,\n",
       " 0.525055042851354,\n",
       " 0.960417424739076,\n",
       " 0.2692434647446462,\n",
       " 0.28581176778916034,\n",
       " 0.1417047712230987,\n",
       " 0.0783588542657391,\n",
       " 0.27407923883005686,\n",
       " 0.051965640915475245,\n",
       " 0.33383212502068427,\n",
       " 0.0906705923873743,\n",
       " 0.30597922113363996,\n",
       " 0.1923818862927311,\n",
       " 0.1126871913671762,\n",
       " 0.6047893110096983,\n",
       " 0.05473345614553634,\n",
       " 0.10401875729716259,\n",
       " 1.7522454011536153,\n",
       " 0.012267811381335519,\n",
       " 0.14821334540784337,\n",
       " 1.2137184624469723,\n",
       " 0.14091893757474305,\n",
       " 0.36976710012984476,\n",
       " 0.3219641291934863,\n",
       " 0.009767501732162885,\n",
       " 0.0910533926943989,\n",
       " 0.6613567667051308,\n",
       " 0.14045762869600367,\n",
       " 0.17364867857834107,\n",
       " 0.7627950428568575,\n",
       " 0.4400858416937336,\n",
       " 0.25451733296101203,\n",
       " 0.2887993745573687,\n",
       " 0.6706642678932065,\n",
       " 0.3412807550299079,\n",
       " 0.42885403739124217,\n",
       " 0.011440776980942683,\n",
       " 0.6825847286955943,\n",
       " 0.8537747551015539,\n",
       " 0.538280038647341,\n",
       " 0.1584417482078047,\n",
       " 0.7170061629843681,\n",
       " 0.5670528768048497,\n",
       " 0.07690922861347126,\n",
       " 0.12187326700616938,\n",
       " 0.3274042065555902,\n",
       " 1.3385654873367656,\n",
       " 0.2614973372445981,\n",
       " 0.15709978821070836,\n",
       " 0.24104398521562798,\n",
       " 0.03515802628824506,\n",
       " 1.1026717033162279,\n",
       " 0.07884165599681581,\n",
       " 0.45427312649399915,\n",
       " 0.15777542806193187,\n",
       " 1.2694492604534449,\n",
       " 0.9620817687090685,\n",
       " 0.24796655127134523,\n",
       " 0.45315636014687344,\n",
       " 0.4810591882589561,\n",
       " 0.4463014321149597,\n",
       " 0.20194298500221983,\n",
       " 0.5377740975220486,\n",
       " 0.7647493584037874,\n",
       " 0.5803440497542263,\n",
       " 0.20866847164944094,\n",
       " 0.37111327479026907,\n",
       " 0.14596269774096832,\n",
       " 0.42315678798860873,\n",
       " 0.27788159746008617,\n",
       " 0.14456868627967517,\n",
       " 1.0021269354218747,\n",
       " 0.11305651300922008,\n",
       " 0.7943797492101303,\n",
       " 1.1504650691573266,\n",
       " 1.0503782121462648,\n",
       " 0.435928485184142,\n",
       " 0.3950841950618682,\n",
       " 0.7509088035870324,\n",
       " 0.3825821484107289,\n",
       " 0.4231774772012585,\n",
       " 0.017154970944195935,\n",
       " 0.09067078413841911,\n",
       " 0.11255784564242773,\n",
       " 0.49078069908575883,\n",
       " 0.17817562079452523,\n",
       " 0.3080246482172212,\n",
       " 0.10206003394264207,\n",
       " 1.294482093607729,\n",
       " 0.28028017888083895,\n",
       " 0.48094910446608624,\n",
       " 0.354549244176174,\n",
       " 1.0894102478713619,\n",
       " 0.5156548662951536,\n",
       " 0.3554785714734886,\n",
       " 0.9043395335613567,\n",
       " 0.11094838263084904,\n",
       " 0.0006304107252021573,\n",
       " 0.03888164782361464,\n",
       " 0.30091227200175363,\n",
       " 1.5564611842254374,\n",
       " 0.07826423306838666,\n",
       " 0.4062288977384072,\n",
       " 1.6642062374473259,\n",
       " 0.34366721010167683,\n",
       " 0.1266816678279529,\n",
       " 0.02256521654877935,\n",
       " 1.234451912594248,\n",
       " 0.04877979303950147,\n",
       " 0.7749615156198459,\n",
       " 0.1845682554211428,\n",
       " 0.028379076768110374,\n",
       " 0.194833585932095,\n",
       " 0.1365076494182122,\n",
       " 0.26523194442502857,\n",
       " 0.9828639286969192,\n",
       " 0.5982735994705543,\n",
       " 0.05926366649814051,\n",
       " 0.3308841364886168,\n",
       " 0.04267371937224844,\n",
       " 0.9053654203718268,\n",
       " 0.1990442755975415,\n",
       " 0.9150088155158892,\n",
       " 0.2035505457701566,\n",
       " 1.4176836171337328,\n",
       " 0.04714823680063264,\n",
       " 0.7878036931346845,\n",
       " 0.38963594043639754,\n",
       " 0.2811280190515648,\n",
       " 0.32863321546904894,\n",
       " 0.6181969766862495,\n",
       " 1.090109326432504,\n",
       " 0.4210835865883102,\n",
       " 0.9682509274523378,\n",
       " 0.16417377101063682,\n",
       " 0.19834416710314062,\n",
       " 1.1058130037706628,\n",
       " 0.08755269881037692,\n",
       " 1.956422840872557,\n",
       " 0.7854664643271101,\n",
       " 0.2709060506033486,\n",
       " 0.06065224384256947,\n",
       " 0.01164934085937645,\n",
       " 0.1765822683403404,\n",
       " 0.2607307692011042,\n",
       " 0.17026764075157297,\n",
       " 0.05297360415736987,\n",
       " 0.002446100389069794,\n",
       " 0.215603682251864,\n",
       " 0.2165205014662632,\n",
       " 0.30243230894642215,\n",
       " 0.20211381887741908,\n",
       " 0.05103112754786836,\n",
       " 0.7631094666711505,\n",
       " 0.5198873252750423,\n",
       " 0.2540326112475368,\n",
       " 1.1015182413590532,\n",
       " 0.05082609756361932,\n",
       " 0.5601389522790743,\n",
       " 0.001027955811798575,\n",
       " 0.0727777857329497,\n",
       " 0.5663058705664843,\n",
       " 1.5063024883475662,\n",
       " 0.08892797995478126,\n",
       " 0.10523008499905757,\n",
       " 0.2936360244746998,\n",
       " 0.2558556191907762,\n",
       " 0.06865985880206817,\n",
       " 0.8671519748652845,\n",
       " 0.859948412289969,\n",
       " 1.1517801685314502,\n",
       " 0.08697056863899331,\n",
       " 0.44955602320797633,\n",
       " 1.0021803790960935,\n",
       " 0.37149996915562594,\n",
       " 0.12604935069913692,\n",
       " 0.24148230401666962,\n",
       " 0.057082685231795334,\n",
       " 0.47387245557258323,\n",
       " 0.2971764155795422,\n",
       " 0.14489632723557008,\n",
       " 1.1506211616744029,\n",
       " 0.9209370813913509,\n",
       " 0.6785492530170669,\n",
       " 0.5425215322105287,\n",
       " 0.34390570168805806,\n",
       " 2.521730871882458,\n",
       " 0.34883575471042894,\n",
       " 1.2096643766321686,\n",
       " 0.905679569432578,\n",
       " 0.280417803874454,\n",
       " 0.11913579865867722,\n",
       " 0.11208670933983195,\n",
       " 1.2880859380344982,\n",
       " 0.052403362539141025,\n",
       " 0.05460192287268452,\n",
       " 0.23608546495969365,\n",
       " 0.27453562111779795,\n",
       " 1.2271374903485628,\n",
       " 0.21669317514877628,\n",
       " 0.0028358796101714987,\n",
       " 0.1645562531765015,\n",
       " 0.10005754312652029,\n",
       " 0.6525841778679111,\n",
       " 0.12630789384137647,\n",
       " 0.3111262494563416,\n",
       " 0.15135230812766368,\n",
       " 0.15109974086176342,\n",
       " 0.24392836849766478,\n",
       " 0.4324846153392199,\n",
       " 0.4388029761485192,\n",
       " 0.3683551936505982,\n",
       " 0.5936901200357799,\n",
       " 0.1467935196118224,\n",
       " 0.9670029565555307,\n",
       " 0.4619865279372464,\n",
       " 0.0019892468016298945,\n",
       " 0.9251088107954732,\n",
       " 0.7986522567328359,\n",
       " 0.024210902152796268,\n",
       " 0.12727764175567652,\n",
       " 0.19631251850754058,\n",
       " 0.3126923414662058,\n",
       " 0.035182160892910826,\n",
       " 1.2933713930256423,\n",
       " 0.16385402472444666,\n",
       " 0.4106154472853721,\n",
       " 0.172531106802625,\n",
       " 0.49174740972158065,\n",
       " 0.11861510227591242,\n",
       " 0.4701927009145175,\n",
       " 0.035624713129532345,\n",
       " 0.07346757062772125,\n",
       " 0.5067132024047449,\n",
       " 1.8399318389510073,\n",
       " 0.4385820966935673,\n",
       " 0.4265733491983384,\n",
       " 0.40720048235705003,\n",
       " 0.46906984118862316,\n",
       " 2.489550520800846,\n",
       " 0.6919668384432818,\n",
       " 0.29118873693783387,\n",
       " 0.14316778709301245,\n",
       " 0.04247759979194107,\n",
       " 0.0643779234559018,\n",
       " 0.04881911172345304,\n",
       " 1.541957569829483,\n",
       " 0.17502464643355986,\n",
       " 0.07127294504872143,\n",
       " 0.06960343366257421,\n",
       " 0.9717277259686791,\n",
       " 0.1906116592375988,\n",
       " 0.20027553254529712,\n",
       " 0.6496227858500365,\n",
       " 1.011599348901759,\n",
       " 0.5718055260791473,\n",
       " 0.05470403497853444,\n",
       " 0.5011717533510655,\n",
       " 0.029815196258328822,\n",
       " 0.3536488844986907,\n",
       " 0.08676964282830862,\n",
       " 0.19663377277791838,\n",
       " 0.043258647740990565,\n",
       " 0.06083186847082896,\n",
       " 0.6371494710100454,\n",
       " 0.10705957659345626,\n",
       " 0.24078009134633022,\n",
       " 0.8661130966266847,\n",
       " 0.15477148042763272,\n",
       " 0.5301102175278481,\n",
       " 0.06104115445295446,\n",
       " 1.121865955862767,\n",
       " 0.5230096733512934,\n",
       " 0.5057554036428281,\n",
       " 0.4021424268696619,\n",
       " 0.4356955696012462,\n",
       " 0.14518895076921498,\n",
       " 0.6278791742365483,\n",
       " 0.3749697005610423,\n",
       " 0.3298517235160629,\n",
       " 0.5160859438785297,\n",
       " 0.47927666357811505,\n",
       " 0.2577233613165485,\n",
       " 0.7940469998830798,\n",
       " 0.01926996905833076,\n",
       " 0.5067386014639916,\n",
       " 0.2292238523595776,\n",
       " 0.04008303434014007,\n",
       " 0.5376343061484002,\n",
       " 0.27930357940268963,\n",
       " 0.4738496657501853,\n",
       " 0.35824016613058496,\n",
       " 0.23315080927864046,\n",
       " 0.34458609713807237,\n",
       " 0.7675852844108413,\n",
       " 0.17658256170052938,\n",
       " 0.3674980008497638,\n",
       " 0.05523284017005992,\n",
       " 0.3271831491352073,\n",
       " 0.4330843929695313,\n",
       " 0.006547939372663411,\n",
       " 0.3971537293491807,\n",
       " 0.1362705331296466,\n",
       " 1.9746372812133235,\n",
       " 0.9958562569192599,\n",
       " 0.07804544373055651,\n",
       " 1.266809555339105,\n",
       " 0.1218325463081872,\n",
       " 0.021934313126548713,\n",
       " 0.05749552543896974,\n",
       " 0.019566053153622098,\n",
       " 0.1269876917044945,\n",
       " 1.190725827106159,\n",
       " 0.07175508280527837,\n",
       " 0.0011623633046294773,\n",
       " 0.3406206015695038,\n",
       " 0.953253775540365,\n",
       " 0.22310928831115903,\n",
       " 0.1615362120266716,\n",
       " 0.25249332490616505,\n",
       " 0.3234756889360725,\n",
       " 0.39246730037639393,\n",
       " 0.7278705220007745,\n",
       " 0.6895786366578663,\n",
       " 0.12550781312906695,\n",
       " 0.5648052866972212,\n",
       " 3.2700570531332973,\n",
       " 1.2521461944868355,\n",
       " 0.07549427950623264,\n",
       " 0.6771433004690282,\n",
       " 0.23786199335699815,\n",
       " 0.2633057580394169,\n",
       " 0.08403351540252994,\n",
       " 0.23684550578175795,\n",
       " 0.5843198553218086,\n",
       " 0.219940480807145,\n",
       " 0.8892424411988858,\n",
       " 0.30393873064083293,\n",
       " 0.9833765535336059,\n",
       " 0.33043147006631185,\n",
       " 0.05841723370161701,\n",
       " 0.12072289354444768,\n",
       " 1.401534677877293,\n",
       " 0.241302384416229,\n",
       " 0.6717376599549695,\n",
       " 0.20234703042643218,\n",
       " 0.12033731245479196,\n",
       " 0.2750139678665251,\n",
       " 2.843696492340416,\n",
       " 0.6710733240892782,\n",
       " 0.09264275129660436,\n",
       " 1.4506413813348018,\n",
       " 1.0421344541239812,\n",
       " 0.4308222592107079,\n",
       " 0.5297087295855378,\n",
       " 0.27535560962511396,\n",
       " 0.02061722178067549,\n",
       " 0.35081365394703357,\n",
       " 0.5793687317471463,\n",
       " 0.567223567160846,\n",
       " 0.6983936470646271,\n",
       " 0.5215862905765118,\n",
       " 0.082940724925768,\n",
       " 0.43423536658217954,\n",
       " 0.2533374455208786,\n",
       " 0.18887476702215175,\n",
       " 0.04171285965397395,\n",
       " 0.737931993981595,\n",
       " 0.09010616544127953,\n",
       " 0.8214137728409122,\n",
       " 0.26098510210959136,\n",
       " 0.48616195688596264,\n",
       " 0.46362654982022034,\n",
       " 0.3065115131932856,\n",
       " 0.10492001398038991,\n",
       " 0.48299894058606163,\n",
       " 0.4891691112428449,\n",
       " 0.0038166709162475764,\n",
       " 1.4006906444618807,\n",
       " 0.5813290937313567,\n",
       " 0.7846455463141684,\n",
       " 0.2530661467167769,\n",
       " 0.25657960569757104,\n",
       " 0.4328426448754233,\n",
       " 0.3099591741647607,\n",
       " 0.5909882291638932,\n",
       " 1.317281440332057,\n",
       " 0.019131173293597155,\n",
       " 0.29905963351222803,\n",
       " 0.7957209682236793,\n",
       " 0.1651331822940541,\n",
       " 2.42976057522772,\n",
       " 0.27736013885452804,\n",
       " 0.8788277251458116,\n",
       " 0.7898665064521087,\n",
       " 0.6798031014836443,\n",
       " 0.41878339071020293,\n",
       " 0.6358789605542643,\n",
       " 0.15931643028793036,\n",
       " 0.0620001570720368,\n",
       " 0.0948534018196,\n",
       " 0.6139597519484418,\n",
       " 0.614410068849869,\n",
       " 1.7956190930717977,\n",
       " 0.19585978046153016,\n",
       " 1.1697514723493012,\n",
       " 0.02933885958799525,\n",
       " 0.16979085505248293,\n",
       " 0.2701375915210269,\n",
       " 0.03822586399752672,\n",
       " 0.05097340254102699,\n",
       " 0.021975149011636698,\n",
       " 0.13923477652971838,\n",
       " 0.13713541193226195,\n",
       " 0.000696664707029325,\n",
       " 0.00043456483625982275,\n",
       " 0.883262306661237,\n",
       " 0.15026391066147202,\n",
       " 0.3245847305893301,\n",
       " 0.3792198742198652,\n",
       " 0.07231389739675416,\n",
       " 2.299251837326151,\n",
       " 0.045650725603174326,\n",
       " 0.07886700148303707,\n",
       " 0.18636301059191981,\n",
       " 2.151408389033319,\n",
       " 0.6567213964090312,\n",
       " 1.3862338932269083,\n",
       " 0.02301355215768357,\n",
       " 0.12360518179037293,\n",
       " 0.4991440943325404,\n",
       " 0.10383249314413733,\n",
       " 0.10745831782014587,\n",
       " 0.022442132039494918,\n",
       " 0.09594779173443213,\n",
       " 0.6119657633705364,\n",
       " 0.06670753086522271,\n",
       " 1.9859575117152555,\n",
       " 0.2857599298503648,\n",
       " 0.21019720479214518,\n",
       " 0.060269655486468926,\n",
       " 0.3864297467626516,\n",
       " 0.24747189756544993,\n",
       " 0.006130167880682406,\n",
       " 0.054125177269645566,\n",
       " 0.3064831198485183,\n",
       " 0.2680820686997384,\n",
       " 1.8634750373767657,\n",
       " 0.6828734333373574,\n",
       " 0.07282503552060413,\n",
       " 0.07507796335119847,\n",
       " 0.41251547084501816,\n",
       " 0.3730053542627561,\n",
       " 0.005094032459719757,\n",
       " 0.3188039669711128,\n",
       " 0.5225414397289444,\n",
       " 3.3951398912772848,\n",
       " 0.3518848149475256,\n",
       " 0.20554243174329387,\n",
       " 0.3375731549227468,\n",
       " 0.02677201847515562,\n",
       " 0.048592946141523485,\n",
       " 1.478125559705168,\n",
       " 0.008265042825563717,\n",
       " 0.35041794188470293,\n",
       " 1.4722347338385806,\n",
       " 0.6561882478935259,\n",
       " 0.2951358159138969,\n",
       " 0.08097270744986838,\n",
       " 0.3494405800416812,\n",
       " 0.3164505750299387,\n",
       " 0.8272454960821628,\n",
       " 0.7976015122875549,\n",
       " 0.05988979327305478,\n",
       " 0.3641547375556774,\n",
       " 0.3411808133561776,\n",
       " 0.12052069421171197,\n",
       " 1.6124198562572174,\n",
       " 1.2782595865416742,\n",
       " 0.377713112498063,\n",
       " 0.10201489215268862,\n",
       " 0.8546949103593684,\n",
       " 0.9194158744414765,\n",
       " 0.06768604960070211,\n",
       " 0.10702806330106453,\n",
       " 0.46211865289098414,\n",
       " 0.11821663504236929,\n",
       " 1.6487531652358984,\n",
       " 0.9270786797695592,\n",
       " 1.694728678302068,\n",
       " 0.33836929617360406,\n",
       " 0.01776433791690935,\n",
       " 0.38283006907119044,\n",
       " 0.15990336678961561,\n",
       " 0.7227235388354354,\n",
       " 0.3805652661001296,\n",
       " 0.20116958094990725,\n",
       " 0.8641314207115223,\n",
       " 0.076866417831034,\n",
       " 1.083063006167979,\n",
       " 0.5890915270028613,\n",
       " 0.8225524396035511,\n",
       " 0.3059843295676477,\n",
       " 0.4340888766329723,\n",
       " 0.08253181629243024,\n",
       " 0.3673134486568527,\n",
       " 0.5008463414648264,\n",
       " 0.15750208855063086,\n",
       " 1.7529418792651106,\n",
       " 0.5344135309929718,\n",
       " 0.07226478979413917,\n",
       " 1.5541743144854236,\n",
       " 0.2691104730267576,\n",
       " 0.37538143538277385,\n",
       " 2.3466386253429894,\n",
       " 1.033183978323039,\n",
       " 0.0945889719066218,\n",
       " 0.37354749786358443,\n",
       " 0.504869560508698,\n",
       " 0.04163951795240439,\n",
       " 0.7125175935142402,\n",
       " 0.05506253709184382,\n",
       " 0.5540671706022221,\n",
       " 0.23826664761826366,\n",
       " 0.49832410067627736,\n",
       " 0.7465554606350235,\n",
       " 0.09889114011039779,\n",
       " 0.14512339887549697,\n",
       " 0.3404677901462637,\n",
       " 0.636778527742198,\n",
       " 0.4602347445785641,\n",
       " 0.13507698588022973,\n",
       " 0.6310950011275361,\n",
       " 0.6266256521041017,\n",
       " 0.21170928213042553,\n",
       " 0.03796245928854724,\n",
       " 0.2647337607488228,\n",
       " 0.3920357892375947,\n",
       " 0.2564144791133841,\n",
       " 0.548393203847765,\n",
       " 0.06239545842226781,\n",
       " 1.5392223498520843,\n",
       " 0.5566337165004293,\n",
       " 0.11943654208811538,\n",
       " 0.5419837682332618,\n",
       " 1.0924977257694313,\n",
       " 0.21325857673111617,\n",
       " 0.05320421174668306,\n",
       " 1.136092595957164,\n",
       " 0.3197231832805086,\n",
       " 0.3766704294516757,\n",
       " 0.5499031642926644,\n",
       " 0.2762549826866436,\n",
       " 0.9220091280110595,\n",
       " 0.3637423792530167,\n",
       " 0.0981560309895893,\n",
       " 0.009163682502220879,\n",
       " 0.29440721497653066,\n",
       " 0.9121876318634995,\n",
       " 0.743838279629516,\n",
       " 0.02890068045777767,\n",
       " 0.7392160470129712,\n",
       " 1.5507944883020994,\n",
       " 0.39571252716796,\n",
       " 0.25197708998195323,\n",
       " 0.19431362159784707,\n",
       " 0.04991375583699537,\n",
       " 0.12723919524631117,\n",
       " 0.4271518857258303,\n",
       " 0.14097319634743188,\n",
       " 0.04633528003990385,\n",
       " 0.10497046376448871,\n",
       " 0.03643709224138482,\n",
       " 0.18100260010323638,\n",
       " 0.07306785829504467,\n",
       " 0.05043523293247935,\n",
       " 0.3886398246409022,\n",
       " 0.14862841515513198,\n",
       " 0.15236721584945911,\n",
       " 0.5850158704665348,\n",
       " 0.4093739098384605,\n",
       " 0.26918465285676324,\n",
       " 0.1620379487970438,\n",
       " 0.5877533092632835,\n",
       " 0.6203443612227628,\n",
       " 0.02372947079365282,\n",
       " 0.2640344677285776,\n",
       " 0.7931559918646485,\n",
       " 0.22584271280991192,\n",
       " 0.18940911409068467,\n",
       " 0.007129773812914794,\n",
       " 0.314899842641393,\n",
       " 0.24834446781664124,\n",
       " 0.16530328101951275,\n",
       " 0.7318444192161555,\n",
       " 0.10951707625553588,\n",
       " 0.40263015094980487,\n",
       " 0.6197871700532226,\n",
       " 0.392303515057394,\n",
       " 1.3290997273671115,\n",
       " 0.7262534852245415,\n",
       " 0.10978591406727375,\n",
       " 0.11482380474568794,\n",
       " 0.27147198624824453,\n",
       " 0.8741131693997302,\n",
       " 0.18378046843594933,\n",
       " 0.27868985656752093,\n",
       " 0.3827524148291753,\n",
       " 0.0096097882829368,\n",
       " 0.33699982601040557,\n",
       " 0.04740701159011054,\n",
       " 0.5779557736435058,\n",
       " 0.16120583265188712,\n",
       " 1.7909936769584012,\n",
       " 0.1746164343401184,\n",
       " 0.6229769941932115,\n",
       " 0.15597408585000147,\n",
       " 0.17687140178078462,\n",
       " 1.1178253886882732,\n",
       " 0.34453287149452716,\n",
       " 0.14575561391490804,\n",
       " 1.8386837070257562,\n",
       " 0.03815072203138534,\n",
       " 0.09680602289641789,\n",
       " 1.5880790126263769,\n",
       " 0.5308995267371753,\n",
       " 0.5087621972497736,\n",
       " 0.05465132820620024,\n",
       " 0.0406498546553881,\n",
       " 0.011708280368967252,\n",
       " 0.9774664280635607,\n",
       " 0.44912336910881007,\n",
       " 0.7652678713913953,\n",
       " 0.016471641857293145,\n",
       " 0.06094496503942988,\n",
       " 0.07812645091403271,\n",
       " 0.24847292017023379,\n",
       " 0.33159697311536984,\n",
       " 0.16105853328541597,\n",
       " 1.4044603661267685,\n",
       " 0.6929754915226918,\n",
       " 1.2793622954466926,\n",
       " 0.3494111516661929,\n",
       " 0.7988889895976355,\n",
       " 0.16288221847138584,\n",
       " 0.45513317274588705,\n",
       " 0.02561399382475021,\n",
       " 0.750755898079519,\n",
       " 0.24936033027935678,\n",
       " 0.6018392346556377,\n",
       " 0.3935399312659848,\n",
       " 0.2311275759431068,\n",
       " 0.05499172610916922,\n",
       " 0.04465814705167253,\n",
       " 0.32649426475112564,\n",
       " 0.7941566453053873,\n",
       " 0.09500933574829415,\n",
       " 0.05196721012352227,\n",
       " 0.8253547642623059,\n",
       " 0.6059840047740152,\n",
       " 0.35978210856174736,\n",
       " 0.09799802918111324,\n",
       " 0.6097941476310402,\n",
       " 0.12686150792291592,\n",
       " 0.0869929224288993,\n",
       " 0.78672325273531,\n",
       " 0.45274252247572916,\n",
       " ...]"
      ]
     },
     "execution_count": 4,
     "metadata": {},
     "output_type": "execute_result"
    }
   ],
   "source": [
    "X = RV(Exponential(rate=2))\n",
    "x = X.sim(10000)\n",
    "x"
   ]
  },
  {
   "cell_type": "code",
   "execution_count": 5,
   "metadata": {},
   "outputs": [
    {
     "data": {
      "text/plain": [
       "0.0018"
      ]
     },
     "execution_count": 5,
     "metadata": {},
     "output_type": "execute_result"
    },
    {
     "data": {
      "image/png": "[encoded data removed]",
      "text/plain": [
       "<matplotlib.figure.Figure at 0x7f46a58>"
      ]
     },
     "metadata": {},
     "output_type": "display_data"
    }
   ],
   "source": [
    "x.plot()\n",
    "x.count_gt(3) / 10000"
   ]
  },
  {
   "cell_type": "code",
   "execution_count": 6,
   "metadata": {},
   "outputs": [
    {
     "data": {
      "text/plain": [
       "0.49677869313750761"
      ]
     },
     "execution_count": 6,
     "metadata": {},
     "output_type": "execute_result"
    }
   ],
   "source": [
    "x.mean()"
   ]
  },
  {
   "cell_type": "code",
   "execution_count": 7,
   "metadata": {},
   "outputs": [
    {
     "data": {
      "text/plain": [
       "0.24889213767459331"
      ]
     },
     "execution_count": 7,
     "metadata": {},
     "output_type": "execute_result"
    }
   ],
   "source": [
    "x.var()"
   ]
  },
  {
   "cell_type": "code",
   "execution_count": 8,
   "metadata": {},
   "outputs": [
    {
     "data": {
      "text/plain": [
       "0.49889090758861632"
      ]
     },
     "execution_count": 8,
     "metadata": {},
     "output_type": "execute_result"
    }
   ],
   "source": [
    "x.sd()"
   ]
  },
  {
   "cell_type": "code",
   "execution_count": 9,
   "metadata": {},
   "outputs": [
    {
     "data": {
      "text/plain": [
       "(30.143026811995771, 906.85230100751312, 30.113988460639238)"
      ]
     },
     "execution_count": 9,
     "metadata": {},
     "output_type": "execute_result"
    },
    {
     "data": {
      "image/png": "[encoded data removed]",
      "text/plain": [
       "<matplotlib.figure.Figure at 0x96780f0>"
      ]
     },
     "metadata": {},
     "output_type": "display_data"
    }
   ],
   "source": [
    "Y = 60*X\n",
    "y = Y.sim(10000)\n",
    "y.plot()\n",
    "y.mean(), y.var(),  y.sd()"
   ]
  },
  {
   "cell_type": "markdown",
   "metadata": {},
   "source": [
    "## Exercise 14.2"
   ]
  },
  {
   "cell_type": "code",
   "execution_count": 10,
   "metadata": {
    "collapsed": true
   },
   "outputs": [],
   "source": [
    "T1, T2, T3 = RV(Exponential(rate=1/5) ** 3)"
   ]
  },
  {
   "cell_type": "markdown",
   "metadata": {},
   "source": [
    "## a) series"
   ]
  },
  {
   "cell_type": "code",
   "execution_count": 11,
   "metadata": {},
   "outputs": [
    {
     "data": {
      "text/html": [
       "\n",
       "    <table>\n",
       "      <thead>\n",
       "        <th width=\"80%\">Outcome</th>\n",
       "        <th width=\"20%\">Value</th>\n",
       "      </thead>\n",
       "      <tbody>\n",
       "        <tr><td>False</td><td>9094</td></tr><tr><td>True</td><td>906</td></tr><tr><td><b>Total</b></td><td><b>10000</b></td></tr>\n",
       "      </tbody>\n",
       "    </table>\n",
       "    "
      ],
      "text/plain": [
       "{False: 9094, True: 906}"
      ]
     },
     "execution_count": 11,
     "metadata": {},
     "output_type": "execute_result"
    }
   ],
   "source": [
    "( (T1 > 4) & (T2 > 4) & (T3 > 4) ).sim(10000).tabulate()"
   ]
  },
  {
   "cell_type": "code",
   "execution_count": 12,
   "metadata": {},
   "outputs": [
    {
     "data": {
      "text/plain": [
       "0.09"
      ]
     },
     "execution_count": 12,
     "metadata": {},
     "output_type": "execute_result"
    },
    {
     "data": {
      "image/png": "[encoded data removed]",
      "text/plain": [
       "<matplotlib.figure.Figure at 0x97cd4e0>"
      ]
     },
     "metadata": {},
     "output_type": "display_data"
    }
   ],
   "source": [
    "P = RV(Exponential(rate=1/5) ** 3)\n",
    "T = RV(P, min)\n",
    "t = T.sim(10000)\n",
    "t.plot()\n",
    "t.count_gt(4) / 10000"
   ]
  },
  {
   "cell_type": "markdown",
   "metadata": {},
   "source": [
    "## b) parallel"
   ]
  },
  {
   "cell_type": "code",
   "execution_count": 13,
   "metadata": {},
   "outputs": [
    {
     "data": {
      "text/html": [
       "\n",
       "    <table>\n",
       "      <thead>\n",
       "        <th width=\"80%\">Outcome</th>\n",
       "        <th width=\"20%\">Value</th>\n",
       "      </thead>\n",
       "      <tbody>\n",
       "        <tr><td>False</td><td>1652</td></tr><tr><td>True</td><td>8348</td></tr><tr><td><b>Total</b></td><td><b>10000</b></td></tr>\n",
       "      </tbody>\n",
       "    </table>\n",
       "    "
      ],
      "text/plain": [
       "{False: 1652, True: 8348}"
      ]
     },
     "execution_count": 13,
     "metadata": {},
     "output_type": "execute_result"
    }
   ],
   "source": [
    "( (T1 > 4) | (T2 > 4) | (T3 > 4) ).sim(10000).tabulate() # or is \"|\" in Python\n"
   ]
  },
  {
   "cell_type": "code",
   "execution_count": 14,
   "metadata": {},
   "outputs": [
    {
     "data": {
      "text/plain": [
       "0.8335"
      ]
     },
     "execution_count": 14,
     "metadata": {},
     "output_type": "execute_result"
    },
    {
     "data": {
      "image/png": "[encoded data removed]",
      "text/plain": [
       "<matplotlib.figure.Figure at 0x977acf8>"
      ]
     },
     "metadata": {},
     "output_type": "display_data"
    }
   ],
   "source": [
    "P = RV(Exponential(rate=1/5) ** 3)\n",
    "T = RV(P, max)\n",
    "t = T.sim(10000)\n",
    "t.plot()\n",
    "t.count_gt(4) / 10000"
   ]
  },
  {
   "cell_type": "markdown",
   "metadata": {},
   "source": [
    "## Exer 14.3 - Memoryless property"
   ]
  },
  {
   "cell_type": "code",
   "execution_count": 15,
   "metadata": {},
   "outputs": [
    {
     "data": {
      "text/plain": [
       "0.048"
      ]
     },
     "execution_count": 15,
     "metadata": {},
     "output_type": "execute_result"
    },
    {
     "data": {
      "image/png": "[encoded data removed]",
      "text/plain": [
       "<matplotlib.figure.Figure at 0x9801be0>"
      ]
     },
     "metadata": {},
     "output_type": "display_data"
    }
   ],
   "source": [
    "T = RV(Exponential(rate=6))\n",
    "t = T.sim(10000)\n",
    "t.plot()\n",
    "t.count_gt(0.5) / 10000"
   ]
  },
  {
   "cell_type": "code",
   "execution_count": 16,
   "metadata": {},
   "outputs": [
    {
     "data": {
      "text/plain": [
       "0.0473"
      ]
     },
     "execution_count": 16,
     "metadata": {},
     "output_type": "execute_result"
    }
   ],
   "source": [
    "(T | (T > 1) ).sim(10000).count_gt(1.5) / 10000"
   ]
  },
  {
   "cell_type": "code",
   "execution_count": 17,
   "metadata": {},
   "outputs": [
    {
     "data": {
      "image/png": "[encoded data removed]",
      "text/plain": [
       "<matplotlib.figure.Figure at 0x9612320>"
      ]
     },
     "metadata": {},
     "output_type": "display_data"
    }
   ],
   "source": [
    "T.sim(10000).plot()\n",
    "( (T - 1) | (T > 1) ).sim(10000).plot()"
   ]
  },
  {
   "cell_type": "markdown",
   "metadata": {},
   "source": [
    "## Exer 14.3 - Exponential race"
   ]
  },
  {
   "cell_type": "code",
   "execution_count": 18,
   "metadata": {},
   "outputs": [
    {
     "data": {
      "text/plain": [
       "(0.11100996570236177, 0.11148537528122364)"
      ]
     },
     "execution_count": 18,
     "metadata": {},
     "output_type": "execute_result"
    },
    {
     "data": {
      "image/png": "[encoded data removed]",
      "text/plain": [
       "<matplotlib.figure.Figure at 0x99b4f28>"
      ]
     },
     "metadata": {},
     "output_type": "display_data"
    }
   ],
   "source": [
    "RS = RV(Exponential(rate=3) * Exponential(rate=6))\n",
    "X = RS.apply(min)\n",
    "x = X.sim(10000)\n",
    "x.plot()\n",
    "x.mean(), x.sd()"
   ]
  },
  {
   "cell_type": "code",
   "execution_count": 19,
   "metadata": {},
   "outputs": [
    {
     "data": {
      "text/html": [
       "\n",
       "    <table>\n",
       "      <thead>\n",
       "        <th width=\"80%\">Outcome</th>\n",
       "        <th width=\"20%\">Value</th>\n",
       "      </thead>\n",
       "      <tbody>\n",
       "        <tr><td>False</td><td>3399</td></tr><tr><td>True</td><td>6601</td></tr><tr><td><b>Total</b></td><td><b>10000</b></td></tr>\n",
       "      </tbody>\n",
       "    </table>\n",
       "    "
      ],
      "text/plain": [
       "{False: 3399, True: 6601}"
      ]
     },
     "execution_count": 19,
     "metadata": {},
     "output_type": "execute_result"
    }
   ],
   "source": [
    "R, S = RV(Exponential(rate=3) * Exponential(rate=6))\n",
    "(R > S).sim(10000).tabulate()"
   ]
  },
  {
   "cell_type": "markdown",
   "metadata": {},
   "source": [
    "## Exer 14.3 - Sum of independent Exponential RVs"
   ]
  },
  {
   "cell_type": "code",
   "execution_count": 20,
   "metadata": {
    "scrolled": true
   },
   "outputs": [
    {
     "data": {
      "text/plain": [
       "(0.50421172005086823, 0.085571738255456289, 0.29252647445223873)"
      ]
     },
     "execution_count": 20,
     "metadata": {},
     "output_type": "execute_result"
    }
   ],
   "source": [
    "P = Exponential(rate=6) ** 3\n",
    "X = RV(P, sum)\n",
    "x = X.sim(10000)\n",
    "x.mean(), x.var(), x.sd()"
   ]
  },
  {
   "cell_type": "code",
   "execution_count": 21,
   "metadata": {},
   "outputs": [
    {
     "data": {
      "image/png": "[encoded data removed]",
      "text/plain": [
       "<matplotlib.figure.Figure at 0x97590b8>"
      ]
     },
     "metadata": {},
     "output_type": "display_data"
    }
   ],
   "source": [
    "x.plot()"
   ]
  },
  {
   "cell_type": "code",
   "execution_count": 22,
   "metadata": {},
   "outputs": [
    {
     "data": {
      "image/png": "[encoded data removed]",
      "text/plain": [
       "<matplotlib.figure.Figure at 0x9c9ab38>"
      ]
     },
     "metadata": {},
     "output_type": "display_data"
    }
   ],
   "source": [
    "x.plot()\n",
    "Gamma(rate=6, shape=3).plot()"
   ]
  },
  {
   "cell_type": "code",
   "execution_count": null,
   "metadata": {
    "collapsed": true
   },
   "outputs": [],
   "source": []
  }
 ],
 "metadata": {
  "anaconda-cloud": {},
  "kernelspec": {
   "display_name": "Python 3",
   "language": "python",
   "name": "python3"
  },
  "language_info": {
   "codemirror_mode": {
    "name": "ipython",
    "version": 3
   },
   "file_extension": ".py",
   "mimetype": "text/x-python",
   "name": "python",
   "nbconvert_exporter": "python",
   "pygments_lexer": "ipython3",
   "version": "3.6.1"
  }
 },
 "nbformat": 4,
 "nbformat_minor": 1
}
