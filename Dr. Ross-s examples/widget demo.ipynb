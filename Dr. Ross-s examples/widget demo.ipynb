{
 "cells": [
  {
   "cell_type": "code",
   "execution_count": 1,
   "metadata": {
    "collapsed": true
   },
   "outputs": [],
   "source": [
    "from symbulate import *\n",
    "%matplotlib inline"
   ]
  },
  {
   "cell_type": "code",
   "execution_count": 3,
   "metadata": {},
   "outputs": [
    {
     "data": {
      "image/png": "[encoded data removed]",
      "text/plain": [
       "<matplotlib.figure.Figure at 0x6654748>"
      ]
     },
     "metadata": {},
     "output_type": "display_data"
    }
   ],
   "source": [
    "RV(Exponential(1)).sim(10000).plot()\n",
    "plt.xlim(0, 6)\n",
    "plt.show()"
   ]
  },
  {
   "cell_type": "markdown",
   "metadata": {},
   "source": [
    "[Look here for more on embedding animation](http://louistiao.me/posts/notebooks/embedding-matplotlib-animations-in-jupyter-notebooks/).  Can we incorporate any of this into our plots?"
   ]
  },
  {
   "cell_type": "code",
   "execution_count": 11,
   "metadata": {
    "collapsed": true
   },
   "outputs": [],
   "source": [
    "from __future__ import print_function\n",
    "from ipywidgets import interact, interactive, fixed, interact_manual\n",
    "import ipywidgets as widgets"
   ]
  },
  {
   "cell_type": "code",
   "execution_count": 5,
   "metadata": {},
   "outputs": [
    {
     "data": {
      "application/vnd.jupyter.widget-view+json": {
       "model_id": "649abaaf00594dadb00778c8145972af"
      }
     },
     "metadata": {},
     "output_type": "display_data"
    }
   ],
   "source": [
    "x = widgets.IntText(\n",
    "    value=5,\n",
    "    description='x:',\n",
    "    disabled=False\n",
    ")\n",
    "\n",
    "n = widgets.IntText(\n",
    "    value=10,\n",
    "    description='n:',\n",
    "    disabled=False\n",
    ")\n",
    "\n",
    "p = widgets.BoundedFloatText(\n",
    "    value=0.5,\n",
    "    min=0,\n",
    "    max=1,\n",
    "    step=0.01,\n",
    "    description='p:',\n",
    "    disabled=False\n",
    ")\n",
    "\n",
    "def binomial_cdf(x, n, p):\n",
    "    return Binomial(n, p).cdf(x)\n",
    "\n",
    "interact(binomial_cdf, x = x, n = n, p = p);"
   ]
  },
  {
   "cell_type": "code",
   "execution_count": 6,
   "metadata": {},
   "outputs": [
    {
     "data": {
      "application/vnd.jupyter.widget-view+json": {
       "model_id": "ed3e91848b924960920748e82b2012b0"
      }
     },
     "metadata": {},
     "output_type": "display_data"
    }
   ],
   "source": [
    "def f(x):\n",
    "    return Normal(0,1).cdf(x)\n",
    "\n",
    "interact(f, x = widgets.FloatSlider(min=-3, max=3, step=0.01, value=0));"
   ]
  },
  {
   "cell_type": "code",
   "execution_count": 7,
   "metadata": {},
   "outputs": [
    {
     "data": {
      "application/vnd.jupyter.widget-view+json": {
       "model_id": "6999480770dd4eb9a71d63ae8adae136"
      }
     },
     "metadata": {},
     "output_type": "display_data"
    }
   ],
   "source": [
    "def f(x):\n",
    "    nsim = 10000\n",
    "    return Normal(0,1).sim(nsim).count_lt(x) / nsim\n",
    "\n",
    "interact(f, x = widgets.FloatSlider(min=-3, max=3, step=0.01, value=0));"
   ]
  },
  {
   "cell_type": "code",
   "execution_count": 8,
   "metadata": {},
   "outputs": [
    {
     "data": {
      "application/vnd.jupyter.widget-view+json": {
       "model_id": "ef9ba5fc3b7f46bbbc3c6654fe3a0b90"
      }
     },
     "metadata": {},
     "output_type": "display_data"
    }
   ],
   "source": [
    "def f(mu, sigma, x):\n",
    "    return Normal(mu, sigma).cdf(x)\n",
    "\n",
    "interact(f, x = widgets.FloatSlider(min=-3, max=3, step=0.01, value=0), mu = fixed(0), sigma = fixed(1));"
   ]
  },
  {
   "cell_type": "code",
   "execution_count": 9,
   "metadata": {},
   "outputs": [
    {
     "data": {
      "application/vnd.jupyter.widget-view+json": {
       "model_id": "d5e2eb2fa22148fe8ebb8730dc0d46c8"
      }
     },
     "metadata": {},
     "output_type": "display_data"
    }
   ],
   "source": [
    "def f(mu, sigma, x):\n",
    "    return Normal(mu, sigma).cdf(x)\n",
    "\n",
    "interact(f, x = widgets.FloatSlider(min=-3, max=3, step=0.01, value=0),\n",
    "         mu = widgets.FloatSlider(min=-3, max=3, step=0.01, value=0),\n",
    "         sigma = fixed(1));"
   ]
  },
  {
   "cell_type": "code",
   "execution_count": 10,
   "metadata": {},
   "outputs": [
    {
     "data": {
      "application/vnd.jupyter.widget-view+json": {
       "model_id": "1e9cf1e1a53f4196b65266e6eff13fdf"
      }
     },
     "metadata": {},
     "output_type": "display_data"
    }
   ],
   "source": [
    "P = Exponential(1)\n",
    "\n",
    "def f(n):\n",
    "    RV(P ** n, mean).sim(10000).plot(bins = 30)\n",
    "    plt.show()\n",
    "\n",
    "interact(f, n = widgets.IntSlider(min=1, max=50, step=1, value=1), continuous_update=False);"
   ]
  },
  {
   "cell_type": "code",
   "execution_count": 15,
   "metadata": {},
   "outputs": [
    {
     "data": {
      "application/vnd.jupyter.widget-view+json": {
       "model_id": "57e5a8af3836494198968c3a63b3bc9d"
      }
     },
     "metadata": {},
     "output_type": "display_data"
    },
    {
     "data": {
      "image/png": "[encoded data removed]",
      "text/plain": [
       "<matplotlib.figure.Figure at 0xaa976d8>"
      ]
     },
     "metadata": {},
     "output_type": "display_data"
    }
   ],
   "source": [
    "P = Exponential(1)\n",
    "\n",
    "def f(n):\n",
    "    RV(P ** n, mean).sim(10000).plot(bins = 30)\n",
    "    Gamma(n, n).plot()\n",
    "    plt.show()\n",
    "\n",
    "interact(f, n = widgets.IntSlider(min=1, max=50, step=1, value=1), continuous_update=False);"
   ]
  },
  {
   "cell_type": "code",
   "execution_count": 11,
   "metadata": {},
   "outputs": [
    {
     "data": {
      "application/vnd.jupyter.widget-view+json": {
       "model_id": "a83e0028960c437baa3818fcf95d43a1"
      }
     },
     "metadata": {},
     "output_type": "display_data"
    }
   ],
   "source": [
    "#standardized\n",
    "P = Exponential(1)\n",
    "\n",
    "def f(n):\n",
    "    RV(P ** n, mean).sim(10000).standardize().plot(bins = 30)\n",
    "    plt.xlim(-4, 4)\n",
    "    Normal(0, 1).plot()\n",
    "    plt.show()\n",
    "\n",
    "interact(f, n = widgets.IntSlider(min=1, max=50, step=1, value=1), continuous_update=False);"
   ]
  },
  {
   "cell_type": "code",
   "execution_count": 14,
   "metadata": {},
   "outputs": [
    {
     "data": {
      "application/vnd.jupyter.widget-view+json": {
       "model_id": "ab8ebfda17eb4a598dc400cec07b7c2b"
      }
     },
     "metadata": {},
     "output_type": "display_data"
    }
   ],
   "source": [
    "play = widgets.Play(\n",
    "#     interval=10,\n",
    "    value=1,\n",
    "    min=1,\n",
    "    max=50,\n",
    "    step=1,\n",
    "    description=\"Press play\",\n",
    "    disabled=False\n",
    ")\n",
    "slider = widgets.IntSlider()\n",
    "widgets.jslink((play, 'value'), (slider, 'value'))\n",
    "widgets.HBox([play, slider])"
   ]
  },
  {
   "cell_type": "code",
   "execution_count": 13,
   "metadata": {},
   "outputs": [
    {
     "data": {
      "application/vnd.jupyter.widget-view+json": {
       "model_id": "970e74571df34375b82d4cda45cc8b98"
      }
     },
     "metadata": {},
     "output_type": "display_data"
    }
   ],
   "source": [
    "P = Exponential(1)\n",
    "\n",
    "def f(n):\n",
    "    RV(P ** n, mean).sim(10000).plot(bins = 30)\n",
    "    plt.show()\n",
    "\n",
    "interact(f, n = slider, continuous_update=False);"
   ]
  },
  {
   "cell_type": "code",
   "execution_count": 13,
   "metadata": {},
   "outputs": [
    {
     "ename": "NameError",
     "evalue": "name 'slider' is not defined",
     "output_type": "error",
     "traceback": [
      "\u001b[1;31m---------------------------------------------------------------------------\u001b[0m",
      "\u001b[1;31mNameError\u001b[0m                                 Traceback (most recent call last)",
      "\u001b[1;32m<ipython-input-13-b955fa5ac6a4>\u001b[0m in \u001b[0;36m<module>\u001b[1;34m()\u001b[0m\n\u001b[0;32m      7\u001b[0m     \u001b[0mplt\u001b[0m\u001b[1;33m.\u001b[0m\u001b[0mshow\u001b[0m\u001b[1;33m(\u001b[0m\u001b[1;33m)\u001b[0m\u001b[1;33m\u001b[0m\u001b[0m\n\u001b[0;32m      8\u001b[0m \u001b[1;33m\u001b[0m\u001b[0m\n\u001b[1;32m----> 9\u001b[1;33m \u001b[0minteract\u001b[0m\u001b[1;33m(\u001b[0m\u001b[0mf\u001b[0m\u001b[1;33m,\u001b[0m \u001b[0mn\u001b[0m \u001b[1;33m=\u001b[0m \u001b[0mslider\u001b[0m\u001b[1;33m,\u001b[0m \u001b[0mcontinuous_update\u001b[0m\u001b[1;33m=\u001b[0m\u001b[1;32mFalse\u001b[0m\u001b[1;33m)\u001b[0m\u001b[1;33m;\u001b[0m\u001b[1;33m\u001b[0m\u001b[0m\n\u001b[0m",
      "\u001b[1;31mNameError\u001b[0m: name 'slider' is not defined"
     ]
    }
   ],
   "source": [
    "#standardized - why not working?\n",
    "P = Exponential(1)\n",
    "\n",
    "def f(n):\n",
    "    RV(P ** n, mean).sim(10000).standardize().plot(bins = 30)\n",
    "    plt.xlim(-4, 4)\n",
    "    plt.show()\n",
    "\n",
    "interact(f, n = slider, continuous_update=False);"
   ]
  },
  {
   "cell_type": "code",
   "execution_count": 15,
   "metadata": {},
   "outputs": [
    {
     "data": {
      "application/vnd.jupyter.widget-view+json": {
       "model_id": "b66b39380851491091c7b57aa23c9613"
      }
     },
     "metadata": {},
     "output_type": "display_data"
    }
   ],
   "source": [
    "def f(mu):\n",
    "    Normal(mu,1).plot()\n",
    "    plt.show()\n",
    "\n",
    "interact(f, mu = widgets.FloatSlider(min=-3, max=3, step=0.01, value=0));"
   ]
  },
  {
   "cell_type": "markdown",
   "metadata": {},
   "source": [
    " - How to fix scale on plot - **standardize, use `plt.xlim()` **\n",
    " - How to get everything on one plot instead of multiple plots when slider is moved?  **use `plt.show()` **"
   ]
  },
  {
   "cell_type": "code",
   "execution_count": 10,
   "metadata": {},
   "outputs": [
    {
     "data": {
      "application/vnd.jupyter.widget-view+json": {
       "model_id": "6915a984cd964310a911beec79719220"
      }
     },
     "metadata": {},
     "output_type": "display_data"
    },
    {
     "data": {
      "image/png": "[encoded data removed]",
      "text/plain": [
       "<matplotlib.figure.Figure at 0xc2d7dd8>"
      ]
     },
     "metadata": {},
     "output_type": "display_data"
    }
   ],
   "source": [
    "import matplotlib.pyplot as plt\n",
    "\n",
    "P = Exponential(1)\n",
    "\n",
    "def f(n):\n",
    "    x = RV(P ** n, mean).sim(10000)\n",
    "    plt.hist(x, bins = 30)\n",
    "    plt.xlim(0, 6)\n",
    "    plt.show()\n",
    "\n",
    "interact(f, n = widgets.IntSlider(min=1, max=20, step=1, value=1));"
   ]
  },
  {
   "cell_type": "code",
   "execution_count": 16,
   "metadata": {
    "collapsed": true
   },
   "outputs": [],
   "source": [
    "P = BoxModel([-1,1], size = inf, replace = True)  # Can simulate infinitely values\n",
    "Z = RV(P)\n",
    "X = RandomProcess(P, TimeIndex(fs=1))\n",
    "\n",
    "nmax = 30\n",
    "X[0] =  0\n",
    "for n in range(nmax):\n",
    "    X[n+1] = X[n] + Z[n]"
   ]
  },
  {
   "cell_type": "code",
   "execution_count": 17,
   "metadata": {},
   "outputs": [
    {
     "data": {
      "image/png": "[encoded data removed]",
      "text/plain": [
       "<matplotlib.figure.Figure at 0xa526f60>"
      ]
     },
     "metadata": {},
     "output_type": "display_data"
    }
   ],
   "source": [
    "X.sim(1).plot(alpha = 1,tmin = 0, tmax = 20)"
   ]
  },
  {
   "cell_type": "code",
   "execution_count": 18,
   "metadata": {},
   "outputs": [
    {
     "name": "stderr",
     "output_type": "stream",
     "text": [
      "Widget Javascript not detected.  It may not be installed or enabled properly.\n"
     ]
    },
    {
     "data": {
      "application/vnd.jupyter.widget-view+json": {
       "model_id": "c7b8a45e4bb94bc9978be20838506173"
      }
     },
     "metadata": {},
     "output_type": "display_data"
    }
   ],
   "source": [
    "play = widgets.Play(\n",
    "#     interval=10,\n",
    "    value=0,\n",
    "    min=0,\n",
    "    max=20,\n",
    "    step=1,\n",
    "    description=\"Press play\",\n",
    "    disabled=False\n",
    ")\n",
    "slider = widgets.IntSlider()\n",
    "widgets.jslink((play, 'value'), (slider, 'value'))\n",
    "widgets.HBox([play, slider])"
   ]
  },
  {
   "cell_type": "code",
   "execution_count": 19,
   "metadata": {},
   "outputs": [
    {
     "name": "stderr",
     "output_type": "stream",
     "text": [
      "Widget Javascript not detected.  It may not be installed or enabled properly.\n"
     ]
    },
    {
     "data": {
      "application/vnd.jupyter.widget-view+json": {
       "model_id": "b4fe24faa576459dba0c1fa435225e74"
      }
     },
     "metadata": {},
     "output_type": "display_data"
    }
   ],
   "source": [
    "x = X.sim(1)\n",
    "\n",
    "def f(n):\n",
    "    x.plot(alpha = 1, tmin = 0, tmax = n)\n",
    "    plt.ylim(-20, 20)\n",
    "    plt.xlim(0, 20)\n",
    "    plt.show()\n",
    "\n",
    "interact(f, n = slider, continuous_update=False);"
   ]
  },
  {
   "cell_type": "code",
   "execution_count": 20,
   "metadata": {},
   "outputs": [
    {
     "name": "stderr",
     "output_type": "stream",
     "text": [
      "Widget Javascript not detected.  It may not be installed or enabled properly.\n"
     ]
    },
    {
     "data": {
      "application/vnd.jupyter.widget-view+json": {
       "model_id": "4726b05f4c534173b8b3607267337a1e"
      }
     },
     "metadata": {},
     "output_type": "display_data"
    }
   ],
   "source": [
    "play = widgets.Play(\n",
    "#     interval=10,\n",
    "    value=0,\n",
    "    min=0,\n",
    "    max=10000,\n",
    "    step=1,\n",
    "    description=\"Press play\",\n",
    "    disabled=False\n",
    ")\n",
    "slider = widgets.IntSlider()\n",
    "widgets.jslink((play, 'value'), (slider, 'value'))\n",
    "widgets.HBox([play, slider])"
   ]
  },
  {
   "cell_type": "code",
   "execution_count": 21,
   "metadata": {},
   "outputs": [
    {
     "name": "stderr",
     "output_type": "stream",
     "text": [
      "Widget Javascript not detected.  It may not be installed or enabled properly.\n"
     ]
    },
    {
     "data": {
      "application/vnd.jupyter.widget-view+json": {
       "model_id": "76bd2824198a4e07b69e7e399b582b10"
      }
     },
     "metadata": {},
     "output_type": "display_data"
    }
   ],
   "source": [
    "N = PoissonProcess(1)\n",
    "Nt = N.sim(1)\n",
    "\n",
    "def f(t):\n",
    "    Nt.plot(alpha = 1, tmin = 0, tmax = t / 10000 * 20)\n",
    "    plt.ylim(0, 20)\n",
    "    plt.xlim(0, 20)\n",
    "    plt.show()\n",
    "\n",
    "interact(f, t = slider, continuous_update=False);\n"
   ]
  },
  {
   "cell_type": "code",
   "execution_count": null,
   "metadata": {
    "collapsed": true
   },
   "outputs": [],
   "source": [
    "N = PoissonProcess(1)\n",
    "path = N.sim(1)\n",
    "Tmax = 10\n",
    "\n",
    "for t in list(range(0, 100)):\n",
    "    path.plot(alpha = 1, tmax = t / 100 * Tmax)\n",
    "    plt.xlim(0, Tmax)"
   ]
  }
 ],
 "metadata": {
  "kernelspec": {
   "display_name": "Python 3",
   "language": "python",
   "name": "python3"
  },
  "language_info": {
   "codemirror_mode": {
    "name": "ipython",
    "version": 3
   },
   "file_extension": ".py",
   "mimetype": "text/x-python",
   "name": "python",
   "nbconvert_exporter": "python",
   "pygments_lexer": "ipython3",
   "version": "3.6.1"
  }
 },
 "nbformat": 4,
 "nbformat_minor": 2
}
