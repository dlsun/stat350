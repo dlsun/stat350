{
 "cells": [
  {
   "cell_type": "code",
   "execution_count": 1,
   "metadata": {
    "collapsed": true
   },
   "outputs": [],
   "source": [
    "from symbulate import *\n",
    "%matplotlib inline"
   ]
  },
  {
   "cell_type": "markdown",
   "metadata": {},
   "source": [
    "## Exercise 7.1"
   ]
  },
  {
   "cell_type": "code",
   "execution_count": 2,
   "metadata": {},
   "outputs": [
    {
     "data": {
      "text/plain": [
       "(1.5083, 0.45293110999999997, 0.67300156760590091)"
      ]
     },
     "execution_count": 2,
     "metadata": {},
     "output_type": "execute_result"
    },
    {
     "data": {
      "image/png": "[encoded data removed]",
      "text/plain": [
       "<matplotlib.figure.Figure at 0x4b116d8>"
      ]
     },
     "metadata": {},
     "output_type": "display_data"
    }
   ],
   "source": [
    "X = RV(BoxModel([1, 2, 3], probs=[0.6, 0.3, 0.1]))\n",
    "\n",
    "x = X.sim(10000)\n",
    "x.plot()\n",
    "x.mean(), x.var(), x.sd()"
   ]
  },
  {
   "cell_type": "code",
   "execution_count": 3,
   "metadata": {},
   "outputs": [
    {
     "data": {
      "text/plain": [
       "(2.9864000000000002, 1.7590150399999998, 1.3262786434230176)"
      ]
     },
     "execution_count": 3,
     "metadata": {},
     "output_type": "execute_result"
    },
    {
     "data": {
      "image/png": "[encoded data removed]",
      "text/plain": [
       "<matplotlib.figure.Figure at 0x4f5b940>"
      ]
     },
     "metadata": {},
     "output_type": "display_data"
    }
   ],
   "source": [
    "Y = 2 * X\n",
    "\n",
    "y = Y.sim(10000)\n",
    "y.plot()\n",
    "y.mean(), y.var(), y.sd()"
   ]
  },
  {
   "cell_type": "code",
   "execution_count": 4,
   "metadata": {},
   "outputs": [
    {
     "data": {
      "text/plain": [
       "(1.9896, 1.8158918399999999, 1.3475503107491014)"
      ]
     },
     "execution_count": 4,
     "metadata": {},
     "output_type": "execute_result"
    },
    {
     "data": {
      "image/png": "[encoded data removed]",
      "text/plain": [
       "<matplotlib.figure.Figure at 0x9274fd0>"
      ]
     },
     "metadata": {},
     "output_type": "display_data"
    }
   ],
   "source": [
    "Z = Y - 1\n",
    "\n",
    "z = Z.sim(10000)\n",
    "z.plot()\n",
    "z.mean(), z.var(), z.sd()"
   ]
  },
  {
   "cell_type": "markdown",
   "metadata": {},
   "source": [
    "## Exercise 7.2"
   ]
  },
  {
   "cell_type": "code",
   "execution_count": 5,
   "metadata": {
    "collapsed": true
   },
   "outputs": [],
   "source": [
    "X, Y = RV(BoxModel([0, 1, 2], probs=[0.6, 0.3, 0.1]) * BoxModel([0, 1], probs=[0.8, 0.2]))"
   ]
  },
  {
   "cell_type": "code",
   "execution_count": 6,
   "metadata": {},
   "outputs": [
    {
     "data": {
      "text/html": [
       "\n",
       "    <table>\n",
       "      <thead>\n",
       "        <th width=\"80%\">Outcome</th>\n",
       "        <th width=\"20%\">Value</th>\n",
       "      </thead>\n",
       "      <tbody>\n",
       "        <tr><td>0</td><td>0.5984</td></tr><tr><td>1</td><td>0.3024</td></tr><tr><td>2</td><td>0.0992</td></tr><tr><td><b>Total</b></td><td><b>1.0</b></td></tr>\n",
       "      </tbody>\n",
       "    </table>\n",
       "    "
      ],
      "text/plain": [
       "{0: 0.5984, 1: 0.3024, 2: 0.0992}"
      ]
     },
     "execution_count": 6,
     "metadata": {},
     "output_type": "execute_result"
    }
   ],
   "source": [
    "x = X.sim(10000)\n",
    "x.tabulate(normalize=True)"
   ]
  },
  {
   "cell_type": "code",
   "execution_count": 7,
   "metadata": {},
   "outputs": [
    {
     "data": {
      "text/html": [
       "\n",
       "    <table>\n",
       "      <thead>\n",
       "        <th width=\"80%\">Outcome</th>\n",
       "        <th width=\"20%\">Value</th>\n",
       "      </thead>\n",
       "      <tbody>\n",
       "        <tr><td>0</td><td>0.7941</td></tr><tr><td>1</td><td>0.2059</td></tr><tr><td><b>Total</b></td><td><b>1.0</b></td></tr>\n",
       "      </tbody>\n",
       "    </table>\n",
       "    "
      ],
      "text/plain": [
       "{0: 0.7941, 1: 0.2059}"
      ]
     },
     "execution_count": 7,
     "metadata": {},
     "output_type": "execute_result"
    }
   ],
   "source": [
    "y = Y.sim(10000)\n",
    "y.tabulate(normalize=True)"
   ]
  },
  {
   "cell_type": "code",
   "execution_count": 8,
   "metadata": {},
   "outputs": [
    {
     "data": {
      "text/html": [
       "\n",
       "    <table>\n",
       "      <thead>\n",
       "        <th width=\"80%\">Outcome</th>\n",
       "        <th width=\"20%\">Value</th>\n",
       "      </thead>\n",
       "      <tbody>\n",
       "        <tr><td>0</td><td>0.4917</td></tr><tr><td>1</td><td>0.3538</td></tr><tr><td>2</td><td>0.1357</td></tr><tr><td>3</td><td>0.0188</td></tr><tr><td><b>Total</b></td><td><b>1.0</b></td></tr>\n",
       "      </tbody>\n",
       "    </table>\n",
       "    "
      ],
      "text/plain": [
       "{0: 0.4917, 1: 0.3538, 2: 0.1357, 3: 0.0188}"
      ]
     },
     "execution_count": 8,
     "metadata": {},
     "output_type": "execute_result"
    },
    {
     "data": {
      "image/png": "[encoded data removed]",
      "text/plain": [
       "<matplotlib.figure.Figure at 0x9274dd8>"
      ]
     },
     "metadata": {},
     "output_type": "display_data"
    }
   ],
   "source": [
    "Z = X + Y\n",
    "z = Z.sim(10000)\n",
    "z.plot()\n",
    "z.tabulate(normalize=True)"
   ]
  },
  {
   "cell_type": "code",
   "execution_count": 9,
   "metadata": {},
   "outputs": [
    {
     "data": {
      "text/plain": [
       "(0.68159999999999998, 0.60122143999999988, 0.77538470451769936)"
      ]
     },
     "execution_count": 9,
     "metadata": {},
     "output_type": "execute_result"
    }
   ],
   "source": [
    "z.mean(), z.var(), z.sd()"
   ]
  },
  {
   "cell_type": "code",
   "execution_count": 10,
   "metadata": {},
   "outputs": [
    {
     "data": {
      "text/html": [
       "\n",
       "    <table>\n",
       "      <thead>\n",
       "        <th width=\"80%\">Outcome</th>\n",
       "        <th width=\"20%\">Value</th>\n",
       "      </thead>\n",
       "      <tbody>\n",
       "        <tr><td>-1</td><td>0.119</td></tr><tr><td>0</td><td>0.5379</td></tr><tr><td>1</td><td>0.2628</td></tr><tr><td>2</td><td>0.0803</td></tr><tr><td><b>Total</b></td><td><b>1.0</b></td></tr>\n",
       "      </tbody>\n",
       "    </table>\n",
       "    "
      ],
      "text/plain": [
       "{-1: 0.119, 0: 0.5379, 1: 0.2628, 2: 0.0803}"
      ]
     },
     "execution_count": 10,
     "metadata": {},
     "output_type": "execute_result"
    },
    {
     "data": {
      "image/png": "[encoded data removed]",
      "text/plain": [
       "<matplotlib.figure.Figure at 0x8f00d30>"
      ]
     },
     "metadata": {},
     "output_type": "display_data"
    }
   ],
   "source": [
    "W = X - Y\n",
    "w = W.sim(10000)\n",
    "w.plot()\n",
    "w.tabulate(normalize=True)"
   ]
  },
  {
   "cell_type": "code",
   "execution_count": 11,
   "metadata": {},
   "outputs": [
    {
     "data": {
      "text/plain": [
       "(0.3044, 0.6103406400000001, 0.78124300956872572)"
      ]
     },
     "execution_count": 11,
     "metadata": {},
     "output_type": "execute_result"
    }
   ],
   "source": [
    "w.mean(), w.var(), w.sd()"
   ]
  },
  {
   "cell_type": "code",
   "execution_count": null,
   "metadata": {
    "collapsed": true
   },
   "outputs": [],
   "source": []
  }
 ],
 "metadata": {
  "kernelspec": {
   "display_name": "Python 3",
   "language": "python",
   "name": "python3"
  },
  "language_info": {
   "codemirror_mode": {
    "name": "ipython",
    "version": 3
   },
   "file_extension": ".py",
   "mimetype": "text/x-python",
   "name": "python",
   "nbconvert_exporter": "python",
   "pygments_lexer": "ipython3",
   "version": "3.6.1"
  }
 },
 "nbformat": 4,
 "nbformat_minor": 2
}
