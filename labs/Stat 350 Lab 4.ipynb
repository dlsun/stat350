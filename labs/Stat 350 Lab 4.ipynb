{
 "cells": [
  {
   "cell_type": "markdown",
   "metadata": {
    "editable": false
   },
   "source": [
    "# Stat 350 Lab 4\n",
    "\n",
    "# Due Tuesday, October 17 at 11:59 PM"
   ]
  },
  {
   "cell_type": "markdown",
   "metadata": {
    "deletable": false
   },
   "source": [
    "**You are required to work on this lab with a partner. Only one member of each pair should submit the lab.**\n",
    "\n",
    "**Please type your Cal Poly IDs (e.g., kjross) below. (Double click this cell to edit.)**\n",
    "\n",
    "- Student 1 Cal Poly ID: \n",
    "- Student 2 Cal Poly ID:  "
   ]
  },
  {
   "cell_type": "markdown",
   "metadata": {
    "editable": false
   },
   "source": [
    "This Jupyter notebook provides a template for you to fill in.  Read the notebook from start to finish, completing the parts as indicated.  To run a cell, make sure the cell is highlighted by clicking on it, then press SHIFT + ENTER on your keyboard.  (Alternatively, you can click the \"play\" button in the toolbar above.)"
   ]
  },
  {
   "cell_type": "markdown",
   "metadata": {
    "editable": false
   },
   "source": [
    "In this lab you will use the Symbulate package.  You should have completed [Section 2](https://github.com/dlsun/symbulate/blob/master/tutorial/gs_rv.ipynb) of the \"Getting Started Tutorial\" and read Sections 1-4 and parts of Section 5 of the [documentation](https://dlsun.github.io/symbulate/index.html).  A few specific links to the documentation are provided below, but it will probably make more sense if you read the documentation from start to finish.  **You should Symbulate commands whenever possible.**  If you find yourself writing long blocks of Python code, you are probably doing something wrong.\n",
    "\n",
    "**Warning:** You may notice that many of the cells in this notebook are not editable. This is intentional and for your own safety. We have made these cells read-only so that you don't accidentally modify or delete them. However, you should still be able to execute the code in these cells."
   ]
  },
  {
   "cell_type": "code",
   "execution_count": null,
   "metadata": {
    "collapsed": true,
    "editable": false
   },
   "outputs": [],
   "source": [
    "from symbulate import *\n",
    "%matplotlib inline"
   ]
  },
  {
   "cell_type": "markdown",
   "metadata": {
    "editable": false
   },
   "source": [
    "# Overview\n",
    "\n",
    "Suppose that (harmless) micrometeors strike the International Space Station (ISS) at rate 1.5 per hour on average.  You will consider three models of how the strikes occur over time.\n",
    "\n",
    "  * **Model 1:** Strikes occur independently of each other, in each *minute* of time there is at most one strike, and the probability that a strike occurs in any minute is 1.5/60.  \n",
    "  * **Model 2:** Over any period of time, the number of strikes which occur has a Poisson distribution, and the numbers of strikes which occur in non-overlapping time periods are independent.\n",
    "  * **Model 3:** The time elapsed between any two strikes has an [Exponential](https://dlsun.github.io/symbulate/common_continuous.html#exponential) distribution with mean 40 minutes, and the times between strikes are independent.  "
   ]
  },
  {
   "cell_type": "markdown",
   "metadata": {
    "editable": false
   },
   "source": [
    "## Model 1\n",
    "\n",
    "Suppose that strikes occur independently of each other, in each *minute* of time there is at most one strike, and the probability that a strike occurs in any minute is 1.5/60.  (Why is 1.5/60 a reasonable value for the probability?)"
   ]
  },
  {
   "cell_type": "markdown",
   "metadata": {
    "editable": false
   },
   "source": [
    "### a)\n",
    "\n",
    "Use simulation to approximate the distribution of the number of strikes that occur in the next 3 hours.  Make a plot of the distribution, and approximate the mean and the standard deviation.  "
   ]
  },
  {
   "cell_type": "code",
   "execution_count": null,
   "metadata": {
    "autograder": {
     "comments": null,
     "id": "model1a",
     "score": null
    },
    "collapsed": true,
    "deletable": false
   },
   "outputs": [],
   "source": [
    "# Type all of your code for this problem in this cell.\n",
    "# Feel free to add additional cells for scratch work, but they will not be graded."
   ]
  },
  {
   "cell_type": "markdown",
   "metadata": {
    "editable": false
   },
   "source": [
    "### b)\n",
    "\n",
    "Approximate the probability that there are at least 8 strikes in the next 3 hours."
   ]
  },
  {
   "cell_type": "code",
   "execution_count": null,
   "metadata": {
    "autograder": {
     "comments": null,
     "id": "model1b",
     "score": null
    },
    "collapsed": true,
    "deletable": false
   },
   "outputs": [],
   "source": [
    "# Type all of your code for this problem in this cell.\n",
    "# Feel free to add additional cells for scratch work, but they will not be graded."
   ]
  },
  {
   "cell_type": "markdown",
   "metadata": {
    "editable": false
   },
   "source": [
    "## Model 2\n",
    "\n",
    "Suppose that over any period of time, the number of strikes which occur has a Poisson distribution, and the numbers of strikes which occur in non-overlapping time periods are independent."
   ]
  },
  {
   "cell_type": "markdown",
   "metadata": {
    "editable": false
   },
   "source": [
    "### a)\n",
    "\n",
    "Use simulation to approximate the distribution of the number of strikes that occur in the next 3 hours.  Make a plot of the distribution, and approximate the mean and the standard deviation. (**Hint:** Based on the rate at which meteors strike the ISS, what must the mean of the Poisson distribution be?)"
   ]
  },
  {
   "cell_type": "code",
   "execution_count": null,
   "metadata": {
    "autograder": {
     "comments": null,
     "id": "model2a",
     "score": null
    },
    "collapsed": true,
    "deletable": false
   },
   "outputs": [],
   "source": [
    "# Type all of your code for this problem in this cell.\n",
    "# Feel free to add additional cells for scratch work, but they will not be graded."
   ]
  },
  {
   "cell_type": "markdown",
   "metadata": {
    "editable": false
   },
   "source": [
    "### b)\n",
    "\n",
    "Approximate the probability that there are at least 8 strikes in the next 3 hours."
   ]
  },
  {
   "cell_type": "code",
   "execution_count": null,
   "metadata": {
    "autograder": {
     "comments": null,
     "id": "model2b",
     "score": null
    },
    "collapsed": true,
    "deletable": false
   },
   "outputs": [],
   "source": [
    "# Type all of your code for this problem in this cell.\n",
    "# Feel free to add additional cells for scratch work, but they will not be graded."
   ]
  },
  {
   "cell_type": "markdown",
   "metadata": {
    "editable": false
   },
   "source": [
    "## Model 3\n",
    "\n",
    "Now suppose that the time elapsed between any two strikes has an [Exponential](https://dlsun.github.io/symbulate/common_continuous.html#exponential) distribution with mean 40 minutes, and the times between strikes are independent. (Why is 40 minutes a reasonable value for the mean?)"
   ]
  },
  {
   "cell_type": "markdown",
   "metadata": {
    "editable": false
   },
   "source": [
    "### a)\n",
    "\n",
    "Use simulation to approximate the distribution of the number of strikes that occur in the next 3 hours. Make a plot of the distribution, and approximate the mean and the standard deviation.  \n",
    "\n",
    "(**Hint:** The exponential RVs represent the time between strikes, or _interarrival times_. Simulate infinitely many interarrival times using \n",
    "\n",
    "```\n",
    "P = Exponential(...) ** inf\n",
    "```\n",
    "\n",
    "Then, write a Python function `count_strikes_in_3_hours(...)` that takes each infinite sequence of interarrival times and returns how many strikes there were in the first 3 hours. Finally, define a random variable on the probability space `P` using your function.)"
   ]
  },
  {
   "cell_type": "code",
   "execution_count": null,
   "metadata": {
    "autograder": {
     "comments": null,
     "id": "model3a",
     "score": null
    },
    "collapsed": true,
    "deletable": false
   },
   "outputs": [],
   "source": [
    "# Type all of your code for this problem in this cell.\n",
    "# Feel free to add additional cells for scratch work, but they will not be graded.\n",
    "\n",
    "def count_strikes_in_3_hours(interarrival_times):\n",
    "    for time in interarrival_times:\n",
    "        # Be sure to return something inside this for loop;\n",
    "        # otherwise this for loop will run forever, since it\n",
    "        # is iterating over an infinite list!\n",
    "        raise NotImplementedError()"
   ]
  },
  {
   "cell_type": "markdown",
   "metadata": {
    "editable": false
   },
   "source": [
    "### b)\n",
    "\n",
    "Approximate the probability that there are at least 8 strikes in the next 3 hours.  \n",
    "\n",
    "(**Hint:** The exponential RVs represent the time between events.  Define another RV for the time at which the 8th strike occurs, and use that RV to approximate the probability in question.)"
   ]
  },
  {
   "cell_type": "code",
   "execution_count": null,
   "metadata": {
    "autograder": {
     "comments": null,
     "id": "model3b",
     "score": null
    },
    "collapsed": true,
    "deletable": false
   },
   "outputs": [],
   "source": [
    "# Type all of your code for this problem in this cell.\n",
    "# Feel free to add additional cells for scratch work, but they will not be graded."
   ]
  },
  {
   "cell_type": "markdown",
   "metadata": {
    "editable": false
   },
   "source": [
    "## Comparison of models\n",
    "\n",
    "Review your answers for the three models. In each model, we made what appeared to be different assumptions.  Does it seem that the distribution of the number of strikes is the same under each of these sets of assumptions?  Discuss briefly."
   ]
  },
  {
   "cell_type": "markdown",
   "metadata": {
    "autograder": {
     "comments": null,
     "id": "comparison",
     "score": null
    },
    "deletable": false
   },
   "source": [
    "**TYPE YOUR EXPLANATION HERE.**"
   ]
  },
  {
   "cell_type": "markdown",
   "metadata": {
    "editable": false
   },
   "source": [
    "## Submission Instructions\n",
    "\n",
    "Before you submit this notebook, click the \"Kernel\" drop-down menu at the top of this page and select \"Restart & Run All\". This will ensure that all of the code in your notebook executes properly. Please fix any errors, and repeat the process until the entire notebook executes without any errors.\n",
    "\n",
    "Then, to submit your notebook, follow these instructions:\n",
    "- Save your notebook by going to `File > Save and Checkpoint`. \n",
    "- Download your notebook by going to `File > Download as > Notebook (.ipynb)`.\n",
    "- Upload the downloaded `.ipynb` file to PolyLearn."
   ]
  }
 ],
 "metadata": {
  "anaconda-cloud": {},
  "celltoolbar": "Edit Metadata",
  "kernelspec": {
   "display_name": "Python 3",
   "language": "python",
   "name": "python3"
  },
  "language_info": {
   "codemirror_mode": {
    "name": "ipython",
    "version": 3
   },
   "file_extension": ".py",
   "mimetype": "text/x-python",
   "name": "python",
   "nbconvert_exporter": "python",
   "pygments_lexer": "ipython3",
   "version": "3.5.3"
  }
 },
 "nbformat": 4,
 "nbformat_minor": 1
}
