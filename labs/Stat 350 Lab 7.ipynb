{
 "cells": [
  {
   "cell_type": "markdown",
   "metadata": {
    "editable": false
   },
   "source": [
    "# Stat 350 Lab 7\n",
    "\n",
    "# Due Tuesday, November 7 at 11:59 PM"
   ]
  },
  {
   "cell_type": "markdown",
   "metadata": {
    "deletable": false
   },
   "source": [
    "**You are required to work on this lab with a partner. Only one member of each pair should submit the lab.**\n",
    "\n",
    "**Please type your Cal Poly IDs (e.g., kjross) below. (Double click this cell to edit.)**\n",
    "\n",
    "- Student 1 Cal Poly ID: \n",
    "- Student 2 Cal Poly ID:  "
   ]
  },
  {
   "cell_type": "markdown",
   "metadata": {
    "editable": false
   },
   "source": [
    "This Jupyter notebook provides a template for you to fill in.  Read the notebook from start to finish, completing the parts as indicated.  To run a cell, make sure the cell is highlighted by clicking on it, then press SHIFT + ENTER on your keyboard.  (Alternatively, you can click the \"play\" button in the toolbar above.)"
   ]
  },
  {
   "cell_type": "markdown",
   "metadata": {
    "editable": false
   },
   "source": [
    "In this lab you will use the Symbulate package.  Many of the new commands are discussed in the [Random processes](https://dlsun.github.io/symbulate/process.html) section of the [Symbulate documentation](https://dlsun.github.io/symbulate/index.html). **You should use Symbulate commands whenever possible.**  If you find yourself writing long blocks of Python code, you are probably doing something wrong.  For example, you should not need to write any *long* `for` loops (though you will need to write a simple `for` loop in Problem 1 part a).\n",
    "\n",
    "There are 2 parts, and at the end of each part there are some reflection questions.  There is no need to type a response to the reflection questions, but you should think about them and discuss them with your partner to try to make sense of your simulation results.\n",
    "\n",
    "**Warning:** You may notice that many of the cells in this notebook are not editable. This is intentional and for your own safety. We have made these cells read-only so that you don't accidentally modify or delete them. However, you should still be able to execute the code in these cells."
   ]
  },
  {
   "cell_type": "code",
   "execution_count": null,
   "metadata": {
    "collapsed": true,
    "editable": false
   },
   "outputs": [],
   "source": [
    "from symbulate import *\n",
    "%matplotlib inline"
   ]
  },
  {
   "cell_type": "markdown",
   "metadata": {
    "editable": false
   },
   "source": [
    "## Problem 1.\n",
    "\n",
    "Here is one example of a discrete time, continuous state process.  Suppose that $X_0 = 0$ and for $n = 0, 1, 2, \\ldots$,\n",
    "\n",
    "$$ X_{n+1} = 0.5 X_n + Z_{n} $$\n",
    "\n",
    "where $Z_1, Z_2, \\ldots$ are i.i.d. $N(0,1)$.  Such a process is called an *autoregressive* process (of order 1).  \n",
    "\n",
    "(Note: Strictly speaking, an autoregressive process is defined infinitely far into the past, including for negative times, and does not start at 0 at time 0. However, for simplicity, we are assuming that the process starts at 0 at time 0.)"
   ]
  },
  {
   "cell_type": "markdown",
   "metadata": {
    "editable": false
   },
   "source": [
    "### a)\n",
    "\n",
    "Define in Symbulate the $X$ process, for time steps $n= 0, 1,2, \\ldots, 20$.  Hint: [this example](https://dlsun.github.io/symbulate/process.html#rw) should be very helpful.\n",
    "\n",
    "- Define a probability space `P` corresponding to an infinite sequence of i.i.d. $N(0, 1)$ values.  (Hint: [bottom of this page](https://dlsun.github.io/symbulate/probspace.html#indep).)\n",
    "- Define an `RV` `Z` on the probability space `P`; each component of `Z` can be indexed with brackets `[]` , e.g. `Z[0]`, `Z[1]`, etc.\n",
    "- Define a [`RandomProcess`](https://dlsun.github.io/symbulate/process.html#time) `X` on `P`.  Be sure to specify the *sampling rate* (`fs`) of the [`TimeIndex`](https://dlsun.github.io/symbulate/process.html#time).\n",
    "Write a simple `for` loop to define the value of `X[n+1]` based `X[n]` and `Z[n]`."
   ]
  },
  {
   "cell_type": "code",
   "execution_count": null,
   "metadata": {
    "autograder": {
     "comments": null,
     "id": "problem1a",
     "score": null
    },
    "collapsed": true,
    "deletable": false
   },
   "outputs": [],
   "source": [
    "# Type all of your code for this problem in this cell.\n",
    "# Feel free to add additional cells for scratch work, but they will not be graded."
   ]
  },
  {
   "cell_type": "markdown",
   "metadata": {
    "editable": false
   },
   "source": [
    "### b)\n",
    "\n",
    "Simulate and plot a single sample path for n= 0, ..., 20.  (Hint: [see the plots here](https://dlsun.github.io/symbulate/process.html#Xt).  You might need to change `alpha = ` if the plot is too light.)"
   ]
  },
  {
   "cell_type": "code",
   "execution_count": null,
   "metadata": {
    "autograder": {
     "comments": null,
     "id": "problem1b",
     "score": null
    },
    "collapsed": true,
    "deletable": false
   },
   "outputs": [],
   "source": [
    "# Type all of your code for this problem in this cell.\n",
    "# Feel free to add additional cells for scratch work, but they will not be graded."
   ]
  },
  {
   "cell_type": "markdown",
   "metadata": {
    "editable": false
   },
   "source": [
    "### c)\n",
    "\n",
    "Simulate and plot 100 sample paths."
   ]
  },
  {
   "cell_type": "code",
   "execution_count": null,
   "metadata": {
    "autograder": {
     "comments": null,
     "id": "problem1c",
     "score": null
    },
    "collapsed": true,
    "deletable": false
   },
   "outputs": [],
   "source": [
    "# Type all of your code for this problem in this cell.\n",
    "# Feel free to add additional cells for scratch work, but they will not be graded."
   ]
  },
  {
   "cell_type": "markdown",
   "metadata": {
    "editable": false
   },
   "source": [
    "### d)\n",
    "\n",
    "Simulate and plot the distribution of $X_5$, and approximate its mean and variance.  ([Hint](https://dlsun.github.io/symbulate/process.html#value).)"
   ]
  },
  {
   "cell_type": "code",
   "execution_count": null,
   "metadata": {
    "autograder": {
     "comments": null,
     "id": "problem1d",
     "score": null
    },
    "collapsed": true,
    "deletable": false
   },
   "outputs": [],
   "source": [
    "# Type all of your code for this problem in this cell.\n",
    "# Feel free to add additional cells for scratch work, but they will not be graded."
   ]
  },
  {
   "cell_type": "markdown",
   "metadata": {
    "editable": false
   },
   "source": [
    "### e)\n",
    "\n",
    "Simulate and plot the distribution of $X_{10}$, and approximate its mean and variance.\n",
    "\n",
    "**Reflection question:** How does the distribution of $X_{10}$ compare to that of $X_5$?"
   ]
  },
  {
   "cell_type": "code",
   "execution_count": null,
   "metadata": {
    "autograder": {
     "comments": null,
     "id": "problem1e",
     "score": null
    },
    "collapsed": true,
    "deletable": false
   },
   "outputs": [],
   "source": [
    "# Type all of your code for this problem in this cell.\n",
    "# Feel free to add additional cells for scratch work, but they will not be graded."
   ]
  },
  {
   "cell_type": "markdown",
   "metadata": {
    "editable": false
   },
   "source": [
    "### f) \n",
    "\n",
    "Simulate 1000 realizations of $X_{10}$ and $X_{11}$, plot the results, and approximate the covariance."
   ]
  },
  {
   "cell_type": "code",
   "execution_count": null,
   "metadata": {
    "autograder": {
     "comments": null,
     "id": "problem1f",
     "score": null
    },
    "collapsed": true,
    "deletable": false
   },
   "outputs": [],
   "source": [
    "# Type all of your code for this problem in this cell.\n",
    "# Feel free to add additional cells for scratch work, but they will not be graded."
   ]
  },
  {
   "cell_type": "markdown",
   "metadata": {
    "editable": false
   },
   "source": [
    "### g) \n",
    "\n",
    "Simulate 1000 realizations of $X_{5}$ and $X_{6}$, plot the results, and approximate the covariance.\n",
    "\n",
    "**Reflection question:** How does the joint distribution of $X_5$ and $X_6$ compare to that of $X_5$ and $X_{10}$?"
   ]
  },
  {
   "cell_type": "code",
   "execution_count": null,
   "metadata": {
    "autograder": {
     "comments": null,
     "id": "problem1g",
     "score": null
    },
    "collapsed": true,
    "deletable": false
   },
   "outputs": [],
   "source": [
    "# Type all of your code for this problem in this cell.\n",
    "# Feel free to add additional cells for scratch work, but they will not be graded."
   ]
  },
  {
   "cell_type": "markdown",
   "metadata": {
    "editable": false
   },
   "source": [
    "### h) \n",
    "\n",
    "Simulate 1000 realizations of $X_{10}$ and $X_{15}$, plot the results, and approximate the covariance.\n",
    "\n",
    "**Reflection question:** How does the joint distribution of $X_{10}$ and $X_{15}$ compare to that of $X_{5}$ and $X_{10}$?"
   ]
  },
  {
   "cell_type": "code",
   "execution_count": null,
   "metadata": {
    "autograder": {
     "comments": null,
     "id": "problem1h",
     "score": null
    },
    "collapsed": true,
    "deletable": false
   },
   "outputs": [],
   "source": [
    "# Type all of your code for this problem in this cell.\n",
    "# Feel free to add additional cells for scratch work, but they will not be graded."
   ]
  },
  {
   "cell_type": "markdown",
   "metadata": {
    "editable": false
   },
   "source": [
    "### i)\n",
    "\n",
    "Simulate 1000 realizations of $X_{10}$ and $X_{11}$, plot the results, and approximate the covariance.\n",
    "\n",
    "**Reflection question:** How does the joint distribution of $X_{10}$ and $X_{11}$ compare to that of $X_{5}$ and $X_{6}$?"
   ]
  },
  {
   "cell_type": "code",
   "execution_count": null,
   "metadata": {
    "autograder": {
     "comments": null,
     "id": "problem1i",
     "score": null
    },
    "collapsed": true,
    "deletable": false
   },
   "outputs": [],
   "source": [
    "# Type all of your code for this problem in this cell.\n",
    "# Feel free to add additional cells for scratch work, but they will not be graded."
   ]
  },
  {
   "cell_type": "markdown",
   "metadata": {
    "editable": false
   },
   "source": [
    "### j) More reflection questions\n",
    "\n",
    "Does the $X$ process appear to be stationary?  Note: The process starts with $X_0=0$ so it is technically not stationary.  But aside from the first few times, does it appear that the process is stationary?"
   ]
  },
  {
   "cell_type": "markdown",
   "metadata": {
    "editable": false
   },
   "source": [
    "## Problem 2)\n",
    "\n",
    "Consider a random signal with a random \"phase shift\".\n",
    "\n",
    "$$X(t) = \\cos(2\\pi t + \\Theta)$$\n",
    "\n",
    "where $\\Theta$ has a $\\textrm{Uniform}(0, 2\\pi)$ distribution.\n",
    "\n",
    "Note: to define $\\cos(2\\pi t)$ in Python, use `cos(2 * pi * t)`"
   ]
  },
  {
   "cell_type": "markdown",
   "metadata": {
    "editable": false
   },
   "source": [
    "### a)\n",
    "\n",
    "\n",
    "Define in Symbulate the $X$ process. (Hint: [this example](https://dlsun.github.io/symbulate/process.html#Xt) should be helpful; you will need to define a function using `def` like in the example.)"
   ]
  },
  {
   "cell_type": "code",
   "execution_count": null,
   "metadata": {
    "autograder": {
     "comments": null,
     "id": "problem2a",
     "score": null
    },
    "collapsed": true,
    "deletable": false
   },
   "outputs": [],
   "source": [
    "# Type all of your code for this problem in this cell.\n",
    "# Feel free to add additional cells for scratch work, but they will not be graded."
   ]
  },
  {
   "cell_type": "markdown",
   "metadata": {
    "editable": false
   },
   "source": [
    "### b)\n",
    "\n",
    "Simulate and plot a single sample path for $0\\le t \\le 3$.  (You might need to change `alpha = ` if the plot is too light.)"
   ]
  },
  {
   "cell_type": "code",
   "execution_count": null,
   "metadata": {
    "autograder": {
     "comments": null,
     "id": "problem2b",
     "score": null
    },
    "collapsed": true,
    "deletable": false
   },
   "outputs": [],
   "source": [
    "# Type all of your code for this problem in this cell.\n",
    "# Feel free to add additional cells for scratch work, but they will not be graded."
   ]
  },
  {
   "cell_type": "markdown",
   "metadata": {
    "editable": false
   },
   "source": [
    "### c)\n",
    "\n",
    "Simulate and plot 20 sample paths."
   ]
  },
  {
   "cell_type": "code",
   "execution_count": null,
   "metadata": {
    "autograder": {
     "comments": null,
     "id": "problem2c",
     "score": null
    },
    "collapsed": true,
    "deletable": false
   },
   "outputs": [],
   "source": [
    "# Type all of your code for this problem in this cell.\n",
    "# Feel free to add additional cells for scratch work, but they will not be graded."
   ]
  },
  {
   "cell_type": "markdown",
   "metadata": {
    "editable": false
   },
   "source": [
    "### d)\n",
    "\n",
    "Simulate and plot the distribution of $X(1)$, and approximate its mean and variance.\n",
    "\n",
    "**Reflection question:** You might suspect that since $\\Theta$ has a uniform distribution then $X(1)$ has a uniform distribution.  But is that true?"
   ]
  },
  {
   "cell_type": "code",
   "execution_count": null,
   "metadata": {
    "autograder": {
     "comments": null,
     "id": "problem2d",
     "score": null
    },
    "collapsed": true,
    "deletable": false
   },
   "outputs": [],
   "source": [
    "# Type all of your code for this problem in this cell.\n",
    "# Feel free to add additional cells for scratch work, but they will not be graded."
   ]
  },
  {
   "cell_type": "markdown",
   "metadata": {
    "editable": false
   },
   "source": [
    "### e)\n",
    "\n",
    "Simulate and plot the joint distribution of $X(1)$ and $X(2)$ and approximate the covariance.\n",
    "\n",
    "**Reflection question:** Can you explain why the scatterplot looks the way it does?)"
   ]
  },
  {
   "cell_type": "code",
   "execution_count": null,
   "metadata": {
    "autograder": {
     "comments": null,
     "id": "problem2e",
     "score": null
    },
    "collapsed": true,
    "deletable": false
   },
   "outputs": [],
   "source": [
    "# Type all of your code for this problem in this cell.\n",
    "# Feel free to add additional cells for scratch work, but they will not be graded."
   ]
  },
  {
   "cell_type": "markdown",
   "metadata": {
    "editable": false
   },
   "source": [
    "### f)\n",
    "\n",
    "Simulate and plot the joint distribution of $X(1)$ and $X(1.5)$ and approximate the covariance.\n",
    "\n",
    "**Reflection question:** Can you explain why the scatterplot looks the way it does?"
   ]
  },
  {
   "cell_type": "code",
   "execution_count": null,
   "metadata": {
    "autograder": {
     "comments": null,
     "id": "problem2f",
     "score": null
    },
    "collapsed": true,
    "deletable": false
   },
   "outputs": [],
   "source": [
    "# Type all of your code for this problem in this cell.\n",
    "# Feel free to add additional cells for scratch work, but they will not be graded."
   ]
  },
  {
   "cell_type": "markdown",
   "metadata": {
    "editable": false
   },
   "source": [
    "### g)\n",
    "\n",
    "Simulate and plot the joint distribution of $X(1)$ and $X(1.25)$ and approximate the covariance.\n",
    "\n",
    "**Reflection question:** Can you explain why the scatterplot looks the way it does?"
   ]
  },
  {
   "cell_type": "code",
   "execution_count": null,
   "metadata": {
    "autograder": {
     "comments": null,
     "id": "problem2g",
     "score": null
    },
    "collapsed": true,
    "deletable": false
   },
   "outputs": [],
   "source": [
    "# Type all of your code for this problem in this cell.\n",
    "# Feel free to add additional cells for scratch work, but they will not be graded."
   ]
  },
  {
   "cell_type": "markdown",
   "metadata": {
    "editable": false
   },
   "source": [
    "## Submission Instructions\n",
    "\n",
    "Before you submit this notebook, click the \"Kernel\" drop-down menu at the top of this page and select \"Restart & Run All\". This will ensure that all of the code in your notebook executes properly. Please fix any errors, and repeat the process until the entire notebook executes without any errors.\n",
    "\n",
    "Then, to submit your notebook, follow these instructions:\n",
    "- Save your notebook by going to `File > Save and Checkpoint`. \n",
    "- Download your notebook by going to `File > Download as > Notebook (.ipynb)`.\n",
    "- Upload the downloaded `.ipynb` file to PolyLearn."
   ]
  }
 ],
 "metadata": {
  "celltoolbar": "Edit Metadata",
  "kernelspec": {
   "display_name": "Python 3",
   "language": "python",
   "name": "python3"
  },
  "language_info": {
   "codemirror_mode": {
    "name": "ipython",
    "version": 3
   },
   "file_extension": ".py",
   "mimetype": "text/x-python",
   "name": "python",
   "nbconvert_exporter": "python",
   "pygments_lexer": "ipython3",
   "version": "3.5.3"
  }
 },
 "nbformat": 4,
 "nbformat_minor": 2
}
