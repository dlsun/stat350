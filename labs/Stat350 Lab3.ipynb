{
 "cells": [
  {
   "cell_type": "markdown",
   "metadata": {},
   "source": [
    "# Stat 350 Lab 3\n",
    "\n",
    "# Due Tuesday, October 10 at 11:59 PM"
   ]
  },
  {
   "cell_type": "markdown",
   "metadata": {},
   "source": [
    "**You are required to work on this lab with a partner. Only one member of each pair should submit the lab.**\n",
    "\n",
    "**Please type your Cal Poly IDs (e.g., kjross) below. (Double click this cell to edit.)**\n",
    "\n",
    "- Student 1 Cal Poly ID: \n",
    "- Student 2 Cal Poly ID:  "
   ]
  },
  {
   "cell_type": "markdown",
   "metadata": {},
   "source": [
    "This Jupyter notebook provides a template for you to fill in.  Read the notebook from start to finish, completing the parts as indicated.  To run a cell, make sure the cell is highlighted by clicking on it, then press SHIFT + ENTER on your keyboard.  (Alternatively, you can click the \"play\" button in the toolbar above.)"
   ]
  },
  {
   "cell_type": "markdown",
   "metadata": {},
   "source": [
    "In this lab you will use the Symbulate package.  You should have completed [Section 2](https://github.com/dlsun/symbulate/blob/master/tutorial/gs_rv.ipynb) of the \"Getting Started Tutorial\" and read Sections 1-4 and parts of Section 5 of the [documentation](https://dlsun.github.io/symbulate/index.html) (you can ignore parts about continuous random variables for now).  A few specific links to the documentation are provided below, but it will probably make more sense if you read the documentation from start to finish.  **You should Symbulate commands whenever possible.**  If you find yourself writing long blocks of Python code, you are probably doing something wrong.  For example, you should not need to write any `for` loops.\n",
    "\n",
    "Remember to run the next cell first."
   ]
  },
  {
   "cell_type": "code",
   "execution_count": 1,
   "metadata": {
    "collapsed": true
   },
   "outputs": [],
   "source": [
    "from symbulate import *\n",
    "%matplotlib inline"
   ]
  },
  {
   "cell_type": "markdown",
   "metadata": {},
   "source": [
    "## Part I: Binomial and Hypergeometric distributions"
   ]
  },
  {
   "cell_type": "markdown",
   "metadata": {},
   "source": [
    "Shuffle a standard deck of 52 cards (13 hearts, and 39 other cards) and draw 5. Consider the number of hearts drawn."
   ]
  },
  {
   "cell_type": "markdown",
   "metadata": {},
   "source": [
    "## Problem 1\n",
    "\n",
    "First suppose the draws are made **with replacement**, and let $X$ represent the number of hearts among the 5 cards drawn."
   ]
  },
  {
   "cell_type": "markdown",
   "metadata": {},
   "source": [
    "### a)\n",
    "\n",
    "Define a probability space `P` in which an outcome corresponds to an ordered sequence of draws **with replacement.**   (Hint: you only need to consider whether a card is a heart or not.  Let 1 represent heart, and 0 not a heart.  See the examples for [BoxModel](https://dlsun.github.io/symbulate/probspace.html#boxmodel); use the `probs` argument like in `In[6:]`, or a dictionary like input like in `In[7:]`.)"
   ]
  },
  {
   "cell_type": "code",
   "execution_count": 2,
   "metadata": {
    "collapsed": true
   },
   "outputs": [],
   "source": [
    "# Type all of your code for this problem in this cell.\n",
    "# Feel free to add additional cells for scratch work, but they will not be graded."
   ]
  },
  {
   "cell_type": "markdown",
   "metadata": {},
   "source": [
    "### b)\n",
    "\n",
    "Define a `RV` $X$ on the probability space `P` which counts the number of hearts.  (Hint: what simple function will count the number of 1s in a sequence of 0/1s?)"
   ]
  },
  {
   "cell_type": "code",
   "execution_count": 3,
   "metadata": {
    "collapsed": true
   },
   "outputs": [],
   "source": [
    "# Type all of your code for this problem in this cell.\n",
    "# Feel free to add additional cells for scratch work, but they will not be graded."
   ]
  },
  {
   "cell_type": "markdown",
   "metadata": {},
   "source": [
    "### c)\n",
    "\n",
    "Simulate 10000 values of $X$, store the values in a variable `x`, and summarize its approximate distribution in a table."
   ]
  },
  {
   "cell_type": "code",
   "execution_count": 4,
   "metadata": {
    "collapsed": true
   },
   "outputs": [],
   "source": [
    "# Type all of your code for this problem in this cell.\n",
    "# Feel free to add additional cells for scratch work, but they will not be graded."
   ]
  },
  {
   "cell_type": "markdown",
   "metadata": {},
   "source": [
    "### d)\n",
    "\n",
    "Display the approximate distribution of $X$ in a plot.  Overlay the true probability mass function on the plot.  ([Hint](https://dlsun.github.io/symbulate/common_discrete.html#binomial).)"
   ]
  },
  {
   "cell_type": "code",
   "execution_count": 5,
   "metadata": {
    "collapsed": true
   },
   "outputs": [],
   "source": [
    "# Type all of your code for this problem in this cell.\n",
    "# Feel free to add additional cells for scratch work, but they will not be graded."
   ]
  },
  {
   "cell_type": "markdown",
   "metadata": {},
   "source": [
    "### e)\n",
    "\n",
    "Use the simulation results to estimate $P(X=3)$.  Enter the appropriate Symbulate commands below; don't just use the above table."
   ]
  },
  {
   "cell_type": "code",
   "execution_count": 6,
   "metadata": {
    "collapsed": true
   },
   "outputs": [],
   "source": [
    "# Type all of your code for this problem in this cell.\n",
    "# Feel free to add additional cells for scratch work, but they will not be graded."
   ]
  },
  {
   "cell_type": "markdown",
   "metadata": {},
   "source": [
    "### f)\n",
    "\n",
    "Use the [.pdf() method](https://dlsun.github.io/symbulate/common_general_comments.html#pdf) to calculate the exact value of $P(X=3)$.  (Hint: what is the name of the distribution of $X$ in this case?)  Compare the approximation from the previous part with the exact value; recall that a relative frequency based on $N$ repetitions of a simulation is likely to be within $1/\\sqrt{N}$ of the true probability."
   ]
  },
  {
   "cell_type": "code",
   "execution_count": 7,
   "metadata": {
    "collapsed": true
   },
   "outputs": [],
   "source": [
    "# Type all of your code for this problem in this cell.\n",
    "# Feel free to add additional cells for scratch work, but they will not be graded."
   ]
  },
  {
   "cell_type": "markdown",
   "metadata": {},
   "source": [
    "### g)\n",
    "\n",
    "Use the simulation results to estimate $E(X)$.  Compare the approximate expected value with the theoretical expected value.  (A mean based on $N$ repetitions of a simulation is likely to be within $2SD(X)/\\sqrt{N}$ of the true expected value.)"
   ]
  },
  {
   "cell_type": "code",
   "execution_count": 8,
   "metadata": {
    "collapsed": true
   },
   "outputs": [],
   "source": [
    "# Type all of your code for this problem in this cell.\n",
    "# Feel free to add additional cells for scratch work, but they will not be graded."
   ]
  },
  {
   "cell_type": "markdown",
   "metadata": {},
   "source": [
    "## Problem 2\n",
    "\n",
    "Now suppose the draws are made **without replacement**, and let $Y$ represent the number of hearts among the 5 cards drawn."
   ]
  },
  {
   "cell_type": "markdown",
   "metadata": {},
   "source": [
    "### a)\n",
    "\n",
    "Define a probability space `Q` in which an outcome corresponds to an ordered sequence of draws **without replacement.**   (Hint: As in problem 1, you only need to consider whether a card is a heart or not, but now it is necessary to specify the actual number of cards of each type.)"
   ]
  },
  {
   "cell_type": "code",
   "execution_count": 9,
   "metadata": {
    "collapsed": true
   },
   "outputs": [],
   "source": [
    "# Type all of your code for this problem in this cell.\n",
    "# Feel free to add additional cells for scratch work, but they will not be graded."
   ]
  },
  {
   "cell_type": "markdown",
   "metadata": {},
   "source": [
    "### b)\n",
    "\n",
    "Define a `RV` $Y$ on the probability space `Q` which counts the number of hearts."
   ]
  },
  {
   "cell_type": "code",
   "execution_count": 10,
   "metadata": {
    "collapsed": true
   },
   "outputs": [],
   "source": [
    "# Type all of your code for this problem in this cell.\n",
    "# Feel free to add additional cells for scratch work, but they will not be graded."
   ]
  },
  {
   "cell_type": "markdown",
   "metadata": {},
   "source": [
    "### c)\n",
    "\n",
    "Simulate 10000 values of $Y$, store the values in a variable `y`, and summarize its approximate distribution in a table."
   ]
  },
  {
   "cell_type": "code",
   "execution_count": 11,
   "metadata": {
    "collapsed": true
   },
   "outputs": [],
   "source": [
    "# Type all of your code for this problem in this cell.\n",
    "# Feel free to add additional cells for scratch work, but they will not be graded."
   ]
  },
  {
   "cell_type": "markdown",
   "metadata": {},
   "source": [
    "### d)\n",
    "\n",
    "Display the approximate distribution of $Y$ in a plot.  Overlay the true probability mass function on the plot.  ([Hint](https://dlsun.github.io/symbulate/common_discrete.html#hyper).  Also, see Handout 11.)"
   ]
  },
  {
   "cell_type": "code",
   "execution_count": 12,
   "metadata": {
    "collapsed": true
   },
   "outputs": [],
   "source": [
    "# Type all of your code for this problem in this cell.\n",
    "# Feel free to add additional cells for scratch work, but they will not be graded."
   ]
  },
  {
   "cell_type": "markdown",
   "metadata": {},
   "source": [
    "### e)\n",
    "\n",
    "Use the simulation results to estimate $P(Y=3)$.  Enter the appropriate Symbulate commands below; don't just use the above table."
   ]
  },
  {
   "cell_type": "code",
   "execution_count": 13,
   "metadata": {
    "collapsed": true
   },
   "outputs": [],
   "source": [
    "# Type all of your code for this problem in this cell.\n",
    "# Feel free to add additional cells for scratch work, but they will not be graded."
   ]
  },
  {
   "cell_type": "markdown",
   "metadata": {},
   "source": [
    "### f)\n",
    "\n",
    "Use the [.pdf() method](https://dlsun.github.io/symbulate/common_general_comments.html#pdf) to calculate the exact value of $P(Y=3)$.  (Hint: See Handout 11.  What is the name of the distribution of $Y$ in this case?)  Compare the approximation from the previous part with the exact value; recall that a relative frequency based on $N$ repetitions of a simulation is likely to be within $1/\\sqrt{N}$ of the true probability."
   ]
  },
  {
   "cell_type": "code",
   "execution_count": 14,
   "metadata": {
    "collapsed": true
   },
   "outputs": [],
   "source": [
    "# Type all of your code for this problem in this cell.\n",
    "# Feel free to add additional cells for scratch work, but they will not be graded."
   ]
  },
  {
   "cell_type": "markdown",
   "metadata": {},
   "source": [
    "### g)\n",
    "\n",
    "Use the simulation results to estimate $E(Y)$.  Compare the approximate expected value with the theoretical expected value.  (A mean based on $N$ repetitions of a simulation is likely to be within $2SD(X)/\\sqrt{N}$ of the true expected value.)  Also compare the expected value of $Y$ (without replacement) and $X$ (with replacement); are these values within the  margin of error of each other?"
   ]
  },
  {
   "cell_type": "code",
   "execution_count": 15,
   "metadata": {
    "collapsed": true
   },
   "outputs": [],
   "source": [
    "# Type all of your code for this problem in this cell.\n",
    "# Feel free to add additional cells for scratch work, but they will not be graded."
   ]
  },
  {
   "cell_type": "markdown",
   "metadata": {},
   "source": [
    "### h)\n",
    "\n",
    "Compare your results from Problems 1 and 2.  How does the distribution of the number of hearts drawn change between with and without replacement?  Are the expected values the same?  (Nothing to respond, just think about it.)"
   ]
  },
  {
   "cell_type": "markdown",
   "metadata": {},
   "source": [
    "## Part II: Poisson approximation of the Binomial"
   ]
  },
  {
   "cell_type": "markdown",
   "metadata": {},
   "source": [
    "When $n$ is \"large\" and $p$ is \"small\", a Binomial($n$, $p$) distribution is well approximated by a Poisson($np$) distribution.  This part illustrates this fact.\n",
    "\n",
    "Let $X$ have a Binomial distribution with $n$ trials and probability of success on each trial $p=\\lambda /n$, where $\\lambda$ is a constant.  When $n$ is large, the number of trials is large but the probability of success on any single trial is small.  Note that the expected value of $X$ is $n(\\lambda/n) = \\lambda$, which does not depend on $n$.\n",
    "\n",
    "We will assume $\\lambda = 3$."
   ]
  },
  {
   "cell_type": "markdown",
   "metadata": {},
   "source": [
    "### a)\n",
    "\n",
    "Let $n=10$.\n",
    "\n",
    "- Define a `RV` $X$ which has a Binomial($n$, $3/n$) distribution.  ([Hint](https://dlsun.github.io/symbulate/rv.html#distribution), also refer to Example 2.7 in the Symbulate tutorial.)\n",
    "- Simulate 10000 values of $X$ and plot the approximate distribution.\n",
    "- Overlay the Poisson(3) probability mass function.\n",
    "\n",
    "Does a Poisson(3) distribution seems like a good approximation of a Binomial(10, 3/10) distribution?"
   ]
  },
  {
   "cell_type": "code",
   "execution_count": 16,
   "metadata": {
    "collapsed": true
   },
   "outputs": [],
   "source": [
    "# Type all of your code for this problem in this cell.\n",
    "# Feel free to add additional cells for scratch work, but they will not be graded."
   ]
  },
  {
   "cell_type": "markdown",
   "metadata": {},
   "source": [
    "### b)\n",
    "\n",
    "Let $n=100$.\n",
    "\n",
    "- Define a `RV` $X$ which has a Binomial($n$, $3/n$) distribution.  ([Hint](https://dlsun.github.io/symbulate/rv.html#distribution), also refer to Example 2.7 in the Symbulate tutorial.)\n",
    "- Simulate 10000 values of $X$ and plot the approximate distribution.\n",
    "- Overlay the Poisson(3) probability mass function.\n",
    "\n",
    "Does a Poisson(3) distribution seems like a good approximation of a Binomial(100, 3/100) distribution?"
   ]
  },
  {
   "cell_type": "code",
   "execution_count": 17,
   "metadata": {
    "collapsed": true
   },
   "outputs": [],
   "source": [
    "# Type all of your code for this problem in this cell.\n",
    "# Feel free to add additional cells for scratch work, but they will not be graded."
   ]
  },
  {
   "cell_type": "markdown",
   "metadata": {},
   "source": [
    "## Part III: Poisson approximation in the matching problem"
   ]
  },
  {
   "cell_type": "markdown",
   "metadata": {},
   "source": [
    "Consider the matching babies problem again. (Last time, I promise!)  There are $n$ mothers and $n$ babies, and one baby is returned to each mother completely at random.  Let $X$ represent the number of babies that are returned to the correct mother.\n",
    "\n",
    "Recall that in HW1 you used an [applet](http://www.rossmanchance.com/applets/randomBabies/RandomBabies.html) to run simulations for different values of $n$.  You should have observed\n",
    "\n",
    "- Regardless of the value of $n$, the expected value of $X$ is 1.\n",
    "- Aside from the smallest values of $n$, the probability of at least one match was about 0.63.\n",
    "\n",
    "See HW1 solutions in PL for a refresher.\n",
    "\n",
    "We will investigate these two properties further in this part.  To put this problem in the context of what we have been discussing this week:\n",
    "\n",
    "- Each time a baby is returned to a mother can be considered a trial.\n",
    "- Each trial results in success (the baby is returned to the correct mother) or failure (not).\n",
    "- There are a fixed number of trials, $n$.\n",
    "\n",
    "So far, the conditions for the Binomial situation are satisfied.  But does $X$ have a Binomial distribution?"
   ]
  },
  {
   "cell_type": "markdown",
   "metadata": {},
   "source": [
    "### a)\n",
    "\n",
    "What is the probability that any particular mother receives the correct baby?  Is the probability of success the same for each trial?"
   ]
  },
  {
   "cell_type": "markdown",
   "metadata": {},
   "source": [
    "**TYPE YOUR EXPLANATION HERE.**"
   ]
  },
  {
   "cell_type": "markdown",
   "metadata": {},
   "source": [
    "### b)\n",
    "\n",
    "Are the trials independent?  Does $X$ have a Binomial distribution?"
   ]
  },
  {
   "cell_type": "markdown",
   "metadata": {},
   "source": [
    "**TYPE YOUR EXPLANATION HERE.**"
   ]
  },
  {
   "cell_type": "markdown",
   "metadata": {},
   "source": [
    "### c)\n",
    "\n",
    "In Part II you saw how Poisson distributions can sometimes approximate Binomial distributions.  But Poisson approximations are valid much more generally.  In particular, unless $n$ is really small, the number of matches $X$ in the matching problem has an approximate Poisson distribution with mean 1.\n",
    "\n",
    "Explain why $E(X)=1$ regardless of $n$.  You don't need to give a proof, but do think of a reasonable explanation.  (Hint: consider part a) of Part III.  Also consider your comparison of Binomial and Hypergeometric from Part I, and the means in particular; what happens here is similar.)"
   ]
  },
  {
   "cell_type": "markdown",
   "metadata": {},
   "source": [
    "**TYPE YOUR EXPLANATION HERE.**"
   ]
  },
  {
   "cell_type": "markdown",
   "metadata": {},
   "source": [
    "### d)\n",
    "\n",
    "Now you will use simulation to approximate the distribution of $X$ when $n=6$.\n",
    "\n",
    "- Label the babies $0, 1, \\ldots, n-1$ (the code `labels = list(range(n))` below does this).\n",
    "- Define an appropriate probability space `P` in which an outcome corresponds to the ordered shuffling of the babies.\n",
    "- Define a `RV` $X$ on the probability space `P` through an appropriate function.  You can use the `number_matches` function below.\n",
    "- Simulate 10000 values of $X$ and display the approximate distribution in a plot.\n",
    "- Overlay the Poisson(1) probability mass function.\n",
    "- Optional: use the simulation results to approximate $P(X\\ge 1)$ and $E(X)$.  This is optional because you already did it in HW1 using the applet, but make sure you know how to do it in Symbulate.\n",
    "\n",
    "Does a Poisson(1) distribution seem like a good approximation to the distribution of $X$ when $n=6$?"
   ]
  },
  {
   "cell_type": "code",
   "execution_count": 18,
   "metadata": {
    "collapsed": true
   },
   "outputs": [],
   "source": [
    "n = 6\n",
    "\n",
    "labels = list(range(n))\n",
    "\n",
    "def number_matches(x):\n",
    "    count = 0\n",
    "    for i in range(0, n, 1):\n",
    "        if x[i] == labels[i]:\n",
    "            count += 1\n",
    "    return count"
   ]
  },
  {
   "cell_type": "code",
   "execution_count": 19,
   "metadata": {
    "collapsed": true
   },
   "outputs": [],
   "source": [
    "# Type all of your code for this problem in this cell.\n",
    "# Feel free to add additional cells for scratch work, but they will not be graded."
   ]
  },
  {
   "cell_type": "markdown",
   "metadata": {},
   "source": [
    "### e)\n",
    "\n",
    "Pick another value of $n\\ge 6$ and repeat part d).\n",
    "Does a Poisson(1) distribution seem like a good approximation to the distribution of $X$ for this value of $n$?"
   ]
  },
  {
   "cell_type": "code",
   "execution_count": 20,
   "metadata": {
    "collapsed": true
   },
   "outputs": [],
   "source": [
    "n = 6 # BE SURE TO CHANGE THIS VALUE\n",
    "\n",
    "labels = list(range(n))\n",
    "\n",
    "def number_matches(x):\n",
    "    count = 0\n",
    "    for i in range(0, n, 1):\n",
    "        if x[i] == labels[i]:\n",
    "            count += 1\n",
    "    return count"
   ]
  },
  {
   "cell_type": "code",
   "execution_count": 21,
   "metadata": {
    "collapsed": true
   },
   "outputs": [],
   "source": [
    "# Type all of your code for this problem in this cell.\n",
    "# Feel free to add additional cells for scratch work, but they will not be graded."
   ]
  },
  {
   "cell_type": "markdown",
   "metadata": {},
   "source": [
    "### f)\n",
    "\n",
    "Given that the number of matches $X$ has an approximate Poisson(1) distribution, explain why the probability of at least one match is approximately 0.63 (for all but the smallest values of $n$)."
   ]
  },
  {
   "cell_type": "markdown",
   "metadata": {},
   "source": [
    "**TYPE YOUR EXPLANATION HERE.**"
   ]
  },
  {
   "cell_type": "markdown",
   "metadata": {},
   "source": [
    "## Submission Instructions\n",
    "\n",
    "Before you submit this notebook, click the \"Kernel\" drop-down menu at the top of this page and select \"Restart & Run All\". This will ensure that all of the code in your notebook executes properly. Please fix any errors, and repeat the process until the entire notebook executes without any errors.\n",
    "\n",
    "Then, to submit your notebook, follow these instructions:\n",
    "- Save your notebook by going to `File > Save and Checkpoint`. \n",
    "- Download your notebook by going to `File > Download as > Notebook (.ipynb)`.\n",
    "- Upload the downloaded `.ipynb` file to PolyLearn."
   ]
  },
  {
   "cell_type": "code",
   "execution_count": null,
   "metadata": {
    "collapsed": true
   },
   "outputs": [],
   "source": []
  }
 ],
 "metadata": {
  "kernelspec": {
   "display_name": "Python 3",
   "language": "python",
   "name": "python3"
  },
  "language_info": {
   "codemirror_mode": {
    "name": "ipython",
    "version": 3
   },
   "file_extension": ".py",
   "mimetype": "text/x-python",
   "name": "python",
   "nbconvert_exporter": "python",
   "pygments_lexer": "ipython3",
   "version": "3.6.1"
  }
 },
 "nbformat": 4,
 "nbformat_minor": 2
}
