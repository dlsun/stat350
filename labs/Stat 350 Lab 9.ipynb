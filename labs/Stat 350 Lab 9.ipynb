{
 "cells": [
  {
   "cell_type": "markdown",
   "metadata": {
    "editable": false
   },
   "source": [
    "# Stat 350 Lab 9\n",
    "\n",
    "## Due Tuesday, November 21 at 11:59 PM\n",
    "\n",
    "In this lab, you will design a linear time-invariant filter that denoises a signal that has been corrupted by noise. Please refer to the notebook `Filter Design in Python.ipynb` from lecture. You should be able to transfer much of the code in that example to this lab."
   ]
  },
  {
   "cell_type": "markdown",
   "metadata": {
    "deletable": false
   },
   "source": [
    "**You are required to work on this lab with a partner. Only one member of each pair should submit the lab.**\n",
    "\n",
    "**Please type your Cal Poly IDs (e.g., kjross) below. (Double click this cell to edit.)**\n",
    "\n",
    "- Student 1 Cal Poly ID: \n",
    "- Student 2 Cal Poly ID:  "
   ]
  },
  {
   "cell_type": "markdown",
   "metadata": {
    "editable": false
   },
   "source": [
    "## You must first run the cell below."
   ]
  },
  {
   "cell_type": "code",
   "execution_count": null,
   "metadata": {
    "collapsed": true,
    "editable": false
   },
   "outputs": [],
   "source": [
    "import numpy as np\n",
    "import matplotlib.pyplot as plt\n",
    "%matplotlib inline\n",
    "\n",
    "from IPython.display import Audio\n",
    "from scipy.io import wavfile\n",
    "from io import BytesIO"
   ]
  },
  {
   "cell_type": "markdown",
   "metadata": {
    "editable": false
   },
   "source": [
    "## Part 1: Analyzing the Signal\n",
    "\n",
    "The audio file (http://users.csc.calpoly.edu/~dsun09/stat350/labs/noisy.wav) contains a short music clip that has been contaminated by additive noise. Read the file into a Numpy array as follows.\n",
    "\n",
    "```\n",
    "audio = Audio(url=\"http://users.csc.calpoly.edu/~dsun09/stat350/labs/noisy.wav\", embed=True)\n",
    "fs, x = wavfile.read(BytesIO(audio.data))\n",
    "```\n",
    "\n",
    "**(a)** Plot the time-domain signal over the entire time range. Listen to the signal by having `audio` as the last line of the cell."
   ]
  },
  {
   "cell_type": "code",
   "execution_count": null,
   "metadata": {
    "autograder": {
     "comments": null,
     "id": "part1a",
     "score": null
    },
    "collapsed": true,
    "deletable": false
   },
   "outputs": [],
   "source": [
    "# PLEASE TYPE YOUR CODE HERE."
   ]
  },
  {
   "cell_type": "markdown",
   "metadata": {
    "editable": false
   },
   "source": [
    "**(b)** By listening to the audio and looking at your plot above, extract a segment of the signal `x` that contains only noise and no music. Plot its power spectrum."
   ]
  },
  {
   "cell_type": "code",
   "execution_count": null,
   "metadata": {
    "autograder": {
     "comments": null,
     "id": "part1b",
     "score": null
    },
    "collapsed": true,
    "deletable": false
   },
   "outputs": [],
   "source": [
    "# PLEASE TYPE YOUR CODE HERE."
   ]
  },
  {
   "cell_type": "markdown",
   "metadata": {
    "editable": false
   },
   "source": [
    "**(c)** Now extract a segment of the signal `x` that contains both noise and music. Plot its power spectrum.\n",
    "\n",
    "(**Warning:** Don't select too long of a segment because the music, unlike the noise, is not stationary. In particular, the frequencies in the music will change over time. However, music is usually approximately stationary over windows of about 100 milliseconds.)"
   ]
  },
  {
   "cell_type": "code",
   "execution_count": null,
   "metadata": {
    "autograder": {
     "comments": null,
     "id": "part1c",
     "score": null
    },
    "collapsed": true,
    "deletable": false
   },
   "outputs": [],
   "source": [
    "# PLEASE TYPE YOUR CODE HERE."
   ]
  },
  {
   "cell_type": "markdown",
   "metadata": {
    "editable": false
   },
   "source": [
    "## Part 2: Designing a Filter"
   ]
  },
  {
   "cell_type": "markdown",
   "metadata": {
    "editable": false
   },
   "source": [
    "**(a)** Based on your answers to 1(b) and 1(c) above, describe in words what you want the frequency response of your filter to look like, in order to remove as much noise as possible, while preserving the music."
   ]
  },
  {
   "cell_type": "markdown",
   "metadata": {
    "autograder": {
     "comments": null,
     "id": "part2a",
     "score": null
    },
    "deletable": false
   },
   "source": [
    "**PLEASE TYPE YOUR EXPLANATION HERE.**"
   ]
  },
  {
   "cell_type": "markdown",
   "metadata": {
    "editable": false
   },
   "source": [
    "**(b)** Now create the frequency response you described above in code. Make sure the frequencies are in the appropriate order, with the positive frequencies coming before the negative frequencies.\n",
    "\n",
    "(**Hint**: You may want to refer to the notebook \"Filter Design in Python\" that we went over in class for an example of how to do this.)"
   ]
  },
  {
   "cell_type": "code",
   "execution_count": null,
   "metadata": {
    "autograder": {
     "comments": null,
     "id": "part2b",
     "score": null
    },
    "collapsed": true,
    "deletable": false
   },
   "outputs": [],
   "source": [
    "# PLEASE TYPE YOUR CODE HERE."
   ]
  },
  {
   "cell_type": "markdown",
   "metadata": {
    "editable": false
   },
   "source": [
    "**(c)** Take the inverse Fourier transform of the frequency response to obtain the impulse response. Truncate and rearrange the impulse response as appropriate. Store the final impulse response in a random variable `h_trunc` and plot it."
   ]
  },
  {
   "cell_type": "code",
   "execution_count": null,
   "metadata": {
    "autograder": {
     "comments": null,
     "id": "part2c",
     "score": null
    },
    "collapsed": true,
    "deletable": false
   },
   "outputs": [],
   "source": [
    "# PLEASE TYPE YOUR CODE HERE."
   ]
  },
  {
   "cell_type": "markdown",
   "metadata": {
    "editable": false
   },
   "source": [
    "## Part 3: Applying the Filter"
   ]
  },
  {
   "cell_type": "markdown",
   "metadata": {
    "editable": false
   },
   "source": [
    "Now that we have the impulse response, we can apply it to our signal by convolving our signal  with the impulse response.\n",
    "\n",
    "**(a)** Apply the final impulse response `h_trunc` you obtained in 2(b) above to the noisy signal `x` to obtain the output signal. Store it in a variable `y` for later use. Plot the time-domain signal over the entire time range. If your filter worked, the noise at the beginning should be attenuated.\n",
    "\n",
    "(**Hint**: Again, you may want to refer to the notebook \"Filter Design in Python\" for an example of how to do this.)"
   ]
  },
  {
   "cell_type": "code",
   "execution_count": null,
   "metadata": {
    "autograder": {
     "comments": null,
     "id": "part3a",
     "score": null
    },
    "collapsed": true,
    "deletable": false
   },
   "outputs": [],
   "source": [
    "# PLEASE TYPE YOUR CODE HERE."
   ]
  },
  {
   "cell_type": "markdown",
   "metadata": {
    "editable": false
   },
   "source": [
    "**(b)** Listen to the output signal `y` using the following code:\n",
    "\n",
    "```\n",
    "Audio(y, rate=fs)\n",
    "```\n",
    "\n",
    "If the output signal is too quiet or too loud, adjust the gain by multiplying `y` by a constant."
   ]
  },
  {
   "cell_type": "code",
   "execution_count": null,
   "metadata": {
    "autograder": {
     "comments": null,
     "id": "part3b",
     "score": null
    },
    "collapsed": true,
    "deletable": false
   },
   "outputs": [],
   "source": [
    "# PLEASE TYPE YOUR CODE HERE."
   ]
  },
  {
   "cell_type": "markdown",
   "metadata": {
    "editable": false
   },
   "source": [
    "**(c)** Comment on how well your filter performed."
   ]
  },
  {
   "cell_type": "markdown",
   "metadata": {
    "autograder": {
     "comments": null,
     "id": "part3c",
     "score": null
    },
    "deletable": false
   },
   "source": [
    "**PLEASE TYPE YOUR EXPLANATION HERE.**"
   ]
  },
  {
   "cell_type": "markdown",
   "metadata": {
    "editable": false
   },
   "source": [
    "## Submission Instructions\n",
    "\n",
    "Before you submit this notebook, click the \"Kernel\" drop-down menu at the top of this page and select \"Restart & Run All\". This will ensure that all of the code in your notebook executes properly.\n",
    "\n",
    "We will re-run your notebook before grading your answers. You will lose points for a notebook with cells that do not run, even if your answers are correct, so please do not skip this step."
   ]
  }
 ],
 "metadata": {
  "anaconda-cloud": {},
  "celltoolbar": "Edit Metadata",
  "kernelspec": {
   "display_name": "Python 3",
   "language": "python",
   "name": "python3"
  },
  "language_info": {
   "codemirror_mode": {
    "name": "ipython",
    "version": 3
   },
   "file_extension": ".py",
   "mimetype": "text/x-python",
   "name": "python",
   "nbconvert_exporter": "python",
   "pygments_lexer": "ipython3",
   "version": "3.5.3"
  }
 },
 "nbformat": 4,
 "nbformat_minor": 1
}
