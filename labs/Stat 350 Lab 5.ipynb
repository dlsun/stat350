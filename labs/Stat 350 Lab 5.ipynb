{
 "cells": [
  {
   "cell_type": "markdown",
   "metadata": {
    "editable": false
   },
   "source": [
    "# Stat 350 Lab 5\n",
    "\n",
    "# Due Tuesday, October 24 at 11:59 PM"
   ]
  },
  {
   "cell_type": "markdown",
   "metadata": {},
   "source": [
    "**You are required to work on this lab with a partner. Only one member of each pair should submit the lab.**\n",
    "\n",
    "**Please type your Cal Poly IDs (e.g., kjross) below. (Double click this cell to edit.)**\n",
    "\n",
    "- Student 1 Cal Poly ID: \n",
    "- Student 2 Cal Poly ID:  "
   ]
  },
  {
   "cell_type": "markdown",
   "metadata": {
    "editable": false
   },
   "source": [
    "This Jupyter notebook provides a template for you to fill in.  Read the notebook from start to finish, completing the parts as indicated.  To run a cell, make sure the cell is highlighted by clicking on it, then press SHIFT + ENTER on your keyboard.  (Alternatively, you can click the \"play\" button in the toolbar above.)"
   ]
  },
  {
   "cell_type": "markdown",
   "metadata": {
    "editable": false
   },
   "source": [
    "In this lab you will use the Symbulate package.  You have seen most of the commands that you will use in previos labs, but remember to refer to the [documentation](https://dlsun.github.io/symbulate/index.html) for help.   In particular, read the documentation on [Normal distributions](https://dlsun.github.io/symbulate/common_continuous.html#normal), the [standardize method](https://dlsun.github.io/symbulate/rv.html#standardize), and the [`**` (exponentiation) notation](https://dlsun.github.io/symbulate/probspace.html#Independent-probability-spaces) for drawing multiple values independently from a distribution. **You should Symbulate commands whenever possible.**  If you find yourself writing long blocks of Python code, you are probably doing something wrong.  For example, you should not need to write any `for` loops.\n",
    "\n",
    "**Warning:** You may notice that many of the cells in this notebook are not editable. This is intentional and for your own safety. We have made these cells read-only so that you don't accidentally modify or delete them. However, you should still be able to execute the code in these cells."
   ]
  },
  {
   "cell_type": "code",
   "execution_count": null,
   "metadata": {
    "collapsed": true,
    "editable": false
   },
   "outputs": [],
   "source": [
    "from symbulate import *\n",
    "%matplotlib inline"
   ]
  },
  {
   "cell_type": "markdown",
   "metadata": {
    "editable": false
   },
   "source": [
    "## Setup\n",
    "\n",
    "A random sample of $n$ customers at the Avenue is selected.  Let $\\bar{X}$ represent the mean dollar amount spent by the $n$ customers in the sample.  In this lab, you will investigate the distribution of $\\bar{X}$: how does the mean dollar amount spent vary over many samples of size $n$?\n",
    "\n",
    "Each of the parts assumes a different distribution for dollar amounts spent by individual customers.  Within each part you will investigate how the distribution of the sample mean changes as the sample size increases.\n",
    "\n",
    "In each simulation, you should first define a probability space so that an outcome represents the $n$ individual dollar amounts spent by the customers in a random sample.  You can assume the dollar amounts spent are independent from customer to customer, and each is amount is drawn from the specified distribution.  (We say that the dollar amounts in a random sample are **independent and identically distributed (i.i.d.)**)\n",
    "\n",
    "In much of this lab, you will only need to make small modifications from question to question.  But do make sure you take time to think about the output of each part before moving on.  In particular, be sure to note the scale on the horizontal axis on your plots.\n",
    "\n",
    "You will run a simulation for each question, but there are some parts for which you should be able to derive the distribution analytically.  You are encouraged to do this outside of class for practice.\n",
    "\n",
    "Some of the simulations will take some a minute or two to run, especially for the larger values of $n$, so please be patient.  You might want to run `.sim(10)` first to make sure your code works, and then you can change to `.sim(10000)`."
   ]
  },
  {
   "cell_type": "markdown",
   "metadata": {
    "editable": false
   },
   "source": [
    "## Part I\n",
    "\n",
    "Assume dollar amounts spent by individual customers can be modeled with a Normal distribution with mean 6.50 and standard deviation 1.71."
   ]
  },
  {
   "cell_type": "markdown",
   "metadata": {
    "editable": false
   },
   "source": [
    "## a)\n",
    "\n",
    "First assume just a single customer is selected at random, and let $X$ represent the dollar amount spent.  Use simulation to:\n",
    "\n",
    "- Plot the approximate distribution of $X$\n",
    "- Estimate its expected value and standard deviation\n",
    "- Estimate the probability that $X$ is more than 2 standard deviations greater than its expected value."
   ]
  },
  {
   "cell_type": "code",
   "execution_count": null,
   "metadata": {
    "autograder": {
     "comments": null,
     "id": "part1a",
     "score": null
    },
    "collapsed": true
   },
   "outputs": [],
   "source": [
    "# Type all of your code for this problem in this cell.\n",
    "# Feel free to add additional cells for scratch work, but they will not be graded."
   ]
  },
  {
   "cell_type": "markdown",
   "metadata": {
    "editable": false
   },
   "source": [
    "## b)\n",
    "\n",
    "Now $n=2$ customers are selected at random, and $\\bar{X}$ represents the mean dollar amount spent for the two customers.  Use simulation to:\n",
    "\n",
    "- Plot the approximate distribution of $\\bar{X}$\n",
    "- Estimate its expected value and standard deviation\n",
    "- Estimate the probability that $\\bar{X}$ is more than 2 standard deviations greater than its expected value."
   ]
  },
  {
   "cell_type": "code",
   "execution_count": null,
   "metadata": {
    "autograder": {
     "comments": null,
     "id": "part1b",
     "score": null
    },
    "collapsed": true
   },
   "outputs": [],
   "source": [
    "# Type all of your code for this problem in this cell.\n",
    "# Feel free to add additional cells for scratch work, but they will not be graded."
   ]
  },
  {
   "cell_type": "markdown",
   "metadata": {
    "editable": false
   },
   "source": [
    "## c)\n",
    "\n",
    "Repeat part b) with $n=5$"
   ]
  },
  {
   "cell_type": "code",
   "execution_count": null,
   "metadata": {
    "autograder": {
     "comments": null,
     "id": "part1c",
     "score": null
    },
    "collapsed": true
   },
   "outputs": [],
   "source": [
    "# Type all of your code for this problem in this cell.\n",
    "# Feel free to add additional cells for scratch work, but they will not be graded."
   ]
  },
  {
   "cell_type": "markdown",
   "metadata": {
    "editable": false
   },
   "source": [
    "## d)\n",
    "\n",
    "Repeat part b) with $n=30$"
   ]
  },
  {
   "cell_type": "code",
   "execution_count": null,
   "metadata": {
    "autograder": {
     "comments": null,
     "id": "part1d",
     "score": null
    },
    "collapsed": true
   },
   "outputs": [],
   "source": [
    "# Type all of your code for this problem in this cell.\n",
    "# Feel free to add additional cells for scratch work, but they will not be graded."
   ]
  },
  {
   "cell_type": "markdown",
   "metadata": {
    "editable": false
   },
   "source": [
    "## e)\n",
    "\n",
    "Repeat part b) with $n=100$"
   ]
  },
  {
   "cell_type": "code",
   "execution_count": null,
   "metadata": {
    "autograder": {
     "comments": null,
     "id": "part1e",
     "score": null
    },
    "collapsed": true
   },
   "outputs": [],
   "source": [
    "# Type all of your code for this problem in this cell.\n",
    "# Feel free to add additional cells for scratch work, but they will not be graded."
   ]
  },
  {
   "cell_type": "markdown",
   "metadata": {
    "editable": false
   },
   "source": [
    "## f)\n",
    "\n",
    "How does increasing the sample size $n$ affect the distribution of $\\bar{X}$? "
   ]
  },
  {
   "cell_type": "markdown",
   "metadata": {
    "autograder": {
     "comments": null,
     "id": "part1f",
     "score": null
    }
   },
   "source": [
    "**TYPE YOUR RESPONSE HERE.**"
   ]
  },
  {
   "cell_type": "markdown",
   "metadata": {
    "editable": false
   },
   "source": [
    "## Part II\n",
    "\n",
    "Assume the dollar amount spent by any individual customer is equally likely to be 4, 5, 6, 7, 8, or 9."
   ]
  },
  {
   "cell_type": "markdown",
   "metadata": {
    "editable": false
   },
   "source": [
    "## a)\n",
    "\n",
    "First assume just a single customer is selected at random, and let $X$ represent the dollar amount spent.  Use simulation to:\n",
    "\n",
    "- Plot the approximate distribution of $X$\n",
    "- Estimate its expected value and standard deviation\n",
    "- Estimate the probability that $X$ is more than 2 standard deviations greater than its expected value."
   ]
  },
  {
   "cell_type": "code",
   "execution_count": null,
   "metadata": {
    "autograder": {
     "comments": null,
     "id": "part2a",
     "score": null
    },
    "collapsed": true
   },
   "outputs": [],
   "source": [
    "# Type all of your code for this problem in this cell.\n",
    "# Feel free to add additional cells for scratch work, but they will not be graded."
   ]
  },
  {
   "cell_type": "markdown",
   "metadata": {
    "editable": false
   },
   "source": [
    "## b)\n",
    "\n",
    "Now $n=2$ customers are selected at random, and $\\bar{X}$ represents the mean dollar amount spent for the two customers.  Use simulation to:\n",
    "\n",
    "- Plot the approximate distribution of $\\bar{X}$\n",
    "- Estimate its expected value and standard deviation\n",
    "- Estimate the probability that $\\bar{X}$ is more than 2 standard deviations greater than its expected value."
   ]
  },
  {
   "cell_type": "code",
   "execution_count": null,
   "metadata": {
    "autograder": {
     "comments": null,
     "id": "part2b",
     "score": null
    },
    "collapsed": true
   },
   "outputs": [],
   "source": [
    "# Type all of your code for this problem in this cell.\n",
    "# Feel free to add additional cells for scratch work, but they will not be graded."
   ]
  },
  {
   "cell_type": "markdown",
   "metadata": {
    "editable": false
   },
   "source": [
    "## c)\n",
    "\n",
    "Repeat part b) with $n=5$"
   ]
  },
  {
   "cell_type": "code",
   "execution_count": null,
   "metadata": {
    "autograder": {
     "comments": null,
     "id": "part2c",
     "score": null
    },
    "collapsed": true
   },
   "outputs": [],
   "source": [
    "# Type all of your code for this problem in this cell.\n",
    "# Feel free to add additional cells for scratch work, but they will not be graded."
   ]
  },
  {
   "cell_type": "markdown",
   "metadata": {
    "editable": false
   },
   "source": [
    "## d)\n",
    "\n",
    "Repeat part b) with $n=30$"
   ]
  },
  {
   "cell_type": "code",
   "execution_count": null,
   "metadata": {
    "autograder": {
     "comments": null,
     "id": "part2d",
     "score": null
    },
    "collapsed": true
   },
   "outputs": [],
   "source": [
    "# Type all of your code for this problem in this cell.\n",
    "# Feel free to add additional cells for scratch work, but they will not be graded."
   ]
  },
  {
   "cell_type": "markdown",
   "metadata": {
    "editable": false
   },
   "source": [
    "## e)\n",
    "\n",
    "Repeat part b) with $n=100$"
   ]
  },
  {
   "cell_type": "code",
   "execution_count": null,
   "metadata": {
    "autograder": {
     "comments": null,
     "id": "part2e",
     "score": null
    },
    "collapsed": true
   },
   "outputs": [],
   "source": [
    "# Type all of your code for this problem in this cell.\n",
    "# Feel free to add additional cells for scratch work, but they will not be graded."
   ]
  },
  {
   "cell_type": "markdown",
   "metadata": {
    "editable": false
   },
   "source": [
    "## f)\n",
    "\n",
    "How does increasing the sample size $n$ affect the distribution of $\\bar{X}$? "
   ]
  },
  {
   "cell_type": "markdown",
   "metadata": {
    "autograder": {
     "comments": null,
     "id": "part2f",
     "score": null
    }
   },
   "source": [
    "**TYPE YOUR RESPONSE HERE.**"
   ]
  },
  {
   "cell_type": "markdown",
   "metadata": {
    "editable": false
   },
   "source": [
    "## Part III\n",
    "\n",
    "Assume the dollar amount spent by any individual customer has an Exponential distribution with mean 6.50"
   ]
  },
  {
   "cell_type": "markdown",
   "metadata": {
    "editable": false
   },
   "source": [
    "## a)\n",
    "\n",
    "First assume just a single customer is selected at random, and let $X$ represent the dollar amount spent.  Use simulation to:\n",
    "\n",
    "- Plot the approximate distribution of $X$\n",
    "- Estimate its expected value and standard deviation\n",
    "- Estimate the probability that $X$ is more than 2 standard deviations greater than its expected value."
   ]
  },
  {
   "cell_type": "code",
   "execution_count": null,
   "metadata": {
    "autograder": {
     "comments": null,
     "id": "part3a",
     "score": null
    },
    "collapsed": true
   },
   "outputs": [],
   "source": [
    "# Type all of your code for this problem in this cell.\n",
    "# Feel free to add additional cells for scratch work, but they will not be graded."
   ]
  },
  {
   "cell_type": "markdown",
   "metadata": {
    "editable": false
   },
   "source": [
    "## b)\n",
    "\n",
    "Now $n=2$ customers are selected at random, and $\\bar{X}$ represents the mean dollar amount spent for the two customers.  Use simulation to:\n",
    "\n",
    "- Plot the approximate distribution of $\\bar{X}$\n",
    "- Estimate its expected value and standard deviation\n",
    "- Estimate the probability that $\\bar{X}$ is more than 2 standard deviations greater than its expected value."
   ]
  },
  {
   "cell_type": "code",
   "execution_count": null,
   "metadata": {
    "autograder": {
     "comments": null,
     "id": "part3b",
     "score": null
    },
    "collapsed": true
   },
   "outputs": [],
   "source": [
    "# Type all of your code for this problem in this cell.\n",
    "# Feel free to add additional cells for scratch work, but they will not be graded."
   ]
  },
  {
   "cell_type": "markdown",
   "metadata": {
    "editable": false
   },
   "source": [
    "## c)\n",
    "\n",
    "Repeat part b) with $n=5$"
   ]
  },
  {
   "cell_type": "code",
   "execution_count": null,
   "metadata": {
    "autograder": {
     "comments": null,
     "id": "part3c",
     "score": null
    },
    "collapsed": true
   },
   "outputs": [],
   "source": [
    "# Type all of your code for this problem in this cell.\n",
    "# Feel free to add additional cells for scratch work, but they will not be graded."
   ]
  },
  {
   "cell_type": "markdown",
   "metadata": {
    "editable": false
   },
   "source": [
    "## d)\n",
    "\n",
    "Repeat part b) with $n=30$"
   ]
  },
  {
   "cell_type": "code",
   "execution_count": null,
   "metadata": {
    "autograder": {
     "comments": null,
     "id": "part3d",
     "score": null
    },
    "collapsed": true
   },
   "outputs": [],
   "source": [
    "# Type all of your code for this problem in this cell.\n",
    "# Feel free to add additional cells for scratch work, but they will not be graded."
   ]
  },
  {
   "cell_type": "markdown",
   "metadata": {
    "editable": false
   },
   "source": [
    "## e)\n",
    "\n",
    "Repeat part b) with $n=100$"
   ]
  },
  {
   "cell_type": "code",
   "execution_count": null,
   "metadata": {
    "autograder": {
     "comments": null,
     "id": "part3e",
     "score": null
    },
    "collapsed": true
   },
   "outputs": [],
   "source": [
    "# Type all of your code for this problem in this cell.\n",
    "# Feel free to add additional cells for scratch work, but they will not be graded."
   ]
  },
  {
   "cell_type": "markdown",
   "metadata": {
    "editable": false
   },
   "source": [
    "## f)\n",
    "\n",
    "How does increasing the sample size $n$ affect the distribution of $\\bar{X}$? "
   ]
  },
  {
   "cell_type": "markdown",
   "metadata": {
    "autograder": {
     "comments": null,
     "id": "part3f",
     "score": null
    }
   },
   "source": [
    "**TYPE YOUR RESPONSE HERE.**"
   ]
  },
  {
   "cell_type": "markdown",
   "metadata": {
    "editable": false
   },
   "source": [
    "## Part IV\n",
    "\n",
    "Now suppose that 90% of the customers spend 5 dollars, but the remaining 10% of customers spend 30 dollars (maybe they treat a few friends to lunch)."
   ]
  },
  {
   "cell_type": "markdown",
   "metadata": {
    "editable": false
   },
   "source": [
    "## a)\n",
    "\n",
    "First assume just a single customer is selected at random, and let $X$ represent the dollar amount spent.  Use simulation to:\n",
    "\n",
    "- Plot the approximate distribution of $X$\n",
    "- Estimate its expected value and standard deviation\n",
    "- Estimate the probability that $X$ is more than 2 standard deviations greater than its expected value."
   ]
  },
  {
   "cell_type": "code",
   "execution_count": null,
   "metadata": {
    "autograder": {
     "comments": null,
     "id": "part4a",
     "score": null
    },
    "collapsed": true
   },
   "outputs": [],
   "source": [
    "# Type all of your code for this problem in this cell.\n",
    "# Feel free to add additional cells for scratch work, but they will not be graded."
   ]
  },
  {
   "cell_type": "markdown",
   "metadata": {
    "editable": false
   },
   "source": [
    "## b)\n",
    "\n",
    "Now $n=2$ customers are selected at random, and $\\bar{X}$ represents the mean dollar amount spent for the two customers.  Use simulation to:\n",
    "\n",
    "- Plot the approximate distribution of $\\bar{X}$\n",
    "- Estimate its expected value and standard deviation\n",
    "- Estimate the probability that $\\bar{X}$ is more than 2 standard deviations greater than its expected value."
   ]
  },
  {
   "cell_type": "code",
   "execution_count": null,
   "metadata": {
    "autograder": {
     "comments": null,
     "id": "part4b",
     "score": null
    },
    "collapsed": true
   },
   "outputs": [],
   "source": [
    "# Type all of your code for this problem in this cell.\n",
    "# Feel free to add additional cells for scratch work, but they will not be graded."
   ]
  },
  {
   "cell_type": "markdown",
   "metadata": {
    "editable": false
   },
   "source": [
    "## c)\n",
    "\n",
    "Repeat part b) with $n=5$"
   ]
  },
  {
   "cell_type": "code",
   "execution_count": null,
   "metadata": {
    "autograder": {
     "comments": null,
     "id": "part4c",
     "score": null
    },
    "collapsed": true
   },
   "outputs": [],
   "source": [
    "# Type all of your code for this problem in this cell.\n",
    "# Feel free to add additional cells for scratch work, but they will not be graded."
   ]
  },
  {
   "cell_type": "markdown",
   "metadata": {
    "editable": false
   },
   "source": [
    "## d)\n",
    "\n",
    "Repeat part b) with $n=30$"
   ]
  },
  {
   "cell_type": "code",
   "execution_count": null,
   "metadata": {
    "autograder": {
     "comments": null,
     "id": "part4d",
     "score": null
    },
    "collapsed": true
   },
   "outputs": [],
   "source": [
    "# Type all of your code for this problem in this cell.\n",
    "# Feel free to add additional cells for scratch work, but they will not be graded."
   ]
  },
  {
   "cell_type": "markdown",
   "metadata": {
    "editable": false
   },
   "source": [
    "## e)\n",
    "\n",
    "Repeat part b) with $n=100$"
   ]
  },
  {
   "cell_type": "code",
   "execution_count": null,
   "metadata": {
    "autograder": {
     "comments": null,
     "id": "part4e",
     "score": null
    },
    "collapsed": true
   },
   "outputs": [],
   "source": [
    "# Type all of your code for this problem in this cell.\n",
    "# Feel free to add additional cells for scratch work, but they will not be graded."
   ]
  },
  {
   "cell_type": "markdown",
   "metadata": {
    "editable": false
   },
   "source": [
    "## f)\n",
    "\n",
    "How does increasing the sample size $n$ affect the distribution of $\\bar{X}$? "
   ]
  },
  {
   "cell_type": "markdown",
   "metadata": {
    "autograder": {
     "comments": null,
     "id": "part4f",
     "score": null
    }
   },
   "source": [
    "**TYPE YOUR RESPONSE HERE.**"
   ]
  },
  {
   "cell_type": "markdown",
   "metadata": {
    "editable": false
   },
   "source": [
    "## Part V\n",
    "\n",
    "Review your work from the previous parts.  Write a few sentences summarizing what you have learned about the distribution of the sample mean of a random sample.  Be sure to consider shape, expected value, and standard deviation of the distribution."
   ]
  },
  {
   "cell_type": "markdown",
   "metadata": {
    "autograder": {
     "comments": null,
     "id": "part5",
     "score": null
    }
   },
   "source": [
    "**TYPE YOUR RESPONSE HERE.**"
   ]
  },
  {
   "cell_type": "markdown",
   "metadata": {
    "editable": false
   },
   "source": [
    "## Submission Instructions\n",
    "\n",
    "Before you submit this notebook, click the \"Kernel\" drop-down menu at the top of this page and select \"Restart & Run All\". This will ensure that all of the code in your notebook executes properly. Please fix any errors, and repeat the process until the entire notebook executes without any errors.\n",
    "\n",
    "Then, to submit your notebook, follow these instructions:\n",
    "- Save your notebook by going to `File > Save and Checkpoint`. \n",
    "- Download your notebook by going to `File > Download as > Notebook (.ipynb)`.\n",
    "- Upload the downloaded `.ipynb` file to PolyLearn."
   ]
  }
 ],
 "metadata": {
  "celltoolbar": "Edit Metadata",
  "kernelspec": {
   "display_name": "Python 3",
   "language": "python",
   "name": "python3"
  },
  "language_info": {
   "codemirror_mode": {
    "name": "ipython",
    "version": 3
   },
   "file_extension": ".py",
   "mimetype": "text/x-python",
   "name": "python",
   "nbconvert_exporter": "python",
   "pygments_lexer": "ipython3",
   "version": "3.5.3"
  }
 },
 "nbformat": 4,
 "nbformat_minor": 2
}
