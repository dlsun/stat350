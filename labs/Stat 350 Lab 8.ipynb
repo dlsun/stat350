{
 "cells": [
  {
   "cell_type": "markdown",
   "metadata": {},
   "source": [
    "# Stat 350 Lab 8\n",
    "\n",
    "# Due Tuesday, November 14 at 11:59 PM"
   ]
  },
  {
   "cell_type": "markdown",
   "metadata": {
    "deletable": false
   },
   "source": [
    "**You are required to work on this lab with a partner. Only one member of each pair should submit the lab.**\n",
    "\n",
    "**Please type your Cal Poly IDs (e.g., kjross) below. (Double click this cell to edit.)**\n",
    "\n",
    "- Student 1 Cal Poly ID: \n",
    "- Student 2 Cal Poly ID:  "
   ]
  },
  {
   "cell_type": "markdown",
   "metadata": {
    "editable": false
   },
   "source": [
    "This Jupyter notebook provides a template for you to fill in.  Read the notebook from start to finish, completing the parts as indicated.  To run a cell, make sure the cell is highlighted by clicking on it, then press SHIFT + ENTER on your keyboard.  (Alternatively, you can click the \"play\" button in the toolbar above.)"
   ]
  },
  {
   "cell_type": "markdown",
   "metadata": {},
   "source": [
    "There are 2 extended problems with multiple parts.  Each part asks you to write some code and to reflect on what you see. There is no need to type a response to the reflection questions, but you should think about them and discuss them with your partner to try to make sense of your simulation results.\n",
    "\n",
    "**Warning:** You may notice that many of the cells in this notebook are not editable. This is intentional and for your own safety. We have made these cells read-only so that you don't accidentally modify or delete them. However, you should still be able to execute the code in these cells."
   ]
  },
  {
   "cell_type": "code",
   "execution_count": null,
   "metadata": {
    "collapsed": true
   },
   "outputs": [],
   "source": [
    "from symbulate import *\n",
    "\n",
    "import numpy as np\n",
    "\n",
    "import matplotlib.pyplot as plt\n",
    "%matplotlib inline\n",
    "\n",
    "from IPython.display import Audio"
   ]
  },
  {
   "cell_type": "markdown",
   "metadata": {},
   "source": [
    "## Problem 1.\n",
    "\n",
    "Here is one example of a discrete time, continuous state process.  Suppose that $X_0 = 0$ and for $n = 0, 1, 2, \\ldots$,\n",
    "\n",
    "$$ X_n = \\phi X_{n - 1} + Z_{n} $$\n",
    "\n",
    "where $Z_1, Z_2, \\ldots$ are i.i.d. $N(0, \\sigma^2)$.  Such a process is called an *autoregressive* process (of order 1).  You can use the function provided below to simulate an AR process.\n",
    "\n",
    "(Note: Strictly speaking, an autoregressive process is defined infinitely far into the past, including for negative times, and does not start at 0 at time 0. However, for simplicity, we are assuming that the process starts at 0 at time 0.)"
   ]
  },
  {
   "cell_type": "code",
   "execution_count": null,
   "metadata": {
    "collapsed": true
   },
   "outputs": [],
   "source": [
    "def simulate_ar_process(phi, var, N):\n",
    "    \"\"\"Simulate N steps of an AR process.\n",
    "    \n",
    "    phi: The parameter $\\phi$ of the AR process.\n",
    "    var: The noise variance ($\\sigma^2$)\n",
    "    N: Number of steps of the AR process to simulate.\n",
    "    \"\"\"\n",
    "    x = np.zeros(N)\n",
    "    for i in range(N-1):\n",
    "        x[i+1] = phi * x[i] + Normal(0, var).draw()\n",
    "    return x"
   ]
  },
  {
   "cell_type": "markdown",
   "metadata": {},
   "source": [
    "### a)\n",
    "\n",
    "Use the function `simulate_ar_process` above to simulate 2 seconds of the AR process\n",
    "\n",
    "$$ X_n = .5 X_{n - 1} + Z_n $$\n",
    "\n",
    "where $Z_1, Z_2, ... \\sim \\textrm{Normal}(\\mu = 0, \\sigma^2 = 4)$, sampled at a rate of $f_s = 4000$ Hz.\n",
    "\n",
    "Plot the signal and listen to it. You may build upon the sample code provided below. (Hint: Use `?np.arange` to view the documentation.)\n",
    "\n",
    "```\n",
    "fs = 4000\n",
    "t = np.arange(...)\n",
    "x = simulate_ar_process(...)\n",
    "plt.plot(t, x)\n",
    "\n",
    "Audio(x, rate=fs)\n",
    "```"
   ]
  },
  {
   "cell_type": "code",
   "execution_count": null,
   "metadata": {
    "autograder": {
     "comments": null,
     "id": "problem1a",
     "score": null
    },
    "collapsed": true,
    "deletable": false
   },
   "outputs": [],
   "source": [
    "# Type all of your code for this problem in this cell.\n",
    "# Feel free to add additional cells for scratch work, but they will not be graded."
   ]
  },
  {
   "cell_type": "markdown",
   "metadata": {},
   "source": [
    "### b)\n",
    "\n",
    "The following code takes the Discrete Fourier Transform of the signal `x`.\n",
    "\n",
    "```\n",
    "x_hat = np.fft.fft(x) / fs\n",
    "```\n",
    "\n",
    "This will create an array of complex numbers `x_hat` with the same length as `x`. These values represent the Fourier transform evaluated at $N$ equal frequencies between $[-f_s / 2, f_s / 2)$. The first $N/2$ values represent the Fourier coefficients for frequencies in $[0, f_s / 2)$, while the remaining $N/2$ values represent Fourier coefficients for frequencies in $[-f_s / 2, 0)$. (The frequencies \"wrap around\" after reaching the Nyquist limit $f_s / 2$.) We typically only plot the first half of the spectrum because the second half is just the reflection of the first half. We also plot the power (magnitude squared), since it's difficult to plot a complex-valued function! (We also scale this power by $f_s / N$ for technical reasons.)\n",
    "\n",
    "```\n",
    "freqs = np.arange(0, fs, fs / len(x))\n",
    "inds = np.arange(len(x) // 2)\n",
    "pow = np.abs(x_hat) ** 2\n",
    "plt.plot(freqs[inds], fs / len(x) * pow[inds])\n",
    "```\n",
    "\n",
    "Plot the Fourier transform of the AR process you generated in (a)."
   ]
  },
  {
   "cell_type": "code",
   "execution_count": null,
   "metadata": {
    "autograder": {
     "comments": null,
     "id": "problem1b",
     "score": null
    },
    "collapsed": true,
    "deletable": false
   },
   "outputs": [],
   "source": [
    "# Type all of your code for this problem in this cell.\n",
    "# Feel free to add additional cells for scratch work, but they will not be graded."
   ]
  },
  {
   "cell_type": "markdown",
   "metadata": {},
   "source": [
    "### c)\n",
    "\n",
    "Notice how noisy the Fourier transform of a single realization is. Remember that the power spectral density for a discrete signal is defined as \n",
    "\n",
    "$$ S_X(f) = \\frac{f_s}{N} E[|\\hat X_N(f)|^2] $$\n",
    "\n",
    "Therefore, to calculate the power spectral density, we have to calculate the expected value of the magnitude squared of the Fourier transform. In other words, we have to simulate many realizations, calculate the Fourier transform, and _average_ the power spectra to obtain the power spectral density.\n",
    "\n",
    "Calculate and plot the power spectral density for the AR process in (a) by averaging the power of the Fourier transform over 20 realizations. (Ideally we would do more, but it would take too long.) Some starter code has been provided for you below."
   ]
  },
  {
   "cell_type": "code",
   "execution_count": null,
   "metadata": {
    "autograder": {
     "comments": null,
     "id": "problem1c",
     "score": null
    },
    "collapsed": true,
    "deletable": false
   },
   "outputs": [],
   "source": [
    "# Type all of your code for this problem in this cell.\n",
    "# Feel free to add additional cells for scratch work, but they will not be graded.\n",
    "\n",
    "nsim = 20\n",
    "\n",
    "# Define a variable that will store the PSD.\n",
    "psd = np.zeros(...)\n",
    "for i in range(nsim):\n",
    "    # Simulate 2 seconds of an AR process. \n",
    "    ...\n",
    "    # Take the Fourier transform and calculate the magnitude squared.\n",
    "    ...\n",
    "    # Add the result to what you have so far.\n",
    "    psd += ...\n",
    "# You now have the sum; divide by nsum to obtain the average.\n",
    "psd = psd / nsim\n",
    "\n",
    "# Plot the result.\n"
   ]
  },
  {
   "cell_type": "markdown",
   "metadata": {},
   "source": [
    "### d)\n",
    "\n",
    "Use the function `simulate_ar_process` above to simulate 2 seconds of the AR process\n",
    "\n",
    "$$ Y_n = (-.5) Y_{n - 1} + Z_{n}. $$\n",
    "\n",
    "where $Z_1, Z_2, ... \\sim \\textrm{Normal}(0, 4)$, sampled at a rate of $f_s = 4000$ Hz.\n",
    "\n",
    "Plot the signal and listen to it. How does it compare to the signal you generated in (a)?"
   ]
  },
  {
   "cell_type": "code",
   "execution_count": null,
   "metadata": {
    "autograder": {
     "comments": null,
     "id": "problem1d",
     "score": null
    },
    "collapsed": true,
    "deletable": false
   },
   "outputs": [],
   "source": [
    "# Type all of your code for this problem in this cell.\n",
    "# Feel free to add additional cells for scratch work, but they will not be graded."
   ]
  },
  {
   "cell_type": "markdown",
   "metadata": {},
   "source": [
    "### e)\n",
    "\n",
    "Plot the Fourier transform of the AR process you generated in (d). How does this Fourier transform compare to the one in (b)?"
   ]
  },
  {
   "cell_type": "code",
   "execution_count": null,
   "metadata": {
    "autograder": {
     "comments": null,
     "id": "problem1e",
     "score": null
    },
    "collapsed": true,
    "deletable": false
   },
   "outputs": [],
   "source": [
    "# Type all of your code for this problem in this cell.\n",
    "# Feel free to add additional cells for scratch work, but they will not be graded."
   ]
  },
  {
   "cell_type": "markdown",
   "metadata": {},
   "source": [
    "### f) \n",
    "\n",
    "Calculate and plot the power spectral density for the AR process in (d) by averaging the power of the Fourier transform over 20 realizations. How does this PSD compare to the one in (c)?"
   ]
  },
  {
   "cell_type": "code",
   "execution_count": null,
   "metadata": {
    "autograder": {
     "comments": null,
     "id": "problem1f",
     "score": null
    },
    "collapsed": true,
    "deletable": false
   },
   "outputs": [],
   "source": [
    "# Type all of your code for this problem in this cell.\n",
    "# Feel free to add additional cells for scratch work, but they will not be graded."
   ]
  },
  {
   "cell_type": "markdown",
   "metadata": {},
   "source": [
    "## Problem 2)\n",
    "\n",
    "Here is another example of a discrete time, continuous state process.  Suppose that for $n = 0, 1, 2, \\ldots$,\n",
    "\n",
    "$$ X_n = \\theta Z_{n - 1} + Z_{n} $$\n",
    "\n",
    "where $Z_{-1}, Z_0, Z_1, \\ldots$ are i.i.d. $N(0, \\sigma^2)$.  Such a process is called an *moving average* process (of order 1).  You can use the function provided below to simulate an MA process."
   ]
  },
  {
   "cell_type": "code",
   "execution_count": null,
   "metadata": {
    "collapsed": true
   },
   "outputs": [],
   "source": [
    "def simulate_ma_process(theta, var, N):\n",
    "    \"\"\"Simulate N steps of an MA process.\n",
    "    \n",
    "    phi: The parameter $\\theta$ of the MA process.\n",
    "    var: The noise variance ($\\sigma^2$)\n",
    "    N: Number of steps of the MA process to simulate.\n",
    "    \"\"\"\n",
    "    x = np.zeros(N)\n",
    "    z = (Normal(0, var) ** (N + 1)).draw()\n",
    "    for i in range(N):\n",
    "        x[i] = theta * z[i] + z[i + 1]\n",
    "    return x"
   ]
  },
  {
   "cell_type": "markdown",
   "metadata": {},
   "source": [
    "### a)\n",
    "\n",
    "Use the function `simulate_ma_process` above to simulate 2 seconds of the MA process\n",
    "\n",
    "$$ X_n = .5 Z_{n-1} + Z_n $$\n",
    "\n",
    "where $Z_1, Z_2, ... \\sim \\textrm{Normal}(\\mu = 0, \\sigma^2 = 4)$, sampled at a rate of $f_s = 4000$ Hz.\n",
    "\n",
    "Plot the signal and listen to it. You may build upon the sample code provided below. (Hint: Use `?np.arange` to view the documentation.)\n",
    "\n",
    "```\n",
    "fs = 4000\n",
    "t = np.arange(...)\n",
    "x = simulate_ma_process(...)\n",
    "plt.plot(t, x)\n",
    "\n",
    "Audio(x, rate=fs)\n",
    "```"
   ]
  },
  {
   "cell_type": "code",
   "execution_count": null,
   "metadata": {
    "autograder": {
     "comments": null,
     "id": "problem2a",
     "score": null
    },
    "collapsed": true,
    "deletable": false
   },
   "outputs": [],
   "source": [
    "# Type all of your code for this problem in this cell.\n",
    "# Feel free to add additional cells for scratch work, but they will not be graded."
   ]
  },
  {
   "cell_type": "markdown",
   "metadata": {},
   "source": [
    "### b)\n",
    "\n",
    "Plot the Fourier transform of the MA process you generated in 2(a). How does this Fourier transform compare to the Fourier transform you plotted in 1(b)?"
   ]
  },
  {
   "cell_type": "code",
   "execution_count": null,
   "metadata": {
    "autograder": {
     "comments": null,
     "id": "problem2b",
     "score": null
    },
    "collapsed": true,
    "deletable": false
   },
   "outputs": [],
   "source": [
    "# Type all of your code for this problem in this cell.\n",
    "# Feel free to add additional cells for scratch work, but they will not be graded."
   ]
  },
  {
   "cell_type": "markdown",
   "metadata": {},
   "source": [
    "### c)\n",
    "\n",
    "Calculate and plot the power spectral density for the MA process in 2(a) by averaging the power of the Fourier transform over 20 realizations. How does this PSD compare to the PSD you plotted in 1(c)?"
   ]
  },
  {
   "cell_type": "code",
   "execution_count": null,
   "metadata": {
    "autograder": {
     "comments": null,
     "id": "problem2c",
     "score": null
    },
    "collapsed": true,
    "deletable": false
   },
   "outputs": [],
   "source": [
    "# Type all of your code for this problem in this cell.\n",
    "# Feel free to add additional cells for scratch work, but they will not be graded."
   ]
  },
  {
   "cell_type": "markdown",
   "metadata": {},
   "source": [
    "### d)\n",
    "\n",
    "Use the function `simulate_ma_process` above to simulate 2 seconds of the MA process\n",
    "\n",
    "$$ Y_n = (-.5) Z_{n - 1} + Z_{n} $$\n",
    "\n",
    "where $Z_1, Z_2, ... \\sim \\textrm{Normal}(0, 4)$, sampled at a rate of $f_s = 4000$ Hz.\n",
    "\n",
    "Plot the signal and listen to it. How does it compare to the signal you generated in 2(a)?"
   ]
  },
  {
   "cell_type": "code",
   "execution_count": null,
   "metadata": {
    "autograder": {
     "comments": null,
     "id": "problem2d",
     "score": null
    },
    "collapsed": true,
    "deletable": false
   },
   "outputs": [],
   "source": [
    "# Type all of your code for this problem in this cell.\n",
    "# Feel free to add additional cells for scratch work, but they will not be graded."
   ]
  },
  {
   "cell_type": "markdown",
   "metadata": {},
   "source": [
    "### e)\n",
    "\n",
    "Plot the Fourier transform of the MA process you generated in 2(d). How does this Fourier transform compare to the ones in 1(e) and 2(b)?"
   ]
  },
  {
   "cell_type": "code",
   "execution_count": null,
   "metadata": {
    "autograder": {
     "comments": null,
     "id": "problem2e",
     "score": null
    },
    "collapsed": true,
    "deletable": false
   },
   "outputs": [],
   "source": [
    "# Type all of your code for this problem in this cell.\n",
    "# Feel free to add additional cells for scratch work, but they will not be graded."
   ]
  },
  {
   "cell_type": "markdown",
   "metadata": {},
   "source": [
    "### f)\n",
    "\n",
    "Calculate and plot the power spectral density for the MA process in 2(d) by averaging the power of the Fourier transform over 20 realizations. How does this PSD compare to the ones in 1(f) and 2(c)?"
   ]
  },
  {
   "cell_type": "code",
   "execution_count": null,
   "metadata": {
    "autograder": {
     "comments": null,
     "id": "problem2f",
     "score": null
    },
    "collapsed": true,
    "deletable": false
   },
   "outputs": [],
   "source": [
    "# Type all of your code for this problem in this cell.\n",
    "# Feel free to add additional cells for scratch work, but they will not be graded."
   ]
  },
  {
   "cell_type": "markdown",
   "metadata": {
    "editable": false
   },
   "source": [
    "## Submission Instructions\n",
    "\n",
    "Before you submit this notebook, click the \"Kernel\" drop-down menu at the top of this page and select \"Restart & Run All\". This will ensure that all of the code in your notebook executes properly. Please fix any errors, and repeat the process until the entire notebook executes without any errors.\n",
    "\n",
    "Then, to submit your notebook, follow these instructions:\n",
    "- Save your notebook by going to `File > Save and Checkpoint`. \n",
    "- Download your notebook by going to `File > Download as > Notebook (.ipynb)`.\n",
    "- Upload the downloaded `.ipynb` file to PolyLearn."
   ]
  }
 ],
 "metadata": {
  "celltoolbar": "Edit Metadata",
  "kernelspec": {
   "display_name": "Python 3",
   "language": "python",
   "name": "python3"
  },
  "language_info": {
   "codemirror_mode": {
    "name": "ipython",
    "version": 3
   },
   "file_extension": ".py",
   "mimetype": "text/x-python",
   "name": "python",
   "nbconvert_exporter": "python",
   "pygments_lexer": "ipython3",
   "version": "3.5.3"
  }
 },
 "nbformat": 4,
 "nbformat_minor": 2
}
