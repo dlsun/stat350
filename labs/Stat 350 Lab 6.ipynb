{
 "cells": [
  {
   "cell_type": "markdown",
   "metadata": {
    "editable": false
   },
   "source": [
    "# Stat 350 Lab 6\n",
    "\n",
    "# Due Tuesday, October 31 at 11:59 PM"
   ]
  },
  {
   "cell_type": "markdown",
   "metadata": {
    "deletable": false
   },
   "source": [
    "**You are required to work on this lab with a partner. Only one member of each pair should submit the lab.**\n",
    "\n",
    "**Please type your Cal Poly IDs (e.g., kjross) below. (Double click this cell to edit.)**\n",
    "\n",
    "- Student 1 Cal Poly ID: \n",
    "- Student 2 Cal Poly ID:  "
   ]
  },
  {
   "cell_type": "markdown",
   "metadata": {
    "editable": false
   },
   "source": [
    "This Jupyter notebook provides a template for you to fill in.  Read the notebook from start to finish, completing the parts as indicated.  To run a cell, make sure the cell is highlighted by clicking on it, then press SHIFT + ENTER on your keyboard.  (Alternatively, you can click the \"play\" button in the toolbar above.)"
   ]
  },
  {
   "cell_type": "markdown",
   "metadata": {
    "editable": false
   },
   "source": [
    "In this lab you will use the Symbulate package.  Many of the commands are discussed in the [Multiple RV Section](https://dlsun.github.io/symbulate/joint.html), the [Conditioning Section](https://dlsun.github.io/symbulate/conditioning.html), or the [Graphics Section](https://dlsun.github.io/symbulate/graphics.html) of the [Symbulate documentation](https://dlsun.github.io/symbulate/index.html). **You should use Symbulate commands whenever possible.**  If you find yourself writing long blocks of Python code, you are probably doing something wrong.  For example, you should not need to write any `for` loops.\n",
    "\n",
    "There are 3 parts, and at the end of each part there are some reflection questions.  There is no need to type a response to the reflection questions, but you should think about them and discuss them with your partner to try to make sense of your simulation results.\n",
    "\n",
    "**Warning:** You may notice that many of the cells in this notebook are not editable. This is intentional and for your own safety. We have made these cells read-only so that you don't accidentally modify or delete them. However, you should still be able to execute the code in these cells."
   ]
  },
  {
   "cell_type": "code",
   "execution_count": null,
   "metadata": {
    "collapsed": true,
    "editable": false
   },
   "outputs": [],
   "source": [
    "from symbulate import *\n",
    "%matplotlib inline"
   ]
  },
  {
   "cell_type": "markdown",
   "metadata": {
    "editable": false
   },
   "source": [
    "# Part I: Two Discrete random variables"
   ]
  },
  {
   "cell_type": "markdown",
   "metadata": {
    "editable": false
   },
   "source": [
    "Roll a fair six-sided die five times and let $X$ be the largest of the five rolls and $Y$ the smallest.\n",
    "\n",
    "Before proceeding, make some guesses about how the following will behave.\n",
    "- Joint distribution of $X$ and $Y$\n",
    "- Conditional distribution of $Y$ given $X=5$."
   ]
  },
  {
   "cell_type": "markdown",
   "metadata": {
    "editable": false
   },
   "source": [
    "# a)\n",
    "\n",
    "Define the random variables $X$ and  $Y$."
   ]
  },
  {
   "cell_type": "code",
   "execution_count": null,
   "metadata": {
    "autograder": {
     "comments": null,
     "id": "part1a",
     "score": null
    },
    "collapsed": true,
    "deletable": false
   },
   "outputs": [],
   "source": [
    "# Type all of your code for this problem in this cell.\n",
    "# Feel free to add additional cells for scratch work, but they will not be graded."
   ]
  },
  {
   "cell_type": "markdown",
   "metadata": {
    "editable": false
   },
   "source": [
    "# b)\n",
    "\n",
    "Simulate 10000 $(X, Y)$ pairs and store the values as `xy`.  Estimate the covariance.  ([Hint](https://dlsun.github.io/symbulate/joint.html#ampersand) and [hint](https://dlsun.github.io/symbulate/joint.html#cov))"
   ]
  },
  {
   "cell_type": "code",
   "execution_count": null,
   "metadata": {
    "autograder": {
     "comments": null,
     "id": "part1b",
     "score": null
    },
    "collapsed": true,
    "deletable": false
   },
   "outputs": [],
   "source": [
    "# Type all of your code for this problem in this cell.\n",
    "# Feel free to add additional cells for scratch work, but they will not be graded."
   ]
  },
  {
   "cell_type": "markdown",
   "metadata": {
    "editable": false
   },
   "source": [
    "# c)\n",
    "\n",
    "Make a scatterplot of the simulated values.  ([Hint](https://dlsun.github.io/symbulate/joint.html#plot).  Note that it is recommnded to use `jitter=True` when the variables involved are discrete.)"
   ]
  },
  {
   "cell_type": "code",
   "execution_count": null,
   "metadata": {
    "autograder": {
     "comments": null,
     "id": "part1c",
     "score": null
    },
    "collapsed": true,
    "deletable": false
   },
   "outputs": [],
   "source": [
    "# Type all of your code for this problem in this cell.\n",
    "# Feel free to add additional cells for scratch work, but they will not be graded."
   ]
  },
  {
   "cell_type": "markdown",
   "metadata": {
    "editable": false
   },
   "source": [
    "# d)\n",
    "\n",
    "Make a tile plot of the simulated values.  ([Hint](https://dlsun.github.io/symbulate/graphics.html#tile))"
   ]
  },
  {
   "cell_type": "code",
   "execution_count": null,
   "metadata": {
    "autograder": {
     "comments": null,
     "id": "part1d",
     "score": null
    },
    "collapsed": true,
    "deletable": false
   },
   "outputs": [],
   "source": [
    "# Type all of your code for this problem in this cell.\n",
    "# Feel free to add additional cells for scratch work, but they will not be graded."
   ]
  },
  {
   "cell_type": "markdown",
   "metadata": {
    "editable": false
   },
   "source": [
    "# e)\n",
    "\n",
    "Use simulation to approximate the conditional distribution of $Y$ given $X=5$ and approximate the conditional mean $E(Y | X=5)$ and the conditional standard deviation.  ([Hint](https://dlsun.github.io/symbulate/conditioning.html#pipe), but also see all of the [Conditioning Section](https://dlsun.github.io/symbulate/conditioning.html).)"
   ]
  },
  {
   "cell_type": "code",
   "execution_count": null,
   "metadata": {
    "autograder": {
     "comments": null,
     "id": "part1e",
     "score": null
    },
    "collapsed": true,
    "deletable": false
   },
   "outputs": [],
   "source": [
    "# Type all of your code for this problem in this cell.\n",
    "# Feel free to add additional cells for scratch work, but they will not be graded."
   ]
  },
  {
   "cell_type": "markdown",
   "metadata": {
    "editable": false
   },
   "source": [
    "# f) Reflection questions\n",
    "\n",
    "Recall the guesses you made at the start of the problem, and inspect your results from the previous parts.  Can you explain the behavior you observed for the following?\n",
    "\n",
    "- Joint distribution of $X$ and $Y$\n",
    "- Conditional distribution of $Y$ given $X=5$.\n",
    "\n",
    "[You do not need to submit anything for these reflection questions. Just think about them!]"
   ]
  },
  {
   "cell_type": "markdown",
   "metadata": {
    "editable": false
   },
   "source": [
    "# Part II: Two continuous random variables"
   ]
  },
  {
   "cell_type": "markdown",
   "metadata": {
    "collapsed": true,
    "editable": false
   },
   "source": [
    "Suppose that the base $U$ and height $V$ of a random rectangle are independent random variables, with each following a Uniform(0, 1) distribution.  Let $X$ be the perimeter of the rectangle and $Y$ its area.  In this part you will investigate the joint distribution of $X$ and $Y$.\n",
    "\n",
    "Before proceeding, make some guesses about how the following will behave.\n",
    "- Joint distribution of $X$ and $Y$\n",
    "- Marginal distribution of $Y$\n",
    "- Conditional distribution of $Y$ given $X=2$."
   ]
  },
  {
   "cell_type": "markdown",
   "metadata": {
    "editable": false
   },
   "source": [
    "# a)\n",
    "\n",
    "Define appropriate random variables $U, V, X, Y$.  ([Hint](https://dlsun.github.io/symbulate/joint.html#unpack), but also see the [Multiple RV Section](https://dlsun.github.io/symbulate/joint.html) in general.)"
   ]
  },
  {
   "cell_type": "code",
   "execution_count": null,
   "metadata": {
    "autograder": {
     "comments": null,
     "id": "part2a",
     "score": null
    },
    "collapsed": true,
    "deletable": false
   },
   "outputs": [],
   "source": [
    "# Type all of your code for this problem in this cell.\n",
    "# Feel free to add additional cells for scratch work, but they will not be graded."
   ]
  },
  {
   "cell_type": "markdown",
   "metadata": {
    "editable": false
   },
   "source": [
    "# b)\n",
    "\n",
    "Simulate 10000 $(X, Y)$ pairs and store the values as `xy`.  Estimate the covariance.  ([Hint](https://dlsun.github.io/symbulate/joint.html#ampersand) and [hint](https://dlsun.github.io/symbulate/joint.html#cov))"
   ]
  },
  {
   "cell_type": "code",
   "execution_count": null,
   "metadata": {
    "autograder": {
     "comments": null,
     "id": "part2b",
     "score": null
    },
    "collapsed": true,
    "deletable": false
   },
   "outputs": [],
   "source": [
    "# Type all of your code for this problem in this cell.\n",
    "# Feel free to add additional cells for scratch work, but they will not be graded."
   ]
  },
  {
   "cell_type": "markdown",
   "metadata": {
    "editable": false
   },
   "source": [
    "# c)\n",
    "\n",
    "Make a scatterplot of the simulated values.  ([Hint](https://dlsun.github.io/symbulate/graphics.html#scatter))"
   ]
  },
  {
   "cell_type": "code",
   "execution_count": null,
   "metadata": {
    "autograder": {
     "comments": null,
     "id": "part2c",
     "score": null
    },
    "collapsed": true,
    "deletable": false
   },
   "outputs": [],
   "source": [
    "# Type all of your code for this problem in this cell.\n",
    "# Feel free to add additional cells for scratch work, but they will not be graded."
   ]
  },
  {
   "cell_type": "markdown",
   "metadata": {
    "editable": false
   },
   "source": [
    "# d)\n",
    "\n",
    "Make a two-dimensional histogram of the simulated values.  ([Hint](https://dlsun.github.io/symbulate/graphics.html#hist2d))"
   ]
  },
  {
   "cell_type": "code",
   "execution_count": null,
   "metadata": {
    "autograder": {
     "comments": null,
     "id": "part2d",
     "score": null
    },
    "collapsed": true,
    "deletable": false
   },
   "outputs": [],
   "source": [
    "# Type all of your code for this problem in this cell.\n",
    "# Feel free to add additional cells for scratch work, but they will not be graded."
   ]
  },
  {
   "cell_type": "markdown",
   "metadata": {
    "editable": false
   },
   "source": [
    "# e)\n",
    "\n",
    "Make a two-dimensional density plot of the simulated values.  ([Hint](https://dlsun.github.io/symbulate/graphics.html#density2d))"
   ]
  },
  {
   "cell_type": "code",
   "execution_count": null,
   "metadata": {
    "autograder": {
     "comments": null,
     "id": "part2e",
     "score": null
    },
    "collapsed": true,
    "deletable": false
   },
   "outputs": [],
   "source": [
    "# Type all of your code for this problem in this cell.\n",
    "# Feel free to add additional cells for scratch work, but they will not be graded."
   ]
  },
  {
   "cell_type": "markdown",
   "metadata": {
    "editable": false
   },
   "source": [
    "# f)\n",
    "\n",
    "Use simulation to approximate the marginal distribution of $Y$ and approximate its mean and standard deviation."
   ]
  },
  {
   "cell_type": "code",
   "execution_count": null,
   "metadata": {
    "autograder": {
     "comments": null,
     "id": "part2f",
     "score": null
    },
    "collapsed": true,
    "deletable": false
   },
   "outputs": [],
   "source": [
    "# Type all of your code for this problem in this cell.\n",
    "# Feel free to add additional cells for scratch work, but they will not be graded."
   ]
  },
  {
   "cell_type": "markdown",
   "metadata": {
    "editable": false
   },
   "source": [
    "# g)\n",
    "\n",
    "Use simulation to approximate the conditional distribution of $Y$ given $X=2$ and approximate the conditional mean $E(Y | X=2)$ and the conditional standard deviation.  (Warning: Be careful!  See this [hint](https://dlsun.github.io/symbulate/conditioning.html#pipe) and especially this [hint](https://dlsun.github.io/symbulate/conditioning.html#continuous).)"
   ]
  },
  {
   "cell_type": "code",
   "execution_count": null,
   "metadata": {
    "autograder": {
     "comments": null,
     "id": "part2g",
     "score": null
    },
    "collapsed": true,
    "deletable": false
   },
   "outputs": [],
   "source": [
    "# Type all of your code for this problem in this cell.\n",
    "# Feel free to add additional cells for scratch work, but they will not be graded."
   ]
  },
  {
   "cell_type": "markdown",
   "metadata": {
    "editable": false
   },
   "source": [
    "# h) Reflection questions\n",
    "\n",
    "Recall the guesses you made at the start of the problem, and inspect your results from the previous parts.  Can you explain the behavior you observed for the following?\n",
    "\n",
    "- Joint distribution of $X$ and $Y$\n",
    "- Marginal distribution of $Y$\n",
    "- Conditional distribution of $Y$ given $X=2$.\n",
    "\n",
    "[You do not need to submit anything for these reflection questions. Just think about them!]"
   ]
  },
  {
   "cell_type": "markdown",
   "metadata": {
    "editable": false
   },
   "source": [
    "# Part III: Joint Gaussian random variables"
   ]
  },
  {
   "cell_type": "markdown",
   "metadata": {
    "editable": false
   },
   "source": [
    "Just like Gaussian (Normal) distributions are the most important probability distributions, joint Gaussian (Multivariate Normal) distributions are the most important joint distributions.  In this part you will investigate two random variables which have a joint Gaussian distribution.\n",
    "\n",
    "Suppose that SAT Math ($M$) and Reading ($R$) scores of CalPoly students have a Bivariate Normal\n",
    "(joint Gaussian) distribution.\n",
    "- Math scores have mean 635 and SD 85.\n",
    "- Reading scores have mean 595 and SD 70.\n",
    "- The covariance between the scores is 3570 (so the correlation between the scores is 0.6).\n",
    "\n",
    "Let $X = M + R$, the total of the two scores.  Let $Y = M- R$, the difference between Math and Reading scores."
   ]
  },
  {
   "cell_type": "markdown",
   "metadata": {
    "editable": false
   },
   "source": [
    "# a)\n",
    "\n",
    "Define RVs $M, R, X, Y$. ([Hint](https://dlsun.github.io/symbulate/common_joint.html#bvn))"
   ]
  },
  {
   "cell_type": "code",
   "execution_count": null,
   "metadata": {
    "autograder": {
     "comments": null,
     "id": "part3a",
     "score": null
    },
    "collapsed": true,
    "deletable": false
   },
   "outputs": [],
   "source": [
    "# Type all of your code for this problem in this cell.\n",
    "# Feel free to add additional cells for scratch work, but they will not be graded."
   ]
  },
  {
   "cell_type": "markdown",
   "metadata": {
    "editable": false
   },
   "source": [
    "# b)\n",
    "\n",
    "Simulate 10000 $(M, R)$ pairs.  Use the simulation results to approximate $E(M)$, $E(R)$, $SD(M)$, $SD(R)$, and $Cov(M, R)$. "
   ]
  },
  {
   "cell_type": "code",
   "execution_count": null,
   "metadata": {
    "autograder": {
     "comments": null,
     "id": "part3b",
     "score": null
    },
    "collapsed": true,
    "deletable": false
   },
   "outputs": [],
   "source": [
    "# Type all of your code for this problem in this cell.\n",
    "# Feel free to add additional cells for scratch work, but they will not be graded."
   ]
  },
  {
   "cell_type": "markdown",
   "metadata": {
    "editable": false
   },
   "source": [
    "# c)\n",
    "\n",
    "Make a scatterplot of the simulated values.  Add histograms of the marginal distributions.  (Hint: `.plot(type=[\"scatter\", \"marginal\"])`."
   ]
  },
  {
   "cell_type": "code",
   "execution_count": null,
   "metadata": {
    "autograder": {
     "comments": null,
     "id": "part3c",
     "score": null
    },
    "collapsed": true,
    "deletable": false
   },
   "outputs": [],
   "source": [
    "# Type all of your code for this problem in this cell.\n",
    "# Feel free to add additional cells for scratch work, but they will not be graded."
   ]
  },
  {
   "cell_type": "markdown",
   "metadata": {
    "editable": false
   },
   "source": [
    "# d)\n",
    "\n",
    "Make a density plot of the simulated values. Add density plots of the marginal distributions.  (Hint: `.plot(type=[\"density\", \"marginal\"])`."
   ]
  },
  {
   "cell_type": "code",
   "execution_count": null,
   "metadata": {
    "autograder": {
     "comments": null,
     "id": "part3d",
     "score": null
    },
    "collapsed": true,
    "deletable": false
   },
   "outputs": [],
   "source": [
    "# Type all of your code for this problem in this cell.\n",
    "# Feel free to add additional cells for scratch work, but they will not be graded."
   ]
  },
  {
   "cell_type": "markdown",
   "metadata": {
    "editable": false
   },
   "source": [
    "# e)\n",
    "\n",
    "Now simulate 10000 values of $X = M+R$.  Plot the approximate distribution of $X$ and estimate $E(X)$ and $SD(X)$."
   ]
  },
  {
   "cell_type": "code",
   "execution_count": null,
   "metadata": {
    "autograder": {
     "comments": null,
     "id": "part3e",
     "score": null
    },
    "collapsed": true,
    "deletable": false
   },
   "outputs": [],
   "source": [
    "# Type all of your code for this problem in this cell.\n",
    "# Feel free to add additional cells for scratch work, but they will not be graded."
   ]
  },
  {
   "cell_type": "markdown",
   "metadata": {
    "collapsed": true,
    "editable": false
   },
   "source": [
    "# f)\n",
    "\n",
    "Now simulate 10000 values of $Y = M - R$.  Plot the approximate distribution of $Y$ and estimate $E(Y)$ and $SD(Y)$."
   ]
  },
  {
   "cell_type": "code",
   "execution_count": null,
   "metadata": {
    "autograder": {
     "comments": null,
     "id": "part3f",
     "score": null
    },
    "collapsed": true,
    "deletable": false
   },
   "outputs": [],
   "source": [
    "# Type all of your code for this problem in this cell.\n",
    "# Feel free to add additional cells for scratch work, but they will not be graded."
   ]
  },
  {
   "cell_type": "markdown",
   "metadata": {
    "editable": false
   },
   "source": [
    "# g)\n",
    "\n",
    "Use simulation to approximate the distribution of $M$ given $R=700$.  Make a plot of the approximate distribution and estimate the conditional mean $E(M | R = 700)$ and the conditional standard deviation.  (Warning: Be careful!  See this [hint](https://dlsun.github.io/symbulate/conditioning.html#pipe) and especially this [hint](https://dlsun.github.io/symbulate/conditioning.html#continuous).)"
   ]
  },
  {
   "cell_type": "code",
   "execution_count": null,
   "metadata": {
    "autograder": {
     "comments": null,
     "id": "part3g",
     "score": null
    },
    "collapsed": true,
    "deletable": false
   },
   "outputs": [],
   "source": [
    "# Type all of your code for this problem in this cell.\n",
    "# Feel free to add additional cells for scratch work, but they will not be graded."
   ]
  },
  {
   "cell_type": "markdown",
   "metadata": {
    "editable": false
   },
   "source": [
    "# h) Reflection questions\n",
    "\n",
    "Inspect your results from the previous parts.\n",
    "\n",
    "- How would you describe the shape of the scatterplot/density plot of $M$ and $R$?\n",
    "- How would you describe the marginal distributions of $M$ and $R$?\n",
    "- How does the distribution of $M+R$ compare to the distribution of $M-R$?  In particular, how do the SDs compare?  How do the SDs compare to the case when $M$ and $R$ are independent? Can you explain why this makes sense?\n",
    "- How would you describe the conditional distribution of $M$ given $R=700$?  How does it compare to the marginal distribution of $M$?  Can you explain why this makes sense?  Be sure to consider mean and sd.\n",
    "\n",
    "[You do not need to submit anything for these reflection questions. Just think about them!]"
   ]
  },
  {
   "cell_type": "markdown",
   "metadata": {
    "editable": false
   },
   "source": [
    "## Submission Instructions\n",
    "\n",
    "Before you submit this notebook, click the \"Kernel\" drop-down menu at the top of this page and select \"Restart & Run All\". This will ensure that all of the code in your notebook executes properly. Please fix any errors, and repeat the process until the entire notebook executes without any errors.\n",
    "\n",
    "Then, to submit your notebook, follow these instructions:\n",
    "- Save your notebook by going to `File > Save and Checkpoint`. \n",
    "- Download your notebook by going to `File > Download as > Notebook (.ipynb)`.\n",
    "- Upload the downloaded `.ipynb` file to PolyLearn."
   ]
  }
 ],
 "metadata": {
  "celltoolbar": "Edit Metadata",
  "kernelspec": {
   "display_name": "Python 3",
   "language": "python",
   "name": "python3"
  },
  "language_info": {
   "codemirror_mode": {
    "name": "ipython",
    "version": 3
   },
   "file_extension": ".py",
   "mimetype": "text/x-python",
   "name": "python",
   "nbconvert_exporter": "python",
   "pygments_lexer": "ipython3",
   "version": "3.5.3"
  }
 },
 "nbformat": 4,
 "nbformat_minor": 2
}
