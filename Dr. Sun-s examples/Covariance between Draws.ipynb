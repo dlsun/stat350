{
 "cells": [
  {
   "cell_type": "code",
   "execution_count": 1,
   "metadata": {
    "collapsed": true
   },
   "outputs": [],
   "source": [
    "from symbulate import *\n",
    "%matplotlib inline"
   ]
  },
  {
   "cell_type": "code",
   "execution_count": 6,
   "metadata": {},
   "outputs": [
    {
     "data": {
      "text/html": [
       "\n",
       "    <table>\n",
       "      <thead>\n",
       "        <th width=\"10%\">Index</th>\n",
       "        <th width=\"90%\">Result</th>\n",
       "      </thead>\n",
       "      <tbody>\n",
       "        \n",
       "        <tr>\n",
       "          <td>0</td><td>(1, 0, 1)</td>\n",
       "        </tr>\n",
       "        \n",
       "        <tr>\n",
       "          <td>1</td><td>(1, 1, 1)</td>\n",
       "        </tr>\n",
       "        \n",
       "        <tr>\n",
       "          <td>2</td><td>(0, 0, 1)</td>\n",
       "        </tr>\n",
       "        \n",
       "        <tr>\n",
       "          <td>3</td><td>(0, 0, 0)</td>\n",
       "        </tr>\n",
       "        \n",
       "        <tr>\n",
       "          <td>4</td><td>(1, 1, 0)</td>\n",
       "        </tr>\n",
       "        \n",
       "        <tr>\n",
       "          <td>5</td><td>(0, 1, 1)</td>\n",
       "        </tr>\n",
       "        \n",
       "        <tr>\n",
       "          <td>6</td><td>(0, 1, 0)</td>\n",
       "        </tr>\n",
       "        \n",
       "        <tr>\n",
       "          <td>7</td><td>(0, 0, 0)</td>\n",
       "        </tr>\n",
       "        \n",
       "        <tr>\n",
       "          <td>8</td><td>(1, 0, 0)</td>\n",
       "        </tr>\n",
       "        <tr><td>...</td><td>...</td></tr>\n",
       "        <tr>\n",
       "          <td>99</td><td>(0, 0, 0)</td>\n",
       "        </tr>\n",
       "        \n",
       "      </tbody>\n",
       "    </table>\n",
       "    "
      ],
      "text/plain": [
       "[(1, 0, 1),\n",
       " (1, 1, 1),\n",
       " (0, 0, 1),\n",
       " (0, 0, 0),\n",
       " (1, 1, 0),\n",
       " (0, 1, 1),\n",
       " (0, 1, 0),\n",
       " (0, 0, 0),\n",
       " (1, 0, 0),\n",
       " (0, 0, 1),\n",
       " (1, 1, 1),\n",
       " (1, 0, 1),\n",
       " (0, 1, 0),\n",
       " (1, 1, 1),\n",
       " (0, 1, 1),\n",
       " (0, 0, 1),\n",
       " (1, 0, 0),\n",
       " (0, 1, 1),\n",
       " (0, 1, 1),\n",
       " (1, 0, 1),\n",
       " (1, 0, 1),\n",
       " (0, 0, 1),\n",
       " (0, 0, 0),\n",
       " (0, 0, 1),\n",
       " (1, 1, 1),\n",
       " (0, 0, 1),\n",
       " (1, 0, 0),\n",
       " (0, 0, 1),\n",
       " (1, 1, 0),\n",
       " (0, 1, 0),\n",
       " (1, 0, 0),\n",
       " (1, 0, 1),\n",
       " (1, 1, 0),\n",
       " (1, 0, 1),\n",
       " (0, 0, 1),\n",
       " (0, 1, 1),\n",
       " (0, 0, 0),\n",
       " (0, 0, 0),\n",
       " (0, 1, 1),\n",
       " (0, 0, 1),\n",
       " (1, 0, 0),\n",
       " (0, 1, 0),\n",
       " (0, 0, 1),\n",
       " (1, 0, 0),\n",
       " (1, 0, 1),\n",
       " (1, 0, 0),\n",
       " (0, 0, 1),\n",
       " (1, 0, 0),\n",
       " (1, 1, 1),\n",
       " (0, 0, 0),\n",
       " (0, 0, 1),\n",
       " (1, 0, 0),\n",
       " (0, 1, 0),\n",
       " (1, 1, 0),\n",
       " (1, 0, 0),\n",
       " (0, 0, 1),\n",
       " (0, 0, 0),\n",
       " (0, 0, 1),\n",
       " (1, 1, 0),\n",
       " (1, 0, 0),\n",
       " (1, 0, 1),\n",
       " (0, 1, 0),\n",
       " (1, 0, 0),\n",
       " (0, 1, 0),\n",
       " (0, 0, 1),\n",
       " (1, 0, 0),\n",
       " (1, 0, 0),\n",
       " (0, 1, 1),\n",
       " (0, 0, 1),\n",
       " (1, 0, 1),\n",
       " (0, 0, 0),\n",
       " (1, 0, 0),\n",
       " (1, 1, 1),\n",
       " (0, 1, 0),\n",
       " (0, 1, 1),\n",
       " (1, 0, 0),\n",
       " (1, 0, 1),\n",
       " (1, 0, 0),\n",
       " (0, 1, 1),\n",
       " (0, 1, 1),\n",
       " (0, 1, 0),\n",
       " (0, 1, 0),\n",
       " (0, 0, 1),\n",
       " (1, 0, 0),\n",
       " (0, 0, 0),\n",
       " (0, 1, 0),\n",
       " (0, 1, 0),\n",
       " (0, 0, 1),\n",
       " (1, 0, 0),\n",
       " (0, 0, 0),\n",
       " (1, 1, 0),\n",
       " (0, 0, 0),\n",
       " (0, 1, 0),\n",
       " (1, 1, 1),\n",
       " (1, 1, 0),\n",
       " (0, 1, 0),\n",
       " (0, 0, 1),\n",
       " (1, 1, 0),\n",
       " (0, 1, 1),\n",
       " (0, 0, 0)]"
      ]
     },
     "execution_count": 6,
     "metadata": {},
     "output_type": "execute_result"
    }
   ],
   "source": [
    "P = BoxModel({1: 4, 0: 6}, \n",
    "             size=3, replace=False)\n",
    "\n",
    "P.sim(100)"
   ]
  },
  {
   "cell_type": "code",
   "execution_count": 11,
   "metadata": {},
   "outputs": [
    {
     "data": {
      "text/html": [
       "\n",
       "    <table>\n",
       "      <thead>\n",
       "        <th width=\"80%\">Outcome</th>\n",
       "        <th width=\"20%\">Value</th>\n",
       "      </thead>\n",
       "      <tbody>\n",
       "        <tr><td>0</td><td>6013</td></tr><tr><td>1</td><td>3987</td></tr><tr><td><b>Total</b></td><td><b>10000</b></td></tr>\n",
       "      </tbody>\n",
       "    </table>\n",
       "    "
      ],
      "text/plain": [
       "{0: 6013, 1: 3987}"
      ]
     },
     "execution_count": 11,
     "metadata": {},
     "output_type": "execute_result"
    }
   ],
   "source": [
    "X = RV(P)\n",
    "\n",
    "X[2].sim(10000).tabulate()"
   ]
  },
  {
   "cell_type": "code",
   "execution_count": 13,
   "metadata": {},
   "outputs": [
    {
     "data": {
      "text/plain": [
       "-0.027032623262326215"
      ]
     },
     "execution_count": 13,
     "metadata": {},
     "output_type": "execute_result"
    }
   ],
   "source": [
    "(X[0] & X[1]).sim(10000).cov()"
   ]
  },
  {
   "cell_type": "code",
   "execution_count": null,
   "metadata": {
    "collapsed": true
   },
   "outputs": [],
   "source": []
  }
 ],
 "metadata": {
  "kernelspec": {
   "display_name": "Python 3",
   "language": "python",
   "name": "python3"
  },
  "language_info": {
   "codemirror_mode": {
    "name": "ipython",
    "version": 3
   },
   "file_extension": ".py",
   "mimetype": "text/x-python",
   "name": "python",
   "nbconvert_exporter": "python",
   "pygments_lexer": "ipython3",
   "version": "3.6.2"
  }
 },
 "nbformat": 4,
 "nbformat_minor": 2
}
