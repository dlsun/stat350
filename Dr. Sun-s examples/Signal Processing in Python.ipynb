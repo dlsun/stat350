{
 "cells": [
  {
   "cell_type": "markdown",
   "metadata": {},
   "source": [
    "# Signal Processing in Python\n",
    "\n",
    "In this notebook, you will learn to synthesize audio signals and analyze them using Fourier transforms."
   ]
  },
  {
   "cell_type": "markdown",
   "metadata": {},
   "source": [
    "## You must first run the cell below."
   ]
  },
  {
   "cell_type": "code",
   "execution_count": null,
   "metadata": {},
   "outputs": [],
   "source": [
    "import numpy as np\n",
    "import matplotlib.pyplot as plt\n",
    "%matplotlib inline\n",
    "\n",
    "from IPython.display import Audio\n",
    "from scipy.io import wavfile\n",
    "from io import BytesIO"
   ]
  },
  {
   "cell_type": "markdown",
   "metadata": {},
   "source": [
    "## Part 1: Pure Sine Tones\n",
    "\n",
    "To generate a 440 Hz pure sine tone that lasts for 5 seconds at a sampling rate of 8000 Hz, we would write:\n",
    "```\n",
    "fs = 8000\n",
    "t = np.arange(0, 5, 1 / fs)\n",
    "x = np.sin(2 * np.pi * 440 * t)\n",
    "```\n",
    "\n",
    "Note the use of functions and constants that are available in the Numpy (`np`) library. \n",
    "\n",
    "To plot the first 0.01 seconds of this signal, type:\n",
    "```\n",
    "plt.plot(t[t < .01], x[t < .01])\n",
    "```\n",
    "\n",
    "To listen to the signal at the sampling rate, type:\n",
    "```\n",
    "Audio(x, fs)\n",
    "```\n",
    "\n",
    "Give it a try below!"
   ]
  },
  {
   "cell_type": "code",
   "execution_count": null,
   "metadata": {},
   "outputs": [],
   "source": [
    "fs = 8000\n",
    "t = np.arange(0, 5, 1 / fs)\n",
    "x = np.sin(2 * np.pi * 440 * t)\n",
    "plt.plot(t[t < .01], x[t < .01])\n",
    "Audio(x, rate=fs)"
   ]
  },
  {
   "cell_type": "markdown",
   "metadata": {},
   "source": [
    "Generate an audio signal that consists of pure 220 Hz and 550 Hz sine tones. Make the 550 Hz sine tone half as loud as the 220 Hz sine tone.\n",
    "\n",
    "**(a)** Plot the first 0.05 seconds of this signal. Listen to the audio signal."
   ]
  },
  {
   "cell_type": "code",
   "execution_count": null,
   "metadata": {},
   "outputs": [],
   "source": [
    "# PLEASE TYPE YOUR CODE HERE."
   ]
  },
  {
   "cell_type": "markdown",
   "metadata": {},
   "source": [
    "You can take the Discrete Fourier Transform (DFT) of a signal using the following command. (FFT stands for Fast Fourier Transform, the standard algorithm for computing the DFT.)\n",
    "\n",
    "```\n",
    "x_hat = np.fft.fft(x)\n",
    "```\n",
    "\n",
    "This will create an array of complex numbers `x_hat` with the same length as `x`. These values represent the Fourier transform evaluated at $N$ equal frequencies between $[-f_s / 2, f_s / 2)$. The first $N/2$ values represent the Fourier coefficients for frequencies in $[0, f_s / 2)$, while the remaining $N/2$ values represent Fourier coefficients for frequencies in $[-f_s / 2, 0)$. (The frequencies \"wrap around\" after reaching the Nyquist limit $f_s / 2$.) We typically only plot the first half of the spectrum because the second half is just the reflection of the first half. We also plot the power (magnitude squared), since it's difficult to plot a complex-valued function!\n",
    "\n",
    "```\n",
    "freqs = np.arange(0, fs, fs / len(x))\n",
    "inds = np.arange(len(x) // 2)\n",
    "plt.plot(freqs[inds], np.abs(x_hat[inds]) ** 2)\n",
    "```"
   ]
  },
  {
   "cell_type": "markdown",
   "metadata": {},
   "source": [
    "**(b)** Take the DFT of the signal you generated in part (a). Make sure that it recovers the two frequencies that you know were actually in your signal."
   ]
  },
  {
   "cell_type": "code",
   "execution_count": null,
   "metadata": {},
   "outputs": [],
   "source": [
    "# PLEASE TYPE YOUR CODE HERE."
   ]
  },
  {
   "cell_type": "markdown",
   "metadata": {},
   "source": [
    "## Part 2: Harmonics\n",
    "\n",
    "When an instrument plays a single note, like C4 (261 Hz), it is typically not a pure sine wave but a superposition of several sine waves. The lowest frequency in this signal is called the fundamental frequency (in the case of C4, 261 Hz). The other frequencies are called the harmonics and are integer multiples of the fundamental frequencies (in the case of C4, the harmonics are at 522 Hz, 783 Hz, 1044 Hz, and so on). The harmonics blend so well with the fundamental that the human ear just perceives one note. However, the harmonics shape the character of the sound and are the main difference a violin sounds different from a trumpet playing the same note.\n",
    "\n",
    "For more background information about harmonics, please refer to [this reference](https://newt.phys.unsw.edu.au/jw/strings.html). (Let us know if you find any other good references!)\n",
    "\n",
    "You can read in an audio file from a URL as follows:\n",
    "\n",
    "```\n",
    "audio = Audio(url=\"http://www.calpoly.edu/~dsun09/stat350/labs/piano.wav\", embed=True)\n",
    "```\n",
    "\n",
    "You can get the sampling rate and the actual samples from the audio as follows:\n",
    "\n",
    "```\n",
    "fs, x = wavfile.read(BytesIO(audio.data))\n",
    "```\n",
    "\n",
    "Try it out below!"
   ]
  },
  {
   "cell_type": "code",
   "execution_count": null,
   "metadata": {},
   "outputs": [],
   "source": [
    "audio = Audio(url=\"http://www.calpoly.edu/~dsun09/stat350/labs/piano.wav\", embed=True)\n",
    "fs, x = wavfile.read(BytesIO(audio.data))\n",
    "\n",
    "t = np.arange(0, len(x) / fs, step=1 / fs)\n",
    "plt.plot(t, x)\n",
    "plt.xlim(0, 0.3)"
   ]
  },
  {
   "cell_type": "markdown",
   "metadata": {
    "collapsed": true
   },
   "source": [
    "**(a)** The following audio files feature four different instruments playing the same mystery note.\n",
    "\n",
    "- http://www.calpoly.edu/~dsun09/stat350/labs/piano.wav\n",
    "- http://www.calpoly.edu/~dsun09/stat350/labs/violin.wav\n",
    "- http://www.calpoly.edu/~dsun09/stat350/labs/flute.wav\n",
    "- http://www.calpoly.edu/~dsun09/stat350/labs/trumpet.wav\n",
    "\n",
    "Read in each of these files. By taking a DFT, identify the mystery note that is being played. You will want to look for the fundamental frequency. You can refer to [this table](http://www.deimos.ca/notefreqs/) to determine the frequency in Hertz of various musical notes (e.g., A, B, C, D, E, F, G).\n",
    "\n",
    "(Feel free to just eyeball the frequency from the plot. You can zoom in on a particular region of the x-axis using `plt.xlim()`. Zoom in until you have enough resolution to distinguish the note from the neighboring notes, according to [the table](http://www.deimos.ca/notefreqs/).) "
   ]
  },
  {
   "cell_type": "code",
   "execution_count": null,
   "metadata": {
    "collapsed": true
   },
   "outputs": [],
   "source": [
    "# PLEASE TYPE YOUR CODE HERE.\n",
    "# YOU MAY ADD MORE CODE CELLS AS NECESSARY."
   ]
  },
  {
   "cell_type": "markdown",
   "metadata": {},
   "source": [
    "**PLEASE TYPE YOUR EXPLANATION HERE.**"
   ]
  },
  {
   "cell_type": "markdown",
   "metadata": {},
   "source": [
    "**(b)** All four signals had the same fundamental and the same harmonics. Why do they sound different? Use a frequency analysis to answer this question, describing the differences between the harmonics for piano, violin, flute, and trumpet."
   ]
  },
  {
   "cell_type": "code",
   "execution_count": null,
   "metadata": {
    "collapsed": true
   },
   "outputs": [],
   "source": [
    "# PLEASE TYPE YOUR CODE HERE.\n",
    "# YOU MAY ADD MORE CODE CELLS AS NECESSARY."
   ]
  },
  {
   "cell_type": "markdown",
   "metadata": {},
   "source": [
    "**PLEASE TYPE YOUR EXPLANATION HERE.**"
   ]
  },
  {
   "cell_type": "markdown",
   "metadata": {},
   "source": [
    "## Part 3: Aliasing\n",
    "\n",
    "**(a)** Generate a 3-second 2500 Hz sine tone at a sampling rate of 16000 Hz. Listen to it and plot the DFT of the signal."
   ]
  },
  {
   "cell_type": "code",
   "execution_count": null,
   "metadata": {},
   "outputs": [],
   "source": [
    "# PLEASE TYPE YOUR CODE HERE."
   ]
  },
  {
   "cell_type": "markdown",
   "metadata": {},
   "source": [
    "**(b)** Generate a 3-second 2500 Hz sine tone at a sampling rate of 8000 Hz. Listen to it and plot the DFT of the signal."
   ]
  },
  {
   "cell_type": "code",
   "execution_count": null,
   "metadata": {
    "collapsed": true
   },
   "outputs": [],
   "source": [
    "# PLEASE TYPE YOUR CODE HERE."
   ]
  },
  {
   "cell_type": "markdown",
   "metadata": {},
   "source": [
    "**(c)** Generate a 3-second 2500 Hz sine tone at a sampling rate of 4000 Hz. Listen to it and plot the DFT of the signal."
   ]
  },
  {
   "cell_type": "code",
   "execution_count": null,
   "metadata": {
    "collapsed": true
   },
   "outputs": [],
   "source": [
    "# PLEASE TYPE YOUR CODE HERE."
   ]
  },
  {
   "cell_type": "markdown",
   "metadata": {},
   "source": [
    "**(d)** What did you notice in parts (a), (b), and (c) above? Can you explain what you heard / saw?"
   ]
  },
  {
   "cell_type": "markdown",
   "metadata": {},
   "source": [
    "**PLEASE TYPE YOUR EXPLANATION HERE.**"
   ]
  }
 ],
 "metadata": {
  "anaconda-cloud": {},
  "kernelspec": {
   "display_name": "Python 3",
   "language": "python",
   "name": "python3"
  },
  "language_info": {
   "codemirror_mode": {
    "name": "ipython",
    "version": 3
   },
   "file_extension": ".py",
   "mimetype": "text/x-python",
   "name": "python",
   "nbconvert_exporter": "python",
   "pygments_lexer": "ipython3",
   "version": "3.5.3"
  }
 },
 "nbformat": 4,
 "nbformat_minor": 1
}
